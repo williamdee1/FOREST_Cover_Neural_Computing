{
 "cells": [
  {
   "cell_type": "code",
   "execution_count": 2,
   "metadata": {},
   "outputs": [],
   "source": [
    "import pandas as pd\n",
    "import numpy as np\n",
    "from imblearn.over_sampling import SMOTE, BorderlineSMOTE\n",
    "from imblearn.under_sampling import RandomUnderSampler, TomekLinks\n",
    "from sklearn.preprocessing import MinMaxScaler\n",
    "from sklearn.metrics import confusion_matrix, classification_report, make_scorer, accuracy_score\n",
    "from sklearn.model_selection import RandomizedSearchCV, KFold, train_test_split\n",
    "from collections import Counter\n",
    "from sklearn.preprocessing import LabelEncoder\n",
    "import matplotlib.pyplot as plt\n",
    "\n",
    "import torch\n",
    "import torchvision\n",
    "from torch import nn, optim\n",
    "import torch.nn.functional as F\n",
    "from torch.utils.data import DataLoader\n",
    "from torchvision import datasets, transforms\n",
    "from torch.utils.data import Dataset, DataLoader, WeightedRandomSampler\n",
    "import time\n",
    "\n",
    "%matplotlib inline"
   ]
  },
  {
   "cell_type": "markdown",
   "metadata": {},
   "source": [
    "# Load Data:"
   ]
  },
  {
   "cell_type": "code",
   "execution_count": 285,
   "metadata": {},
   "outputs": [],
   "source": [
    "X_train = pd.read_csv('Data/X_train_mlp.csv')\n",
    "y_train = pd.read_csv('Data/y_train_mlp.csv', header = None)"
   ]
  },
  {
   "cell_type": "markdown",
   "metadata": {},
   "source": [
    "# Splitting Out 10% to Hyperparameter Search:"
   ]
  },
  {
   "cell_type": "code",
   "execution_count": 286,
   "metadata": {},
   "outputs": [],
   "source": [
    "# Converting y_train into an array:\n",
    "y_train = np.array(y_train[0])"
   ]
  },
  {
   "cell_type": "code",
   "execution_count": 287,
   "metadata": {},
   "outputs": [],
   "source": [
    "# Using train-test split to split out a random, stratified 10% portion of the training data to grid search:\n",
    "X_gs, X_leave, y_gs, y_leave = train_test_split(X_train, y_train, \n",
    "                                                test_size = 0.9,     # Inverse of the size of the data to search\n",
    "                                                stratify = y_train,  # Keeping same proportion of target classes\n",
    "                                                random_state = 42)  "
   ]
  },
  {
   "cell_type": "code",
   "execution_count": 288,
   "metadata": {},
   "outputs": [],
   "source": [
    "# Converting X to np array:\n",
    "X_gs = X_gs.to_numpy()"
   ]
  },
  {
   "cell_type": "markdown",
   "metadata": {},
   "source": [
    "# Distribution of Forest Cover Types in Dataset:"
   ]
  },
  {
   "cell_type": "code",
   "execution_count": 289,
   "metadata": {},
   "outputs": [
    {
     "data": {
      "text/plain": [
       "array([1, 2, 2, ..., 1, 1, 2], dtype=int64)"
      ]
     },
     "execution_count": 289,
     "metadata": {},
     "output_type": "execute_result"
    }
   ],
   "source": [
    "y_gs"
   ]
  },
  {
   "cell_type": "code",
   "execution_count": 290,
   "metadata": {},
   "outputs": [
    {
     "data": {
      "text/plain": [
       "13558"
      ]
     },
     "execution_count": 290,
     "metadata": {},
     "output_type": "execute_result"
    }
   ],
   "source": [
    "y_gs.tolist().count(1)"
   ]
  },
  {
   "cell_type": "code",
   "execution_count": 291,
   "metadata": {},
   "outputs": [
    {
     "name": "stdout",
     "output_type": "stream",
     "text": [
      "[[    1 13558]\n",
      " [    2 18131]\n",
      " [    3  2288]\n",
      " [    4   176]\n",
      " [    5   607]\n",
      " [    6  1111]\n",
      " [    7  1313]]\n"
     ]
    }
   ],
   "source": [
    "unique, counts = np.unique(y_gs, return_counts=True)\n",
    "\n",
    "print(np.asarray((unique, counts)).T)"
   ]
  },
  {
   "cell_type": "markdown",
   "metadata": {},
   "source": [
    "# Other Functions:"
   ]
  },
  {
   "cell_type": "code",
   "execution_count": 292,
   "metadata": {},
   "outputs": [],
   "source": [
    "class CreatePytorchDataset(Dataset):\n",
    "    \n",
    "    def __init__(self, X_data, y_data):\n",
    "        self.X_data = X_data\n",
    "        self.y_data = y_data\n",
    "    \n",
    "    def __len__(self):\n",
    "        return len(self.X_data)\n",
    "    \n",
    "    def __getitem__(self, idx):\n",
    "        return self.X_data[idx], self.y_data[idx]"
   ]
  },
  {
   "cell_type": "code",
   "execution_count": 293,
   "metadata": {},
   "outputs": [],
   "source": [
    "def calc_acc(y_pred, y_test):\n",
    "    y_pred_torch = torch.log_softmax(y_pred, dim = 1)\n",
    "    _, y_pred_values = torch.max(y_pred_torch, dim = 1)    \n",
    "    correct_pred = (y_pred_values == y_test).float()\n",
    "    accuracy = correct_pred.sum() / len(correct_pred)\n",
    "    accuracy = accuracy * 100\n",
    "    \n",
    "    return accuracy"
   ]
  },
  {
   "cell_type": "markdown",
   "metadata": {},
   "source": [
    "# MLP Model:"
   ]
  },
  {
   "cell_type": "code",
   "execution_count": 294,
   "metadata": {},
   "outputs": [],
   "source": [
    "class MLP(nn.Module):\n",
    "    \n",
    "    def __init__(self, n_features, n_classes, n_neurons, activ, drop):\n",
    "        super(MLP, self).__init__()\n",
    "        \n",
    "        # Define the layers: \n",
    "        # Defining the linear tranformations:\n",
    "        self.fc1 = nn.Linear(n_features, n_neurons)\n",
    "        self.fc2 = nn.Linear(n_neurons, int(n_neurons/2))\n",
    "        self.fc3 = nn.Linear(int(n_neurons/2), int(n_neurons/4))\n",
    "        \n",
    "        # Output layer\n",
    "        self.output = nn.Linear(int(n_neurons/4), n_classes)\n",
    "       \n",
    "        # Batch normalisation layers \n",
    "        # (https://pytorch.org/docs/stable/generated/torch.nn.BatchNorm1d.html?highlight=batchnorm#torch.nn.BatchNorm1d)\n",
    "        self.batchnorm1 = nn.BatchNorm1d(n_neurons)\n",
    "        self.batchnorm2 = nn.BatchNorm1d(int(n_neurons/2))\n",
    "        self.batchnorm3 = nn.BatchNorm1d(int(n_neurons/4))\n",
    "    \n",
    "        # Defining dropout rate:\n",
    "        self.dropout = nn.Dropout(drop) \n",
    "        \n",
    "        # Defining activation function\n",
    "        self.activ = activ\n",
    "        \n",
    "        \n",
    "    # Define forward function\n",
    "    def forward(self, x):\n",
    "        hidden = self.fc1(x)\n",
    "        hidden = self.batchnorm1(hidden)\n",
    "        hidden = self.activ(hidden)\n",
    "        \n",
    "        hidden = self.fc2(hidden)\n",
    "        hidden = self.batchnorm2(hidden)\n",
    "        hidden = self.activ(hidden)  \n",
    "        hidden = self.dropout(hidden)\n",
    "        \n",
    "        hidden = self.fc3(hidden)\n",
    "        hidden = self.batchnorm3(hidden)\n",
    "        hidden = self.activ(hidden)\n",
    "        hidden = self.dropout(hidden)\n",
    "        \n",
    "        output = self.output(hidden)\n",
    "        \n",
    "        return output\n",
    "    "
   ]
  },
  {
   "cell_type": "markdown",
   "metadata": {},
   "source": [
    "# Cross Validation Loop:"
   ]
  },
  {
   "cell_type": "code",
   "execution_count": 303,
   "metadata": {},
   "outputs": [],
   "source": [
    "def cross_val_loop(model, n_epochs, train_loader, val_loader, criterion, optimizer):\n",
    "    \n",
    "    # To track lowest validation loss through epochs, set initially to infinity:\n",
    "    min_val_loss = np.Inf\n",
    "    max_acc = 0\n",
    "    \n",
    "    # List to hold losses through epochs:\n",
    "    val_loss_list = []\n",
    "    \n",
    "    for epoch in range(1, n_epochs+1):\n",
    "        \n",
    "        # Setting initial losses/accuracy to zero, to be updated within batch loops\n",
    "        val_loss_epoch = 0\n",
    "        val_acc_epoch = 0\n",
    "\n",
    "        # TRAINING #\n",
    "        model.train()\n",
    "\n",
    "        for data, target in train_loader:\n",
    "            # Set gradients of model parameters to zero:\n",
    "            optimizer.zero_grad()\n",
    "\n",
    "            # Making predictions based on the training data batch\n",
    "            y_pred_batch = model(data)\n",
    "\n",
    "            # Cross-Entropy Loss:\n",
    "            train_batch_loss = criterion(y_pred_batch, target.flatten())\n",
    "\n",
    "            # Classifications correct within batch, to use to calculate overall accuracy:\n",
    "            train_batch_acc = calc_acc(y_pred_batch, target.flatten())\n",
    "\n",
    "            # Calculate the sum of gradients using backward:\n",
    "            train_batch_loss.backward()\n",
    "\n",
    "            # Update parameters by performing a single optimization:\n",
    "            optimizer.step()\n",
    "\n",
    "\n",
    "        # Disabling gradient calculation to speed up process, as backward will not be called during validation:\n",
    "        with torch.no_grad():\n",
    "            # VALIDATION #\n",
    "            model.eval()\n",
    "\n",
    "            for data, target in val_loader:\n",
    "                # Use the model to predict target in val set batch:\n",
    "                y_pred_val_batch =  model(data)\n",
    "\n",
    "                # Calculate loss and accuracy on val set:\n",
    "                val_batch_loss = criterion(y_pred_val_batch, target.flatten())\n",
    "                val_batch_acc = calc_acc(y_pred_val_batch, target.flatten())\n",
    "\n",
    "                # Update the running loss/accuracy totals:\n",
    "                val_loss_epoch += train_batch_loss.item()\n",
    "                val_acc_epoch += train_batch_acc.item()\n",
    "\n",
    "        # PRINTING STATISTICS #\n",
    "\n",
    "        # Calculate metrics across epoch:\n",
    "\n",
    "        avg_val_loss = val_loss_epoch/ len(val_loader)\n",
    "        avg_val_acc = val_acc_epoch/ len(val_loader)\n",
    "\n",
    "        # Appending lists outside epoch loop to store results:\n",
    "        val_loss_list.append(avg_val_loss)\n",
    "        \n",
    "        if avg_val_loss <= min_val_loss:\n",
    "            # Alter min loss to current avg_val_loss:\n",
    "            min_val_loss = avg_val_loss\n",
    "            \n",
    "        if avg_val_acc >= max_acc:\n",
    "            # Alter min loss to current avg_val_loss:\n",
    "            max_acc = avg_val_acc\n",
    "        \n",
    "        # EARLY STOPPING CRITERIA #\n",
    "        # If validation loss has increased for 5 consequetive epochs, end loop:\n",
    "        # Only run if > 10 epochs gone\n",
    "        if epoch > 10:\n",
    "            # Checks if the last 5 val_losses are all larger than the preceeding one:\n",
    "            if ((val_loss_list[-1]>val_loss_list[-2]) and (val_loss_list[-2]>val_loss_list[-3]) and \n",
    "                (val_loss_list[-3]>val_loss_list[-4]) and (val_loss_list[-4]>val_loss_list[-5]) and \n",
    "                (val_loss_list[-5]>val_loss_list[-6])):\n",
    "                break \n",
    "            \n",
    "\n",
    "    return min_val_loss, max_acc, epoch"
   ]
  },
  {
   "cell_type": "markdown",
   "metadata": {},
   "source": [
    "# Parameter Search Using Over and Under Sampling Methods:"
   ]
  },
  {
   "cell_type": "code",
   "execution_count": 298,
   "metadata": {},
   "outputs": [],
   "source": [
    "# Setting static variables:\n",
    "\n",
    "N_CLASSES = 7\n",
    "N_INPUT_FEAT = 54\n",
    "CRITERION = nn.CrossEntropyLoss()\n",
    "EVAL_METRIC = make_scorer(accuracy_score)\n",
    "max_epochs = 100\n",
    "n_folds = 4\n",
    "kf = KFold(n_splits = n_folds,shuffle = False)"
   ]
  },
  {
   "cell_type": "code",
   "execution_count": 299,
   "metadata": {},
   "outputs": [],
   "source": [
    "# Setting Model and Optimizer (parameters found previously):\n",
    "\n",
    "mlp_model = MLP(n_features=54, n_classes=7, n_neurons=512, activ = nn.LeakyReLU(), drop = 0.1)\n",
    "\n",
    "optimizer = torch.optim.SGD(mlp_model.parameters(), lr = 0.1, momentum = 0.9)"
   ]
  },
  {
   "cell_type": "markdown",
   "metadata": {},
   "source": [
    "## Defining Sampling Strategies:"
   ]
  },
  {
   "cell_type": "code",
   "execution_count": 300,
   "metadata": {},
   "outputs": [],
   "source": [
    "# Sampling strategies to loop through:\n",
    "tomek = [TomekLinks(sampling_strategy=[1,2]), 'None']\n",
    "\n",
    "# Undersampling the two majority classes - Types 1 & 2:\n",
    "unders = [(0.85, 0.85),                   # 15 % undersampling of majority classes\n",
    "          (0.75, 0.75),                   # 25 %\n",
    "          (0.60, 0.60),                   # 40 %\n",
    "          (0.40, 0.40),                   # 60 %\n",
    "          (0.20, 0.20),                   # 80 %\n",
    "          (0.55, 0.40)  ]                 # Imbalanced undersampling\n",
    "\n",
    "# Oversampling the 5 minority classes - Types 3, 4, 5, 6 & 7:\n",
    "overs = [(1.2, 1.2, 1.2, 1.2, 1.2),       # 20% oversampling\n",
    "         (1.5, 1.5, 1.5, 1.5, 1.5),       # 50% oversampling\n",
    "         (2.0, 2.0, 2.0, 2.0, 2.0),       # 100% oversampling\n",
    "         (4.0, 4.0, 4.0, 4.0, 4.0),       # 300% oversampling\n",
    "         (6.0, 6.0, 6.0, 6.0, 6.0),       # 500% oversampling\n",
    "         (2.0, 10.0, 10.0, 5.0, 4.0),     # Imbalanced oversampling\n",
    "         (0),\n",
    "         (1.2, 1.2, 1.2, 1.2, 1.2),       # Borderline SMOTE\n",
    "         (1.5, 1.5, 1.5, 1.5, 1.5),\n",
    "         (2.0, 2.0, 2.0, 2.0, 2.0),\n",
    "         (4.0, 4.0, 4.0, 4.0, 4.0),\n",
    "         (6.0, 6.0, 6.0, 6.0, 6.0),\n",
    "         (2.0, 10.0, 10.0, 5.0, 4.0),\n",
    "         (0),  ]"
   ]
  },
  {
   "cell_type": "code",
   "execution_count": 301,
   "metadata": {},
   "outputs": [],
   "source": [
    "def get_count(array, cov_type, percent):\n",
    "        # Count the number of a specific cover type in the current split array to define sampling bounds:\n",
    "        count = round(array.tolist().count(cov_type)*percent)\n",
    "        return count"
   ]
  },
  {
   "cell_type": "code",
   "execution_count": 315,
   "metadata": {
    "scrolled": true
   },
   "outputs": [
    {
     "name": "stdout",
     "output_type": "stream",
     "text": [
      "TOTAL LOOPS =  672\n",
      "Starting Loop 0\n",
      "Starting Loop 1\n",
      "Starting Loop 2\n",
      "Starting Loop 3\n",
      "Starting Loop 4\n",
      "Starting Loop 5\n",
      "Starting Loop 6\n",
      "Starting Loop 7\n",
      "Starting Loop 8\n",
      "Starting Loop 9\n",
      "Starting Loop 10\n",
      "Starting Loop 11\n",
      "Starting Loop 12\n",
      "Starting Loop 13\n",
      "Starting Loop 14\n",
      "Starting Loop 15\n",
      "Starting Loop 16\n",
      "Starting Loop 17\n",
      "Starting Loop 18\n",
      "Starting Loop 19\n",
      "Starting Loop 20\n",
      "Starting Loop 21\n",
      "Starting Loop 22\n",
      "Starting Loop 23\n",
      "Starting Loop 24\n",
      "Starting Loop 25\n",
      "Starting Loop 26\n",
      "Starting Loop 27\n",
      "Starting Loop 28\n",
      "Starting Loop 29\n",
      "Starting Loop 30\n",
      "Starting Loop 31\n",
      "Starting Loop 32\n",
      "Starting Loop 33\n",
      "Starting Loop 34\n",
      "Starting Loop 35\n",
      "Starting Loop 36\n",
      "Starting Loop 37\n",
      "Starting Loop 38\n",
      "Starting Loop 39\n",
      "Starting Loop 40\n",
      "Starting Loop 41\n",
      "Starting Loop 42\n",
      "Starting Loop 43\n",
      "Starting Loop 44\n",
      "Starting Loop 45\n",
      "Starting Loop 46\n",
      "Starting Loop 47\n",
      "Starting Loop 48\n",
      "Starting Loop 49\n",
      "Starting Loop 50\n",
      "Starting Loop 51\n",
      "Starting Loop 52\n",
      "Starting Loop 53\n",
      "Starting Loop 54\n",
      "Starting Loop 55\n",
      "Starting Loop 56\n",
      "Starting Loop 57\n",
      "Starting Loop 58\n",
      "Starting Loop 59\n",
      "Starting Loop 60\n",
      "Starting Loop 61\n",
      "Starting Loop 62\n",
      "Starting Loop 63\n",
      "Starting Loop 64\n",
      "Starting Loop 65\n",
      "Starting Loop 66\n",
      "Starting Loop 67\n",
      "Starting Loop 68\n",
      "Starting Loop 69\n",
      "Starting Loop 70\n",
      "Starting Loop 71\n"
     ]
    },
    {
     "name": "stderr",
     "output_type": "stream",
     "text": [
      "C:\\Users\\rozhouse\\Anaconda3\\lib\\site-packages\\imblearn\\utils\\_validation.py:326: UserWarning: After over-sampling, the number of samples (10278) in class 3 will be larger than the number of samples in the majority class (class #2 -> 9650)\n",
      "  n_samples_majority,\n"
     ]
    },
    {
     "name": "stdout",
     "output_type": "stream",
     "text": [
      "Starting Loop 72\n"
     ]
    },
    {
     "name": "stderr",
     "output_type": "stream",
     "text": [
      "C:\\Users\\rozhouse\\Anaconda3\\lib\\site-packages\\imblearn\\utils\\_validation.py:326: UserWarning: After over-sampling, the number of samples (10350) in class 3 will be larger than the number of samples in the majority class (class #2 -> 9635)\n",
      "  n_samples_majority,\n"
     ]
    },
    {
     "name": "stdout",
     "output_type": "stream",
     "text": [
      "Starting Loop 73\n"
     ]
    },
    {
     "name": "stderr",
     "output_type": "stream",
     "text": [
      "C:\\Users\\rozhouse\\Anaconda3\\lib\\site-packages\\imblearn\\utils\\_validation.py:326: UserWarning: After over-sampling, the number of samples (10152) in class 3 will be larger than the number of samples in the majority class (class #2 -> 9650)\n",
      "  n_samples_majority,\n"
     ]
    },
    {
     "name": "stdout",
     "output_type": "stream",
     "text": [
      "Starting Loop 74\n"
     ]
    },
    {
     "name": "stderr",
     "output_type": "stream",
     "text": [
      "C:\\Users\\rozhouse\\Anaconda3\\lib\\site-packages\\imblearn\\utils\\_validation.py:326: UserWarning: After over-sampling, the number of samples (10404) in class 3 will be larger than the number of samples in the majority class (class #2 -> 9644)\n",
      "  n_samples_majority,\n"
     ]
    },
    {
     "name": "stdout",
     "output_type": "stream",
     "text": [
      "Starting Loop 75\n",
      "Starting Loop 76\n",
      "Starting Loop 77\n",
      "Starting Loop 78\n",
      "Starting Loop 79\n",
      "Starting Loop 80\n",
      "Starting Loop 81\n",
      "Starting Loop 82\n",
      "Starting Loop 83\n",
      "Starting Loop 84\n",
      "Starting Loop 85\n",
      "Starting Loop 86\n",
      "Starting Loop 87\n",
      "Starting Loop 88\n",
      "Starting Loop 89\n",
      "Starting Loop 90\n",
      "Starting Loop 91\n",
      "Starting Loop 92\n",
      "Starting Loop 93\n",
      "Starting Loop 94\n",
      "Starting Loop 95\n",
      "Starting Loop 96\n",
      "Starting Loop 97\n",
      "Starting Loop 98\n",
      "Starting Loop 99\n"
     ]
    },
    {
     "name": "stderr",
     "output_type": "stream",
     "text": [
      "C:\\Users\\rozhouse\\Anaconda3\\lib\\site-packages\\imblearn\\utils\\_validation.py:326: UserWarning: After over-sampling, the number of samples (10278) in class 3 will be larger than the number of samples in the majority class (class #2 -> 9650)\n",
      "  n_samples_majority,\n"
     ]
    },
    {
     "name": "stdout",
     "output_type": "stream",
     "text": [
      "Starting Loop 100\n"
     ]
    },
    {
     "name": "stderr",
     "output_type": "stream",
     "text": [
      "C:\\Users\\rozhouse\\Anaconda3\\lib\\site-packages\\imblearn\\utils\\_validation.py:326: UserWarning: After over-sampling, the number of samples (10350) in class 3 will be larger than the number of samples in the majority class (class #2 -> 9635)\n",
      "  n_samples_majority,\n"
     ]
    },
    {
     "name": "stdout",
     "output_type": "stream",
     "text": [
      "Starting Loop 101\n"
     ]
    },
    {
     "name": "stderr",
     "output_type": "stream",
     "text": [
      "C:\\Users\\rozhouse\\Anaconda3\\lib\\site-packages\\imblearn\\utils\\_validation.py:326: UserWarning: After over-sampling, the number of samples (10152) in class 3 will be larger than the number of samples in the majority class (class #2 -> 9650)\n",
      "  n_samples_majority,\n"
     ]
    },
    {
     "name": "stdout",
     "output_type": "stream",
     "text": [
      "Starting Loop 102\n"
     ]
    },
    {
     "name": "stderr",
     "output_type": "stream",
     "text": [
      "C:\\Users\\rozhouse\\Anaconda3\\lib\\site-packages\\imblearn\\utils\\_validation.py:326: UserWarning: After over-sampling, the number of samples (10404) in class 3 will be larger than the number of samples in the majority class (class #2 -> 9644)\n",
      "  n_samples_majority,\n"
     ]
    },
    {
     "name": "stdout",
     "output_type": "stream",
     "text": [
      "Starting Loop 103\n",
      "Starting Loop 104\n",
      "Starting Loop 105\n",
      "Starting Loop 106\n",
      "Starting Loop 107\n",
      "Starting Loop 108\n",
      "Starting Loop 109\n",
      "Starting Loop 110\n",
      "Starting Loop 111\n",
      "Starting Loop 112\n",
      "Starting Loop 113\n",
      "Starting Loop 114\n",
      "Starting Loop 115\n",
      "Starting Loop 116\n",
      "Starting Loop 117\n",
      "Starting Loop 118\n",
      "Starting Loop 119\n",
      "Starting Loop 120\n",
      "Starting Loop 121\n",
      "Starting Loop 122\n",
      "Starting Loop 123\n",
      "Starting Loop 124\n",
      "Starting Loop 125\n",
      "Starting Loop 126\n",
      "Starting Loop 127\n"
     ]
    },
    {
     "name": "stderr",
     "output_type": "stream",
     "text": [
      "C:\\Users\\rozhouse\\Anaconda3\\lib\\site-packages\\imblearn\\utils\\_validation.py:326: UserWarning: After over-sampling, the number of samples (10278) in class 3 will be larger than the number of samples in the majority class (class #2 -> 7720)\n",
      "  n_samples_majority,\n"
     ]
    },
    {
     "name": "stdout",
     "output_type": "stream",
     "text": [
      "Starting Loop 128\n"
     ]
    },
    {
     "name": "stderr",
     "output_type": "stream",
     "text": [
      "C:\\Users\\rozhouse\\Anaconda3\\lib\\site-packages\\imblearn\\utils\\_validation.py:326: UserWarning: After over-sampling, the number of samples (10350) in class 3 will be larger than the number of samples in the majority class (class #2 -> 7708)\n",
      "  n_samples_majority,\n"
     ]
    },
    {
     "name": "stdout",
     "output_type": "stream",
     "text": [
      "Starting Loop 129\n"
     ]
    },
    {
     "name": "stderr",
     "output_type": "stream",
     "text": [
      "C:\\Users\\rozhouse\\Anaconda3\\lib\\site-packages\\imblearn\\utils\\_validation.py:326: UserWarning: After over-sampling, the number of samples (10152) in class 3 will be larger than the number of samples in the majority class (class #2 -> 7720)\n",
      "  n_samples_majority,\n"
     ]
    },
    {
     "name": "stdout",
     "output_type": "stream",
     "text": [
      "Starting Loop 130\n"
     ]
    },
    {
     "name": "stderr",
     "output_type": "stream",
     "text": [
      "C:\\Users\\rozhouse\\Anaconda3\\lib\\site-packages\\imblearn\\utils\\_validation.py:326: UserWarning: After over-sampling, the number of samples (10404) in class 3 will be larger than the number of samples in the majority class (class #2 -> 7715)\n",
      "  n_samples_majority,\n"
     ]
    },
    {
     "name": "stdout",
     "output_type": "stream",
     "text": [
      "Starting Loop 131\n",
      "Starting Loop 132\n",
      "Starting Loop 133\n",
      "Starting Loop 134\n",
      "Starting Loop 135\n",
      "Starting Loop 136\n",
      "Starting Loop 137\n",
      "Starting Loop 138\n",
      "Starting Loop 139\n",
      "Starting Loop 140\n",
      "Starting Loop 141\n",
      "Starting Loop 142\n",
      "Starting Loop 143\n",
      "Starting Loop 144\n",
      "Starting Loop 145\n",
      "Starting Loop 146\n",
      "Starting Loop 147\n",
      "Starting Loop 148\n",
      "Starting Loop 149\n",
      "Starting Loop 150\n",
      "Starting Loop 151\n",
      "Starting Loop 152\n",
      "Starting Loop 153\n",
      "Starting Loop 154\n",
      "Starting Loop 155\n"
     ]
    },
    {
     "name": "stderr",
     "output_type": "stream",
     "text": [
      "C:\\Users\\rozhouse\\Anaconda3\\lib\\site-packages\\imblearn\\utils\\_validation.py:326: UserWarning: After over-sampling, the number of samples (10278) in class 3 will be larger than the number of samples in the majority class (class #2 -> 7720)\n",
      "  n_samples_majority,\n"
     ]
    },
    {
     "name": "stdout",
     "output_type": "stream",
     "text": [
      "Starting Loop 156\n"
     ]
    },
    {
     "name": "stderr",
     "output_type": "stream",
     "text": [
      "C:\\Users\\rozhouse\\Anaconda3\\lib\\site-packages\\imblearn\\utils\\_validation.py:326: UserWarning: After over-sampling, the number of samples (10350) in class 3 will be larger than the number of samples in the majority class (class #2 -> 7708)\n",
      "  n_samples_majority,\n"
     ]
    },
    {
     "name": "stdout",
     "output_type": "stream",
     "text": [
      "Starting Loop 157\n"
     ]
    },
    {
     "name": "stderr",
     "output_type": "stream",
     "text": [
      "C:\\Users\\rozhouse\\Anaconda3\\lib\\site-packages\\imblearn\\utils\\_validation.py:326: UserWarning: After over-sampling, the number of samples (10152) in class 3 will be larger than the number of samples in the majority class (class #2 -> 7720)\n",
      "  n_samples_majority,\n"
     ]
    },
    {
     "name": "stdout",
     "output_type": "stream",
     "text": [
      "Starting Loop 158\n"
     ]
    },
    {
     "name": "stderr",
     "output_type": "stream",
     "text": [
      "C:\\Users\\rozhouse\\Anaconda3\\lib\\site-packages\\imblearn\\utils\\_validation.py:326: UserWarning: After over-sampling, the number of samples (10404) in class 3 will be larger than the number of samples in the majority class (class #2 -> 7715)\n",
      "  n_samples_majority,\n"
     ]
    },
    {
     "name": "stdout",
     "output_type": "stream",
     "text": [
      "Starting Loop 159\n",
      "Starting Loop 160\n",
      "Starting Loop 161\n",
      "Starting Loop 162\n",
      "Starting Loop 163\n",
      "Starting Loop 164\n",
      "Starting Loop 165\n",
      "Starting Loop 166\n",
      "Starting Loop 167\n",
      "Starting Loop 168\n",
      "Starting Loop 169\n",
      "Starting Loop 170\n",
      "Starting Loop 171\n",
      "Starting Loop 172\n",
      "Starting Loop 173\n",
      "Starting Loop 174\n",
      "Starting Loop 175\n",
      "Starting Loop 176\n",
      "Starting Loop 177\n",
      "Starting Loop 178\n",
      "Starting Loop 179\n"
     ]
    },
    {
     "name": "stderr",
     "output_type": "stream",
     "text": [
      "C:\\Users\\rozhouse\\Anaconda3\\lib\\site-packages\\imblearn\\utils\\_validation.py:326: UserWarning: After over-sampling, the number of samples (6852) in class 3 will be larger than the number of samples in the majority class (class #2 -> 5146)\n",
      "  n_samples_majority,\n"
     ]
    },
    {
     "name": "stdout",
     "output_type": "stream",
     "text": [
      "Starting Loop 180\n"
     ]
    },
    {
     "name": "stderr",
     "output_type": "stream",
     "text": [
      "C:\\Users\\rozhouse\\Anaconda3\\lib\\site-packages\\imblearn\\utils\\_validation.py:326: UserWarning: After over-sampling, the number of samples (6900) in class 3 will be larger than the number of samples in the majority class (class #2 -> 5139)\n",
      "  n_samples_majority,\n"
     ]
    },
    {
     "name": "stdout",
     "output_type": "stream",
     "text": [
      "Starting Loop 181\n"
     ]
    },
    {
     "name": "stderr",
     "output_type": "stream",
     "text": [
      "C:\\Users\\rozhouse\\Anaconda3\\lib\\site-packages\\imblearn\\utils\\_validation.py:326: UserWarning: After over-sampling, the number of samples (6768) in class 3 will be larger than the number of samples in the majority class (class #2 -> 5147)\n",
      "  n_samples_majority,\n"
     ]
    },
    {
     "name": "stdout",
     "output_type": "stream",
     "text": [
      "Starting Loop 182\n"
     ]
    },
    {
     "name": "stderr",
     "output_type": "stream",
     "text": [
      "C:\\Users\\rozhouse\\Anaconda3\\lib\\site-packages\\imblearn\\utils\\_validation.py:326: UserWarning: After over-sampling, the number of samples (6936) in class 3 will be larger than the number of samples in the majority class (class #2 -> 5143)\n",
      "  n_samples_majority,\n"
     ]
    },
    {
     "name": "stdout",
     "output_type": "stream",
     "text": [
      "Starting Loop 183\n"
     ]
    },
    {
     "name": "stderr",
     "output_type": "stream",
     "text": [
      "C:\\Users\\rozhouse\\Anaconda3\\lib\\site-packages\\imblearn\\utils\\_validation.py:326: UserWarning: After over-sampling, the number of samples (10278) in class 3 will be larger than the number of samples in the majority class (class #2 -> 5146)\n",
      "  n_samples_majority,\n",
      "C:\\Users\\rozhouse\\Anaconda3\\lib\\site-packages\\imblearn\\utils\\_validation.py:326: UserWarning: After over-sampling, the number of samples (5880) in class 7 will be larger than the number of samples in the majority class (class #2 -> 5146)\n",
      "  n_samples_majority,\n"
     ]
    },
    {
     "name": "stdout",
     "output_type": "stream",
     "text": [
      "Starting Loop 184\n"
     ]
    },
    {
     "name": "stderr",
     "output_type": "stream",
     "text": [
      "C:\\Users\\rozhouse\\Anaconda3\\lib\\site-packages\\imblearn\\utils\\_validation.py:326: UserWarning: After over-sampling, the number of samples (10350) in class 3 will be larger than the number of samples in the majority class (class #2 -> 5139)\n",
      "  n_samples_majority,\n",
      "C:\\Users\\rozhouse\\Anaconda3\\lib\\site-packages\\imblearn\\utils\\_validation.py:326: UserWarning: After over-sampling, the number of samples (6012) in class 7 will be larger than the number of samples in the majority class (class #2 -> 5139)\n",
      "  n_samples_majority,\n"
     ]
    },
    {
     "name": "stdout",
     "output_type": "stream",
     "text": [
      "Starting Loop 185\n"
     ]
    },
    {
     "name": "stderr",
     "output_type": "stream",
     "text": [
      "C:\\Users\\rozhouse\\Anaconda3\\lib\\site-packages\\imblearn\\utils\\_validation.py:326: UserWarning: After over-sampling, the number of samples (10152) in class 3 will be larger than the number of samples in the majority class (class #2 -> 5147)\n",
      "  n_samples_majority,\n",
      "C:\\Users\\rozhouse\\Anaconda3\\lib\\site-packages\\imblearn\\utils\\_validation.py:326: UserWarning: After over-sampling, the number of samples (5982) in class 7 will be larger than the number of samples in the majority class (class #2 -> 5147)\n",
      "  n_samples_majority,\n"
     ]
    },
    {
     "name": "stdout",
     "output_type": "stream",
     "text": [
      "Starting Loop 186\n"
     ]
    },
    {
     "name": "stderr",
     "output_type": "stream",
     "text": [
      "C:\\Users\\rozhouse\\Anaconda3\\lib\\site-packages\\imblearn\\utils\\_validation.py:326: UserWarning: After over-sampling, the number of samples (10404) in class 3 will be larger than the number of samples in the majority class (class #2 -> 5143)\n",
      "  n_samples_majority,\n",
      "C:\\Users\\rozhouse\\Anaconda3\\lib\\site-packages\\imblearn\\utils\\_validation.py:326: UserWarning: After over-sampling, the number of samples (5760) in class 7 will be larger than the number of samples in the majority class (class #2 -> 5143)\n",
      "  n_samples_majority,\n"
     ]
    },
    {
     "name": "stdout",
     "output_type": "stream",
     "text": [
      "Starting Loop 187\n",
      "Starting Loop 188\n",
      "Starting Loop 189\n",
      "Starting Loop 190\n",
      "Starting Loop 191\n",
      "Starting Loop 192\n",
      "Starting Loop 193\n",
      "Starting Loop 194\n",
      "Starting Loop 195\n",
      "Starting Loop 196\n",
      "Starting Loop 197\n",
      "Starting Loop 198\n",
      "Starting Loop 199\n",
      "Starting Loop 200\n",
      "Starting Loop 201\n",
      "Starting Loop 202\n",
      "Starting Loop 203\n",
      "Starting Loop 204\n",
      "Starting Loop 205\n",
      "Starting Loop 206\n",
      "Starting Loop 207\n"
     ]
    },
    {
     "name": "stderr",
     "output_type": "stream",
     "text": [
      "C:\\Users\\rozhouse\\Anaconda3\\lib\\site-packages\\imblearn\\utils\\_validation.py:326: UserWarning: After over-sampling, the number of samples (6852) in class 3 will be larger than the number of samples in the majority class (class #2 -> 5146)\n",
      "  n_samples_majority,\n"
     ]
    },
    {
     "name": "stdout",
     "output_type": "stream",
     "text": [
      "Starting Loop 208\n"
     ]
    },
    {
     "name": "stderr",
     "output_type": "stream",
     "text": [
      "C:\\Users\\rozhouse\\Anaconda3\\lib\\site-packages\\imblearn\\utils\\_validation.py:326: UserWarning: After over-sampling, the number of samples (6900) in class 3 will be larger than the number of samples in the majority class (class #2 -> 5139)\n",
      "  n_samples_majority,\n"
     ]
    },
    {
     "name": "stdout",
     "output_type": "stream",
     "text": [
      "Starting Loop 209\n"
     ]
    },
    {
     "name": "stderr",
     "output_type": "stream",
     "text": [
      "C:\\Users\\rozhouse\\Anaconda3\\lib\\site-packages\\imblearn\\utils\\_validation.py:326: UserWarning: After over-sampling, the number of samples (6768) in class 3 will be larger than the number of samples in the majority class (class #2 -> 5147)\n",
      "  n_samples_majority,\n"
     ]
    },
    {
     "name": "stdout",
     "output_type": "stream",
     "text": [
      "Starting Loop 210\n"
     ]
    },
    {
     "name": "stderr",
     "output_type": "stream",
     "text": [
      "C:\\Users\\rozhouse\\Anaconda3\\lib\\site-packages\\imblearn\\utils\\_validation.py:326: UserWarning: After over-sampling, the number of samples (6936) in class 3 will be larger than the number of samples in the majority class (class #2 -> 5143)\n",
      "  n_samples_majority,\n"
     ]
    },
    {
     "name": "stdout",
     "output_type": "stream",
     "text": [
      "Starting Loop 211\n"
     ]
    },
    {
     "name": "stderr",
     "output_type": "stream",
     "text": [
      "C:\\Users\\rozhouse\\Anaconda3\\lib\\site-packages\\imblearn\\utils\\_validation.py:326: UserWarning: After over-sampling, the number of samples (10278) in class 3 will be larger than the number of samples in the majority class (class #2 -> 5146)\n",
      "  n_samples_majority,\n",
      "C:\\Users\\rozhouse\\Anaconda3\\lib\\site-packages\\imblearn\\utils\\_validation.py:326: UserWarning: After over-sampling, the number of samples (5880) in class 7 will be larger than the number of samples in the majority class (class #2 -> 5146)\n",
      "  n_samples_majority,\n"
     ]
    },
    {
     "name": "stdout",
     "output_type": "stream",
     "text": [
      "Starting Loop 212\n"
     ]
    },
    {
     "name": "stderr",
     "output_type": "stream",
     "text": [
      "C:\\Users\\rozhouse\\Anaconda3\\lib\\site-packages\\imblearn\\utils\\_validation.py:326: UserWarning: After over-sampling, the number of samples (10350) in class 3 will be larger than the number of samples in the majority class (class #2 -> 5139)\n",
      "  n_samples_majority,\n",
      "C:\\Users\\rozhouse\\Anaconda3\\lib\\site-packages\\imblearn\\utils\\_validation.py:326: UserWarning: After over-sampling, the number of samples (6012) in class 7 will be larger than the number of samples in the majority class (class #2 -> 5139)\n",
      "  n_samples_majority,\n"
     ]
    },
    {
     "name": "stdout",
     "output_type": "stream",
     "text": [
      "Starting Loop 213\n"
     ]
    },
    {
     "name": "stderr",
     "output_type": "stream",
     "text": [
      "C:\\Users\\rozhouse\\Anaconda3\\lib\\site-packages\\imblearn\\utils\\_validation.py:326: UserWarning: After over-sampling, the number of samples (10152) in class 3 will be larger than the number of samples in the majority class (class #2 -> 5147)\n",
      "  n_samples_majority,\n",
      "C:\\Users\\rozhouse\\Anaconda3\\lib\\site-packages\\imblearn\\utils\\_validation.py:326: UserWarning: After over-sampling, the number of samples (5982) in class 7 will be larger than the number of samples in the majority class (class #2 -> 5147)\n",
      "  n_samples_majority,\n"
     ]
    },
    {
     "name": "stdout",
     "output_type": "stream",
     "text": [
      "Starting Loop 214\n"
     ]
    },
    {
     "name": "stderr",
     "output_type": "stream",
     "text": [
      "C:\\Users\\rozhouse\\Anaconda3\\lib\\site-packages\\imblearn\\utils\\_validation.py:326: UserWarning: After over-sampling, the number of samples (10404) in class 3 will be larger than the number of samples in the majority class (class #2 -> 5143)\n",
      "  n_samples_majority,\n",
      "C:\\Users\\rozhouse\\Anaconda3\\lib\\site-packages\\imblearn\\utils\\_validation.py:326: UserWarning: After over-sampling, the number of samples (5760) in class 7 will be larger than the number of samples in the majority class (class #2 -> 5143)\n",
      "  n_samples_majority,\n"
     ]
    },
    {
     "name": "stdout",
     "output_type": "stream",
     "text": [
      "Starting Loop 215\n",
      "Starting Loop 216\n",
      "Starting Loop 217\n",
      "Starting Loop 218\n",
      "Starting Loop 219\n",
      "Starting Loop 220\n",
      "Starting Loop 221\n",
      "Starting Loop 222\n",
      "Starting Loop 223\n",
      "Starting Loop 224\n",
      "Starting Loop 225\n",
      "Starting Loop 226\n",
      "Starting Loop 227\n",
      "Starting Loop 228\n"
     ]
    },
    {
     "name": "stderr",
     "output_type": "stream",
     "text": [
      "C:\\Users\\rozhouse\\Anaconda3\\lib\\site-packages\\imblearn\\utils\\_validation.py:326: UserWarning: After over-sampling, the number of samples (2588) in class 3 will be larger than the number of samples in the majority class (class #2 -> 2569)\n",
      "  n_samples_majority,\n"
     ]
    },
    {
     "name": "stdout",
     "output_type": "stream",
     "text": [
      "Starting Loop 229\n",
      "Starting Loop 230\n"
     ]
    },
    {
     "name": "stderr",
     "output_type": "stream",
     "text": [
      "C:\\Users\\rozhouse\\Anaconda3\\lib\\site-packages\\imblearn\\utils\\_validation.py:326: UserWarning: After over-sampling, the number of samples (2601) in class 3 will be larger than the number of samples in the majority class (class #2 -> 2572)\n",
      "  n_samples_majority,\n"
     ]
    },
    {
     "name": "stdout",
     "output_type": "stream",
     "text": [
      "Starting Loop 231\n"
     ]
    },
    {
     "name": "stderr",
     "output_type": "stream",
     "text": [
      "C:\\Users\\rozhouse\\Anaconda3\\lib\\site-packages\\imblearn\\utils\\_validation.py:326: UserWarning: After over-sampling, the number of samples (3426) in class 3 will be larger than the number of samples in the majority class (class #2 -> 2573)\n",
      "  n_samples_majority,\n"
     ]
    },
    {
     "name": "stdout",
     "output_type": "stream",
     "text": [
      "Starting Loop 232\n"
     ]
    },
    {
     "name": "stderr",
     "output_type": "stream",
     "text": [
      "C:\\Users\\rozhouse\\Anaconda3\\lib\\site-packages\\imblearn\\utils\\_validation.py:326: UserWarning: After over-sampling, the number of samples (3450) in class 3 will be larger than the number of samples in the majority class (class #2 -> 2569)\n",
      "  n_samples_majority,\n"
     ]
    },
    {
     "name": "stdout",
     "output_type": "stream",
     "text": [
      "Starting Loop 233\n"
     ]
    },
    {
     "name": "stderr",
     "output_type": "stream",
     "text": [
      "C:\\Users\\rozhouse\\Anaconda3\\lib\\site-packages\\imblearn\\utils\\_validation.py:326: UserWarning: After over-sampling, the number of samples (3384) in class 3 will be larger than the number of samples in the majority class (class #2 -> 2573)\n",
      "  n_samples_majority,\n"
     ]
    },
    {
     "name": "stdout",
     "output_type": "stream",
     "text": [
      "Starting Loop 234\n"
     ]
    },
    {
     "name": "stderr",
     "output_type": "stream",
     "text": [
      "C:\\Users\\rozhouse\\Anaconda3\\lib\\site-packages\\imblearn\\utils\\_validation.py:326: UserWarning: After over-sampling, the number of samples (3468) in class 3 will be larger than the number of samples in the majority class (class #2 -> 2572)\n",
      "  n_samples_majority,\n"
     ]
    },
    {
     "name": "stdout",
     "output_type": "stream",
     "text": [
      "Starting Loop 235\n"
     ]
    },
    {
     "name": "stderr",
     "output_type": "stream",
     "text": [
      "C:\\Users\\rozhouse\\Anaconda3\\lib\\site-packages\\imblearn\\utils\\_validation.py:326: UserWarning: After over-sampling, the number of samples (6852) in class 3 will be larger than the number of samples in the majority class (class #2 -> 2573)\n",
      "  n_samples_majority,\n",
      "C:\\Users\\rozhouse\\Anaconda3\\lib\\site-packages\\imblearn\\utils\\_validation.py:326: UserWarning: After over-sampling, the number of samples (3248) in class 6 will be larger than the number of samples in the majority class (class #2 -> 2573)\n",
      "  n_samples_majority,\n",
      "C:\\Users\\rozhouse\\Anaconda3\\lib\\site-packages\\imblearn\\utils\\_validation.py:326: UserWarning: After over-sampling, the number of samples (3920) in class 7 will be larger than the number of samples in the majority class (class #2 -> 2573)\n",
      "  n_samples_majority,\n"
     ]
    },
    {
     "name": "stdout",
     "output_type": "stream",
     "text": [
      "Starting Loop 236\n"
     ]
    },
    {
     "name": "stderr",
     "output_type": "stream",
     "text": [
      "C:\\Users\\rozhouse\\Anaconda3\\lib\\site-packages\\imblearn\\utils\\_validation.py:326: UserWarning: After over-sampling, the number of samples (6900) in class 3 will be larger than the number of samples in the majority class (class #2 -> 2569)\n",
      "  n_samples_majority,\n",
      "C:\\Users\\rozhouse\\Anaconda3\\lib\\site-packages\\imblearn\\utils\\_validation.py:326: UserWarning: After over-sampling, the number of samples (3336) in class 6 will be larger than the number of samples in the majority class (class #2 -> 2569)\n",
      "  n_samples_majority,\n",
      "C:\\Users\\rozhouse\\Anaconda3\\lib\\site-packages\\imblearn\\utils\\_validation.py:326: UserWarning: After over-sampling, the number of samples (4008) in class 7 will be larger than the number of samples in the majority class (class #2 -> 2569)\n",
      "  n_samples_majority,\n"
     ]
    },
    {
     "name": "stdout",
     "output_type": "stream",
     "text": [
      "Starting Loop 237\n"
     ]
    },
    {
     "name": "stderr",
     "output_type": "stream",
     "text": [
      "C:\\Users\\rozhouse\\Anaconda3\\lib\\site-packages\\imblearn\\utils\\_validation.py:326: UserWarning: After over-sampling, the number of samples (6768) in class 3 will be larger than the number of samples in the majority class (class #2 -> 2573)\n",
      "  n_samples_majority,\n",
      "C:\\Users\\rozhouse\\Anaconda3\\lib\\site-packages\\imblearn\\utils\\_validation.py:326: UserWarning: After over-sampling, the number of samples (3356) in class 6 will be larger than the number of samples in the majority class (class #2 -> 2573)\n",
      "  n_samples_majority,\n",
      "C:\\Users\\rozhouse\\Anaconda3\\lib\\site-packages\\imblearn\\utils\\_validation.py:326: UserWarning: After over-sampling, the number of samples (3988) in class 7 will be larger than the number of samples in the majority class (class #2 -> 2573)\n",
      "  n_samples_majority,\n"
     ]
    },
    {
     "name": "stdout",
     "output_type": "stream",
     "text": [
      "Starting Loop 238\n"
     ]
    },
    {
     "name": "stderr",
     "output_type": "stream",
     "text": [
      "C:\\Users\\rozhouse\\Anaconda3\\lib\\site-packages\\imblearn\\utils\\_validation.py:326: UserWarning: After over-sampling, the number of samples (6936) in class 3 will be larger than the number of samples in the majority class (class #2 -> 2572)\n",
      "  n_samples_majority,\n",
      "C:\\Users\\rozhouse\\Anaconda3\\lib\\site-packages\\imblearn\\utils\\_validation.py:326: UserWarning: After over-sampling, the number of samples (3392) in class 6 will be larger than the number of samples in the majority class (class #2 -> 2572)\n",
      "  n_samples_majority,\n",
      "C:\\Users\\rozhouse\\Anaconda3\\lib\\site-packages\\imblearn\\utils\\_validation.py:326: UserWarning: After over-sampling, the number of samples (3840) in class 7 will be larger than the number of samples in the majority class (class #2 -> 2572)\n",
      "  n_samples_majority,\n"
     ]
    },
    {
     "name": "stdout",
     "output_type": "stream",
     "text": [
      "Starting Loop 239\n"
     ]
    },
    {
     "name": "stderr",
     "output_type": "stream",
     "text": [
      "C:\\Users\\rozhouse\\Anaconda3\\lib\\site-packages\\imblearn\\utils\\_validation.py:326: UserWarning: After over-sampling, the number of samples (10278) in class 3 will be larger than the number of samples in the majority class (class #2 -> 2573)\n",
      "  n_samples_majority,\n",
      "C:\\Users\\rozhouse\\Anaconda3\\lib\\site-packages\\imblearn\\utils\\_validation.py:326: UserWarning: After over-sampling, the number of samples (2682) in class 5 will be larger than the number of samples in the majority class (class #2 -> 2573)\n",
      "  n_samples_majority,\n",
      "C:\\Users\\rozhouse\\Anaconda3\\lib\\site-packages\\imblearn\\utils\\_validation.py:326: UserWarning: After over-sampling, the number of samples (4872) in class 6 will be larger than the number of samples in the majority class (class #2 -> 2573)\n",
      "  n_samples_majority,\n",
      "C:\\Users\\rozhouse\\Anaconda3\\lib\\site-packages\\imblearn\\utils\\_validation.py:326: UserWarning: After over-sampling, the number of samples (5880) in class 7 will be larger than the number of samples in the majority class (class #2 -> 2573)\n",
      "  n_samples_majority,\n"
     ]
    },
    {
     "name": "stdout",
     "output_type": "stream",
     "text": [
      "Starting Loop 240\n"
     ]
    },
    {
     "name": "stderr",
     "output_type": "stream",
     "text": [
      "C:\\Users\\rozhouse\\Anaconda3\\lib\\site-packages\\imblearn\\utils\\_validation.py:326: UserWarning: After over-sampling, the number of samples (10350) in class 3 will be larger than the number of samples in the majority class (class #2 -> 2569)\n",
      "  n_samples_majority,\n",
      "C:\\Users\\rozhouse\\Anaconda3\\lib\\site-packages\\imblearn\\utils\\_validation.py:326: UserWarning: After over-sampling, the number of samples (2688) in class 5 will be larger than the number of samples in the majority class (class #2 -> 2569)\n",
      "  n_samples_majority,\n",
      "C:\\Users\\rozhouse\\Anaconda3\\lib\\site-packages\\imblearn\\utils\\_validation.py:326: UserWarning: After over-sampling, the number of samples (5004) in class 6 will be larger than the number of samples in the majority class (class #2 -> 2569)\n",
      "  n_samples_majority,\n",
      "C:\\Users\\rozhouse\\Anaconda3\\lib\\site-packages\\imblearn\\utils\\_validation.py:326: UserWarning: After over-sampling, the number of samples (6012) in class 7 will be larger than the number of samples in the majority class (class #2 -> 2569)\n",
      "  n_samples_majority,\n"
     ]
    },
    {
     "name": "stdout",
     "output_type": "stream",
     "text": [
      "Starting Loop 241\n"
     ]
    },
    {
     "name": "stderr",
     "output_type": "stream",
     "text": [
      "C:\\Users\\rozhouse\\Anaconda3\\lib\\site-packages\\imblearn\\utils\\_validation.py:326: UserWarning: After over-sampling, the number of samples (10152) in class 3 will be larger than the number of samples in the majority class (class #2 -> 2573)\n",
      "  n_samples_majority,\n",
      "C:\\Users\\rozhouse\\Anaconda3\\lib\\site-packages\\imblearn\\utils\\_validation.py:326: UserWarning: After over-sampling, the number of samples (2688) in class 5 will be larger than the number of samples in the majority class (class #2 -> 2573)\n",
      "  n_samples_majority,\n",
      "C:\\Users\\rozhouse\\Anaconda3\\lib\\site-packages\\imblearn\\utils\\_validation.py:326: UserWarning: After over-sampling, the number of samples (5034) in class 6 will be larger than the number of samples in the majority class (class #2 -> 2573)\n",
      "  n_samples_majority,\n",
      "C:\\Users\\rozhouse\\Anaconda3\\lib\\site-packages\\imblearn\\utils\\_validation.py:326: UserWarning: After over-sampling, the number of samples (5982) in class 7 will be larger than the number of samples in the majority class (class #2 -> 2573)\n",
      "  n_samples_majority,\n"
     ]
    },
    {
     "name": "stdout",
     "output_type": "stream",
     "text": [
      "Starting Loop 242\n"
     ]
    },
    {
     "name": "stderr",
     "output_type": "stream",
     "text": [
      "C:\\Users\\rozhouse\\Anaconda3\\lib\\site-packages\\imblearn\\utils\\_validation.py:326: UserWarning: After over-sampling, the number of samples (10404) in class 3 will be larger than the number of samples in the majority class (class #2 -> 2572)\n",
      "  n_samples_majority,\n",
      "C:\\Users\\rozhouse\\Anaconda3\\lib\\site-packages\\imblearn\\utils\\_validation.py:326: UserWarning: After over-sampling, the number of samples (2868) in class 5 will be larger than the number of samples in the majority class (class #2 -> 2572)\n",
      "  n_samples_majority,\n",
      "C:\\Users\\rozhouse\\Anaconda3\\lib\\site-packages\\imblearn\\utils\\_validation.py:326: UserWarning: After over-sampling, the number of samples (5088) in class 6 will be larger than the number of samples in the majority class (class #2 -> 2572)\n",
      "  n_samples_majority,\n",
      "C:\\Users\\rozhouse\\Anaconda3\\lib\\site-packages\\imblearn\\utils\\_validation.py:326: UserWarning: After over-sampling, the number of samples (5760) in class 7 will be larger than the number of samples in the majority class (class #2 -> 2572)\n",
      "  n_samples_majority,\n"
     ]
    },
    {
     "name": "stdout",
     "output_type": "stream",
     "text": [
      "Starting Loop 243\n"
     ]
    },
    {
     "name": "stderr",
     "output_type": "stream",
     "text": [
      "C:\\Users\\rozhouse\\Anaconda3\\lib\\site-packages\\imblearn\\utils\\_validation.py:326: UserWarning: After over-sampling, the number of samples (3426) in class 3 will be larger than the number of samples in the majority class (class #2 -> 2573)\n",
      "  n_samples_majority,\n",
      "C:\\Users\\rozhouse\\Anaconda3\\lib\\site-packages\\imblearn\\utils\\_validation.py:326: UserWarning: After over-sampling, the number of samples (4470) in class 5 will be larger than the number of samples in the majority class (class #2 -> 2573)\n",
      "  n_samples_majority,\n",
      "C:\\Users\\rozhouse\\Anaconda3\\lib\\site-packages\\imblearn\\utils\\_validation.py:326: UserWarning: After over-sampling, the number of samples (4060) in class 6 will be larger than the number of samples in the majority class (class #2 -> 2573)\n",
      "  n_samples_majority,\n",
      "C:\\Users\\rozhouse\\Anaconda3\\lib\\site-packages\\imblearn\\utils\\_validation.py:326: UserWarning: After over-sampling, the number of samples (3920) in class 7 will be larger than the number of samples in the majority class (class #2 -> 2573)\n",
      "  n_samples_majority,\n"
     ]
    },
    {
     "name": "stdout",
     "output_type": "stream",
     "text": [
      "Starting Loop 244\n"
     ]
    },
    {
     "name": "stderr",
     "output_type": "stream",
     "text": [
      "C:\\Users\\rozhouse\\Anaconda3\\lib\\site-packages\\imblearn\\utils\\_validation.py:326: UserWarning: After over-sampling, the number of samples (3450) in class 3 will be larger than the number of samples in the majority class (class #2 -> 2569)\n",
      "  n_samples_majority,\n",
      "C:\\Users\\rozhouse\\Anaconda3\\lib\\site-packages\\imblearn\\utils\\_validation.py:326: UserWarning: After over-sampling, the number of samples (4480) in class 5 will be larger than the number of samples in the majority class (class #2 -> 2569)\n",
      "  n_samples_majority,\n",
      "C:\\Users\\rozhouse\\Anaconda3\\lib\\site-packages\\imblearn\\utils\\_validation.py:326: UserWarning: After over-sampling, the number of samples (4170) in class 6 will be larger than the number of samples in the majority class (class #2 -> 2569)\n",
      "  n_samples_majority,\n",
      "C:\\Users\\rozhouse\\Anaconda3\\lib\\site-packages\\imblearn\\utils\\_validation.py:326: UserWarning: After over-sampling, the number of samples (4008) in class 7 will be larger than the number of samples in the majority class (class #2 -> 2569)\n",
      "  n_samples_majority,\n"
     ]
    },
    {
     "name": "stdout",
     "output_type": "stream",
     "text": [
      "Starting Loop 245\n"
     ]
    },
    {
     "name": "stderr",
     "output_type": "stream",
     "text": [
      "C:\\Users\\rozhouse\\Anaconda3\\lib\\site-packages\\imblearn\\utils\\_validation.py:326: UserWarning: After over-sampling, the number of samples (3384) in class 3 will be larger than the number of samples in the majority class (class #2 -> 2573)\n",
      "  n_samples_majority,\n",
      "C:\\Users\\rozhouse\\Anaconda3\\lib\\site-packages\\imblearn\\utils\\_validation.py:326: UserWarning: After over-sampling, the number of samples (4480) in class 5 will be larger than the number of samples in the majority class (class #2 -> 2573)\n",
      "  n_samples_majority,\n",
      "C:\\Users\\rozhouse\\Anaconda3\\lib\\site-packages\\imblearn\\utils\\_validation.py:326: UserWarning: After over-sampling, the number of samples (4195) in class 6 will be larger than the number of samples in the majority class (class #2 -> 2573)\n",
      "  n_samples_majority,\n",
      "C:\\Users\\rozhouse\\Anaconda3\\lib\\site-packages\\imblearn\\utils\\_validation.py:326: UserWarning: After over-sampling, the number of samples (3988) in class 7 will be larger than the number of samples in the majority class (class #2 -> 2573)\n",
      "  n_samples_majority,\n"
     ]
    },
    {
     "name": "stdout",
     "output_type": "stream",
     "text": [
      "Starting Loop 246\n"
     ]
    },
    {
     "name": "stderr",
     "output_type": "stream",
     "text": [
      "C:\\Users\\rozhouse\\Anaconda3\\lib\\site-packages\\imblearn\\utils\\_validation.py:326: UserWarning: After over-sampling, the number of samples (3468) in class 3 will be larger than the number of samples in the majority class (class #2 -> 2572)\n",
      "  n_samples_majority,\n",
      "C:\\Users\\rozhouse\\Anaconda3\\lib\\site-packages\\imblearn\\utils\\_validation.py:326: UserWarning: After over-sampling, the number of samples (4780) in class 5 will be larger than the number of samples in the majority class (class #2 -> 2572)\n",
      "  n_samples_majority,\n",
      "C:\\Users\\rozhouse\\Anaconda3\\lib\\site-packages\\imblearn\\utils\\_validation.py:326: UserWarning: After over-sampling, the number of samples (4240) in class 6 will be larger than the number of samples in the majority class (class #2 -> 2572)\n",
      "  n_samples_majority,\n",
      "C:\\Users\\rozhouse\\Anaconda3\\lib\\site-packages\\imblearn\\utils\\_validation.py:326: UserWarning: After over-sampling, the number of samples (3840) in class 7 will be larger than the number of samples in the majority class (class #2 -> 2572)\n",
      "  n_samples_majority,\n"
     ]
    },
    {
     "name": "stdout",
     "output_type": "stream",
     "text": [
      "Starting Loop 247\n",
      "Starting Loop 248\n",
      "Starting Loop 249\n",
      "Starting Loop 250\n",
      "Starting Loop 251\n",
      "Starting Loop 252\n",
      "Starting Loop 253\n",
      "Starting Loop 254\n",
      "Starting Loop 255\n",
      "Starting Loop 256\n"
     ]
    },
    {
     "name": "stderr",
     "output_type": "stream",
     "text": [
      "C:\\Users\\rozhouse\\Anaconda3\\lib\\site-packages\\imblearn\\utils\\_validation.py:326: UserWarning: After over-sampling, the number of samples (2588) in class 3 will be larger than the number of samples in the majority class (class #2 -> 2569)\n",
      "  n_samples_majority,\n"
     ]
    },
    {
     "name": "stdout",
     "output_type": "stream",
     "text": [
      "Starting Loop 257\n",
      "Starting Loop 258\n"
     ]
    },
    {
     "name": "stderr",
     "output_type": "stream",
     "text": [
      "C:\\Users\\rozhouse\\Anaconda3\\lib\\site-packages\\imblearn\\utils\\_validation.py:326: UserWarning: After over-sampling, the number of samples (2601) in class 3 will be larger than the number of samples in the majority class (class #2 -> 2572)\n",
      "  n_samples_majority,\n"
     ]
    },
    {
     "name": "stdout",
     "output_type": "stream",
     "text": [
      "Starting Loop 259\n"
     ]
    },
    {
     "name": "stderr",
     "output_type": "stream",
     "text": [
      "C:\\Users\\rozhouse\\Anaconda3\\lib\\site-packages\\imblearn\\utils\\_validation.py:326: UserWarning: After over-sampling, the number of samples (3426) in class 3 will be larger than the number of samples in the majority class (class #2 -> 2573)\n",
      "  n_samples_majority,\n"
     ]
    },
    {
     "name": "stdout",
     "output_type": "stream",
     "text": [
      "Starting Loop 260\n"
     ]
    },
    {
     "name": "stderr",
     "output_type": "stream",
     "text": [
      "C:\\Users\\rozhouse\\Anaconda3\\lib\\site-packages\\imblearn\\utils\\_validation.py:326: UserWarning: After over-sampling, the number of samples (3450) in class 3 will be larger than the number of samples in the majority class (class #2 -> 2569)\n",
      "  n_samples_majority,\n"
     ]
    },
    {
     "name": "stdout",
     "output_type": "stream",
     "text": [
      "Starting Loop 261\n"
     ]
    },
    {
     "name": "stderr",
     "output_type": "stream",
     "text": [
      "C:\\Users\\rozhouse\\Anaconda3\\lib\\site-packages\\imblearn\\utils\\_validation.py:326: UserWarning: After over-sampling, the number of samples (3384) in class 3 will be larger than the number of samples in the majority class (class #2 -> 2573)\n",
      "  n_samples_majority,\n"
     ]
    },
    {
     "name": "stdout",
     "output_type": "stream",
     "text": [
      "Starting Loop 262\n"
     ]
    },
    {
     "name": "stderr",
     "output_type": "stream",
     "text": [
      "C:\\Users\\rozhouse\\Anaconda3\\lib\\site-packages\\imblearn\\utils\\_validation.py:326: UserWarning: After over-sampling, the number of samples (3468) in class 3 will be larger than the number of samples in the majority class (class #2 -> 2572)\n",
      "  n_samples_majority,\n"
     ]
    },
    {
     "name": "stdout",
     "output_type": "stream",
     "text": [
      "Starting Loop 263\n"
     ]
    },
    {
     "name": "stderr",
     "output_type": "stream",
     "text": [
      "C:\\Users\\rozhouse\\Anaconda3\\lib\\site-packages\\imblearn\\utils\\_validation.py:326: UserWarning: After over-sampling, the number of samples (6852) in class 3 will be larger than the number of samples in the majority class (class #2 -> 2573)\n",
      "  n_samples_majority,\n",
      "C:\\Users\\rozhouse\\Anaconda3\\lib\\site-packages\\imblearn\\utils\\_validation.py:326: UserWarning: After over-sampling, the number of samples (3248) in class 6 will be larger than the number of samples in the majority class (class #2 -> 2573)\n",
      "  n_samples_majority,\n",
      "C:\\Users\\rozhouse\\Anaconda3\\lib\\site-packages\\imblearn\\utils\\_validation.py:326: UserWarning: After over-sampling, the number of samples (3920) in class 7 will be larger than the number of samples in the majority class (class #2 -> 2573)\n",
      "  n_samples_majority,\n"
     ]
    },
    {
     "name": "stdout",
     "output_type": "stream",
     "text": [
      "Starting Loop 264\n"
     ]
    },
    {
     "name": "stderr",
     "output_type": "stream",
     "text": [
      "C:\\Users\\rozhouse\\Anaconda3\\lib\\site-packages\\imblearn\\utils\\_validation.py:326: UserWarning: After over-sampling, the number of samples (6900) in class 3 will be larger than the number of samples in the majority class (class #2 -> 2569)\n",
      "  n_samples_majority,\n",
      "C:\\Users\\rozhouse\\Anaconda3\\lib\\site-packages\\imblearn\\utils\\_validation.py:326: UserWarning: After over-sampling, the number of samples (3336) in class 6 will be larger than the number of samples in the majority class (class #2 -> 2569)\n",
      "  n_samples_majority,\n",
      "C:\\Users\\rozhouse\\Anaconda3\\lib\\site-packages\\imblearn\\utils\\_validation.py:326: UserWarning: After over-sampling, the number of samples (4008) in class 7 will be larger than the number of samples in the majority class (class #2 -> 2569)\n",
      "  n_samples_majority,\n"
     ]
    },
    {
     "name": "stdout",
     "output_type": "stream",
     "text": [
      "Starting Loop 265\n"
     ]
    },
    {
     "name": "stderr",
     "output_type": "stream",
     "text": [
      "C:\\Users\\rozhouse\\Anaconda3\\lib\\site-packages\\imblearn\\utils\\_validation.py:326: UserWarning: After over-sampling, the number of samples (6768) in class 3 will be larger than the number of samples in the majority class (class #2 -> 2573)\n",
      "  n_samples_majority,\n",
      "C:\\Users\\rozhouse\\Anaconda3\\lib\\site-packages\\imblearn\\utils\\_validation.py:326: UserWarning: After over-sampling, the number of samples (3356) in class 6 will be larger than the number of samples in the majority class (class #2 -> 2573)\n",
      "  n_samples_majority,\n",
      "C:\\Users\\rozhouse\\Anaconda3\\lib\\site-packages\\imblearn\\utils\\_validation.py:326: UserWarning: After over-sampling, the number of samples (3988) in class 7 will be larger than the number of samples in the majority class (class #2 -> 2573)\n",
      "  n_samples_majority,\n"
     ]
    },
    {
     "name": "stdout",
     "output_type": "stream",
     "text": [
      "Starting Loop 266\n"
     ]
    },
    {
     "name": "stderr",
     "output_type": "stream",
     "text": [
      "C:\\Users\\rozhouse\\Anaconda3\\lib\\site-packages\\imblearn\\utils\\_validation.py:326: UserWarning: After over-sampling, the number of samples (6936) in class 3 will be larger than the number of samples in the majority class (class #2 -> 2572)\n",
      "  n_samples_majority,\n",
      "C:\\Users\\rozhouse\\Anaconda3\\lib\\site-packages\\imblearn\\utils\\_validation.py:326: UserWarning: After over-sampling, the number of samples (3392) in class 6 will be larger than the number of samples in the majority class (class #2 -> 2572)\n",
      "  n_samples_majority,\n",
      "C:\\Users\\rozhouse\\Anaconda3\\lib\\site-packages\\imblearn\\utils\\_validation.py:326: UserWarning: After over-sampling, the number of samples (3840) in class 7 will be larger than the number of samples in the majority class (class #2 -> 2572)\n",
      "  n_samples_majority,\n"
     ]
    },
    {
     "name": "stdout",
     "output_type": "stream",
     "text": [
      "Starting Loop 267\n"
     ]
    },
    {
     "name": "stderr",
     "output_type": "stream",
     "text": [
      "C:\\Users\\rozhouse\\Anaconda3\\lib\\site-packages\\imblearn\\utils\\_validation.py:326: UserWarning: After over-sampling, the number of samples (10278) in class 3 will be larger than the number of samples in the majority class (class #2 -> 2573)\n",
      "  n_samples_majority,\n",
      "C:\\Users\\rozhouse\\Anaconda3\\lib\\site-packages\\imblearn\\utils\\_validation.py:326: UserWarning: After over-sampling, the number of samples (2682) in class 5 will be larger than the number of samples in the majority class (class #2 -> 2573)\n",
      "  n_samples_majority,\n",
      "C:\\Users\\rozhouse\\Anaconda3\\lib\\site-packages\\imblearn\\utils\\_validation.py:326: UserWarning: After over-sampling, the number of samples (4872) in class 6 will be larger than the number of samples in the majority class (class #2 -> 2573)\n",
      "  n_samples_majority,\n",
      "C:\\Users\\rozhouse\\Anaconda3\\lib\\site-packages\\imblearn\\utils\\_validation.py:326: UserWarning: After over-sampling, the number of samples (5880) in class 7 will be larger than the number of samples in the majority class (class #2 -> 2573)\n",
      "  n_samples_majority,\n"
     ]
    },
    {
     "name": "stdout",
     "output_type": "stream",
     "text": [
      "Starting Loop 268\n"
     ]
    },
    {
     "name": "stderr",
     "output_type": "stream",
     "text": [
      "C:\\Users\\rozhouse\\Anaconda3\\lib\\site-packages\\imblearn\\utils\\_validation.py:326: UserWarning: After over-sampling, the number of samples (10350) in class 3 will be larger than the number of samples in the majority class (class #2 -> 2569)\n",
      "  n_samples_majority,\n",
      "C:\\Users\\rozhouse\\Anaconda3\\lib\\site-packages\\imblearn\\utils\\_validation.py:326: UserWarning: After over-sampling, the number of samples (2688) in class 5 will be larger than the number of samples in the majority class (class #2 -> 2569)\n",
      "  n_samples_majority,\n",
      "C:\\Users\\rozhouse\\Anaconda3\\lib\\site-packages\\imblearn\\utils\\_validation.py:326: UserWarning: After over-sampling, the number of samples (5004) in class 6 will be larger than the number of samples in the majority class (class #2 -> 2569)\n",
      "  n_samples_majority,\n",
      "C:\\Users\\rozhouse\\Anaconda3\\lib\\site-packages\\imblearn\\utils\\_validation.py:326: UserWarning: After over-sampling, the number of samples (6012) in class 7 will be larger than the number of samples in the majority class (class #2 -> 2569)\n",
      "  n_samples_majority,\n"
     ]
    },
    {
     "name": "stdout",
     "output_type": "stream",
     "text": [
      "Starting Loop 269\n"
     ]
    },
    {
     "name": "stderr",
     "output_type": "stream",
     "text": [
      "C:\\Users\\rozhouse\\Anaconda3\\lib\\site-packages\\imblearn\\utils\\_validation.py:326: UserWarning: After over-sampling, the number of samples (10152) in class 3 will be larger than the number of samples in the majority class (class #2 -> 2573)\n",
      "  n_samples_majority,\n",
      "C:\\Users\\rozhouse\\Anaconda3\\lib\\site-packages\\imblearn\\utils\\_validation.py:326: UserWarning: After over-sampling, the number of samples (2688) in class 5 will be larger than the number of samples in the majority class (class #2 -> 2573)\n",
      "  n_samples_majority,\n",
      "C:\\Users\\rozhouse\\Anaconda3\\lib\\site-packages\\imblearn\\utils\\_validation.py:326: UserWarning: After over-sampling, the number of samples (5034) in class 6 will be larger than the number of samples in the majority class (class #2 -> 2573)\n",
      "  n_samples_majority,\n",
      "C:\\Users\\rozhouse\\Anaconda3\\lib\\site-packages\\imblearn\\utils\\_validation.py:326: UserWarning: After over-sampling, the number of samples (5982) in class 7 will be larger than the number of samples in the majority class (class #2 -> 2573)\n",
      "  n_samples_majority,\n"
     ]
    },
    {
     "name": "stdout",
     "output_type": "stream",
     "text": [
      "Starting Loop 270\n"
     ]
    },
    {
     "name": "stderr",
     "output_type": "stream",
     "text": [
      "C:\\Users\\rozhouse\\Anaconda3\\lib\\site-packages\\imblearn\\utils\\_validation.py:326: UserWarning: After over-sampling, the number of samples (10404) in class 3 will be larger than the number of samples in the majority class (class #2 -> 2572)\n",
      "  n_samples_majority,\n",
      "C:\\Users\\rozhouse\\Anaconda3\\lib\\site-packages\\imblearn\\utils\\_validation.py:326: UserWarning: After over-sampling, the number of samples (2868) in class 5 will be larger than the number of samples in the majority class (class #2 -> 2572)\n",
      "  n_samples_majority,\n",
      "C:\\Users\\rozhouse\\Anaconda3\\lib\\site-packages\\imblearn\\utils\\_validation.py:326: UserWarning: After over-sampling, the number of samples (5088) in class 6 will be larger than the number of samples in the majority class (class #2 -> 2572)\n",
      "  n_samples_majority,\n",
      "C:\\Users\\rozhouse\\Anaconda3\\lib\\site-packages\\imblearn\\utils\\_validation.py:326: UserWarning: After over-sampling, the number of samples (5760) in class 7 will be larger than the number of samples in the majority class (class #2 -> 2572)\n",
      "  n_samples_majority,\n"
     ]
    },
    {
     "name": "stdout",
     "output_type": "stream",
     "text": [
      "Starting Loop 271\n"
     ]
    },
    {
     "name": "stderr",
     "output_type": "stream",
     "text": [
      "C:\\Users\\rozhouse\\Anaconda3\\lib\\site-packages\\imblearn\\utils\\_validation.py:326: UserWarning: After over-sampling, the number of samples (3426) in class 3 will be larger than the number of samples in the majority class (class #2 -> 2573)\n",
      "  n_samples_majority,\n",
      "C:\\Users\\rozhouse\\Anaconda3\\lib\\site-packages\\imblearn\\utils\\_validation.py:326: UserWarning: After over-sampling, the number of samples (4470) in class 5 will be larger than the number of samples in the majority class (class #2 -> 2573)\n",
      "  n_samples_majority,\n",
      "C:\\Users\\rozhouse\\Anaconda3\\lib\\site-packages\\imblearn\\utils\\_validation.py:326: UserWarning: After over-sampling, the number of samples (4060) in class 6 will be larger than the number of samples in the majority class (class #2 -> 2573)\n",
      "  n_samples_majority,\n",
      "C:\\Users\\rozhouse\\Anaconda3\\lib\\site-packages\\imblearn\\utils\\_validation.py:326: UserWarning: After over-sampling, the number of samples (3920) in class 7 will be larger than the number of samples in the majority class (class #2 -> 2573)\n",
      "  n_samples_majority,\n"
     ]
    },
    {
     "name": "stdout",
     "output_type": "stream",
     "text": [
      "Starting Loop 272\n"
     ]
    },
    {
     "name": "stderr",
     "output_type": "stream",
     "text": [
      "C:\\Users\\rozhouse\\Anaconda3\\lib\\site-packages\\imblearn\\utils\\_validation.py:326: UserWarning: After over-sampling, the number of samples (3450) in class 3 will be larger than the number of samples in the majority class (class #2 -> 2569)\n",
      "  n_samples_majority,\n",
      "C:\\Users\\rozhouse\\Anaconda3\\lib\\site-packages\\imblearn\\utils\\_validation.py:326: UserWarning: After over-sampling, the number of samples (4480) in class 5 will be larger than the number of samples in the majority class (class #2 -> 2569)\n",
      "  n_samples_majority,\n",
      "C:\\Users\\rozhouse\\Anaconda3\\lib\\site-packages\\imblearn\\utils\\_validation.py:326: UserWarning: After over-sampling, the number of samples (4170) in class 6 will be larger than the number of samples in the majority class (class #2 -> 2569)\n",
      "  n_samples_majority,\n",
      "C:\\Users\\rozhouse\\Anaconda3\\lib\\site-packages\\imblearn\\utils\\_validation.py:326: UserWarning: After over-sampling, the number of samples (4008) in class 7 will be larger than the number of samples in the majority class (class #2 -> 2569)\n",
      "  n_samples_majority,\n"
     ]
    },
    {
     "name": "stdout",
     "output_type": "stream",
     "text": [
      "Starting Loop 273\n"
     ]
    },
    {
     "name": "stderr",
     "output_type": "stream",
     "text": [
      "C:\\Users\\rozhouse\\Anaconda3\\lib\\site-packages\\imblearn\\utils\\_validation.py:326: UserWarning: After over-sampling, the number of samples (3384) in class 3 will be larger than the number of samples in the majority class (class #2 -> 2573)\n",
      "  n_samples_majority,\n",
      "C:\\Users\\rozhouse\\Anaconda3\\lib\\site-packages\\imblearn\\utils\\_validation.py:326: UserWarning: After over-sampling, the number of samples (4480) in class 5 will be larger than the number of samples in the majority class (class #2 -> 2573)\n",
      "  n_samples_majority,\n",
      "C:\\Users\\rozhouse\\Anaconda3\\lib\\site-packages\\imblearn\\utils\\_validation.py:326: UserWarning: After over-sampling, the number of samples (4195) in class 6 will be larger than the number of samples in the majority class (class #2 -> 2573)\n",
      "  n_samples_majority,\n",
      "C:\\Users\\rozhouse\\Anaconda3\\lib\\site-packages\\imblearn\\utils\\_validation.py:326: UserWarning: After over-sampling, the number of samples (3988) in class 7 will be larger than the number of samples in the majority class (class #2 -> 2573)\n",
      "  n_samples_majority,\n"
     ]
    },
    {
     "name": "stdout",
     "output_type": "stream",
     "text": [
      "Starting Loop 274\n"
     ]
    },
    {
     "name": "stderr",
     "output_type": "stream",
     "text": [
      "C:\\Users\\rozhouse\\Anaconda3\\lib\\site-packages\\imblearn\\utils\\_validation.py:326: UserWarning: After over-sampling, the number of samples (3468) in class 3 will be larger than the number of samples in the majority class (class #2 -> 2572)\n",
      "  n_samples_majority,\n",
      "C:\\Users\\rozhouse\\Anaconda3\\lib\\site-packages\\imblearn\\utils\\_validation.py:326: UserWarning: After over-sampling, the number of samples (4780) in class 5 will be larger than the number of samples in the majority class (class #2 -> 2572)\n",
      "  n_samples_majority,\n",
      "C:\\Users\\rozhouse\\Anaconda3\\lib\\site-packages\\imblearn\\utils\\_validation.py:326: UserWarning: After over-sampling, the number of samples (4240) in class 6 will be larger than the number of samples in the majority class (class #2 -> 2572)\n",
      "  n_samples_majority,\n",
      "C:\\Users\\rozhouse\\Anaconda3\\lib\\site-packages\\imblearn\\utils\\_validation.py:326: UserWarning: After over-sampling, the number of samples (3840) in class 7 will be larger than the number of samples in the majority class (class #2 -> 2572)\n",
      "  n_samples_majority,\n"
     ]
    },
    {
     "name": "stdout",
     "output_type": "stream",
     "text": [
      "Starting Loop 275\n",
      "Starting Loop 276\n",
      "Starting Loop 277\n",
      "Starting Loop 278\n",
      "Starting Loop 279\n",
      "Starting Loop 280\n",
      "Starting Loop 281\n",
      "Starting Loop 282\n",
      "Starting Loop 283\n",
      "Starting Loop 284\n",
      "Starting Loop 285\n",
      "Starting Loop 286\n",
      "Starting Loop 287\n",
      "Starting Loop 288\n",
      "Starting Loop 289\n",
      "Starting Loop 290\n",
      "Starting Loop 291\n"
     ]
    },
    {
     "name": "stderr",
     "output_type": "stream",
     "text": [
      "C:\\Users\\rozhouse\\Anaconda3\\lib\\site-packages\\imblearn\\utils\\_validation.py:326: UserWarning: After over-sampling, the number of samples (6852) in class 3 will be larger than the number of samples in the majority class (class #1 -> 5227)\n",
      "  n_samples_majority,\n"
     ]
    },
    {
     "name": "stdout",
     "output_type": "stream",
     "text": [
      "Starting Loop 292\n"
     ]
    },
    {
     "name": "stderr",
     "output_type": "stream",
     "text": [
      "C:\\Users\\rozhouse\\Anaconda3\\lib\\site-packages\\imblearn\\utils\\_validation.py:326: UserWarning: After over-sampling, the number of samples (6900) in class 3 will be larger than the number of samples in the majority class (class #1 -> 5255)\n",
      "  n_samples_majority,\n"
     ]
    },
    {
     "name": "stdout",
     "output_type": "stream",
     "text": [
      "Starting Loop 293\n"
     ]
    },
    {
     "name": "stderr",
     "output_type": "stream",
     "text": [
      "C:\\Users\\rozhouse\\Anaconda3\\lib\\site-packages\\imblearn\\utils\\_validation.py:326: UserWarning: After over-sampling, the number of samples (6768) in class 3 will be larger than the number of samples in the majority class (class #1 -> 5247)\n",
      "  n_samples_majority,\n"
     ]
    },
    {
     "name": "stdout",
     "output_type": "stream",
     "text": [
      "Starting Loop 294\n"
     ]
    },
    {
     "name": "stderr",
     "output_type": "stream",
     "text": [
      "C:\\Users\\rozhouse\\Anaconda3\\lib\\site-packages\\imblearn\\utils\\_validation.py:326: UserWarning: After over-sampling, the number of samples (6936) in class 3 will be larger than the number of samples in the majority class (class #1 -> 5191)\n",
      "  n_samples_majority,\n"
     ]
    },
    {
     "name": "stdout",
     "output_type": "stream",
     "text": [
      "Starting Loop 295\n"
     ]
    },
    {
     "name": "stderr",
     "output_type": "stream",
     "text": [
      "C:\\Users\\rozhouse\\Anaconda3\\lib\\site-packages\\imblearn\\utils\\_validation.py:326: UserWarning: After over-sampling, the number of samples (10278) in class 3 will be larger than the number of samples in the majority class (class #1 -> 5227)\n",
      "  n_samples_majority,\n",
      "C:\\Users\\rozhouse\\Anaconda3\\lib\\site-packages\\imblearn\\utils\\_validation.py:326: UserWarning: After over-sampling, the number of samples (5880) in class 7 will be larger than the number of samples in the majority class (class #1 -> 5227)\n",
      "  n_samples_majority,\n"
     ]
    },
    {
     "name": "stdout",
     "output_type": "stream",
     "text": [
      "Starting Loop 296\n"
     ]
    },
    {
     "name": "stderr",
     "output_type": "stream",
     "text": [
      "C:\\Users\\rozhouse\\Anaconda3\\lib\\site-packages\\imblearn\\utils\\_validation.py:326: UserWarning: After over-sampling, the number of samples (10350) in class 3 will be larger than the number of samples in the majority class (class #1 -> 5255)\n",
      "  n_samples_majority,\n",
      "C:\\Users\\rozhouse\\Anaconda3\\lib\\site-packages\\imblearn\\utils\\_validation.py:326: UserWarning: After over-sampling, the number of samples (6012) in class 7 will be larger than the number of samples in the majority class (class #1 -> 5255)\n",
      "  n_samples_majority,\n"
     ]
    },
    {
     "name": "stdout",
     "output_type": "stream",
     "text": [
      "Starting Loop 297\n"
     ]
    },
    {
     "name": "stderr",
     "output_type": "stream",
     "text": [
      "C:\\Users\\rozhouse\\Anaconda3\\lib\\site-packages\\imblearn\\utils\\_validation.py:326: UserWarning: After over-sampling, the number of samples (10152) in class 3 will be larger than the number of samples in the majority class (class #1 -> 5247)\n",
      "  n_samples_majority,\n",
      "C:\\Users\\rozhouse\\Anaconda3\\lib\\site-packages\\imblearn\\utils\\_validation.py:326: UserWarning: After over-sampling, the number of samples (5982) in class 7 will be larger than the number of samples in the majority class (class #1 -> 5247)\n",
      "  n_samples_majority,\n"
     ]
    },
    {
     "name": "stdout",
     "output_type": "stream",
     "text": [
      "Starting Loop 298\n"
     ]
    },
    {
     "name": "stderr",
     "output_type": "stream",
     "text": [
      "C:\\Users\\rozhouse\\Anaconda3\\lib\\site-packages\\imblearn\\utils\\_validation.py:326: UserWarning: After over-sampling, the number of samples (10404) in class 3 will be larger than the number of samples in the majority class (class #1 -> 5191)\n",
      "  n_samples_majority,\n",
      "C:\\Users\\rozhouse\\Anaconda3\\lib\\site-packages\\imblearn\\utils\\_validation.py:326: UserWarning: After over-sampling, the number of samples (5760) in class 7 will be larger than the number of samples in the majority class (class #1 -> 5191)\n",
      "  n_samples_majority,\n"
     ]
    },
    {
     "name": "stdout",
     "output_type": "stream",
     "text": [
      "Starting Loop 299\n",
      "Starting Loop 300\n",
      "Starting Loop 301\n",
      "Starting Loop 302\n",
      "Starting Loop 303\n",
      "Starting Loop 304\n",
      "Starting Loop 305\n",
      "Starting Loop 306\n",
      "Starting Loop 307\n",
      "Starting Loop 308\n",
      "Starting Loop 309\n",
      "Starting Loop 310\n",
      "Starting Loop 311\n",
      "Starting Loop 312\n",
      "Starting Loop 313\n",
      "Starting Loop 314\n",
      "Starting Loop 315\n",
      "Starting Loop 316\n",
      "Starting Loop 317\n",
      "Starting Loop 318\n",
      "Starting Loop 319\n"
     ]
    },
    {
     "name": "stderr",
     "output_type": "stream",
     "text": [
      "C:\\Users\\rozhouse\\Anaconda3\\lib\\site-packages\\imblearn\\utils\\_validation.py:326: UserWarning: After over-sampling, the number of samples (6852) in class 3 will be larger than the number of samples in the majority class (class #1 -> 5227)\n",
      "  n_samples_majority,\n"
     ]
    },
    {
     "name": "stdout",
     "output_type": "stream",
     "text": [
      "Starting Loop 320\n"
     ]
    },
    {
     "name": "stderr",
     "output_type": "stream",
     "text": [
      "C:\\Users\\rozhouse\\Anaconda3\\lib\\site-packages\\imblearn\\utils\\_validation.py:326: UserWarning: After over-sampling, the number of samples (6900) in class 3 will be larger than the number of samples in the majority class (class #1 -> 5255)\n",
      "  n_samples_majority,\n"
     ]
    },
    {
     "name": "stdout",
     "output_type": "stream",
     "text": [
      "Starting Loop 321\n"
     ]
    },
    {
     "name": "stderr",
     "output_type": "stream",
     "text": [
      "C:\\Users\\rozhouse\\Anaconda3\\lib\\site-packages\\imblearn\\utils\\_validation.py:326: UserWarning: After over-sampling, the number of samples (6768) in class 3 will be larger than the number of samples in the majority class (class #1 -> 5247)\n",
      "  n_samples_majority,\n"
     ]
    },
    {
     "name": "stdout",
     "output_type": "stream",
     "text": [
      "Starting Loop 322\n"
     ]
    },
    {
     "name": "stderr",
     "output_type": "stream",
     "text": [
      "C:\\Users\\rozhouse\\Anaconda3\\lib\\site-packages\\imblearn\\utils\\_validation.py:326: UserWarning: After over-sampling, the number of samples (6936) in class 3 will be larger than the number of samples in the majority class (class #1 -> 5191)\n",
      "  n_samples_majority,\n"
     ]
    },
    {
     "name": "stdout",
     "output_type": "stream",
     "text": [
      "Starting Loop 323\n"
     ]
    },
    {
     "name": "stderr",
     "output_type": "stream",
     "text": [
      "C:\\Users\\rozhouse\\Anaconda3\\lib\\site-packages\\imblearn\\utils\\_validation.py:326: UserWarning: After over-sampling, the number of samples (10278) in class 3 will be larger than the number of samples in the majority class (class #1 -> 5227)\n",
      "  n_samples_majority,\n",
      "C:\\Users\\rozhouse\\Anaconda3\\lib\\site-packages\\imblearn\\utils\\_validation.py:326: UserWarning: After over-sampling, the number of samples (5880) in class 7 will be larger than the number of samples in the majority class (class #1 -> 5227)\n",
      "  n_samples_majority,\n"
     ]
    },
    {
     "name": "stdout",
     "output_type": "stream",
     "text": [
      "Starting Loop 324\n"
     ]
    },
    {
     "name": "stderr",
     "output_type": "stream",
     "text": [
      "C:\\Users\\rozhouse\\Anaconda3\\lib\\site-packages\\imblearn\\utils\\_validation.py:326: UserWarning: After over-sampling, the number of samples (10350) in class 3 will be larger than the number of samples in the majority class (class #1 -> 5255)\n",
      "  n_samples_majority,\n",
      "C:\\Users\\rozhouse\\Anaconda3\\lib\\site-packages\\imblearn\\utils\\_validation.py:326: UserWarning: After over-sampling, the number of samples (6012) in class 7 will be larger than the number of samples in the majority class (class #1 -> 5255)\n",
      "  n_samples_majority,\n"
     ]
    },
    {
     "name": "stdout",
     "output_type": "stream",
     "text": [
      "Starting Loop 325\n"
     ]
    },
    {
     "name": "stderr",
     "output_type": "stream",
     "text": [
      "C:\\Users\\rozhouse\\Anaconda3\\lib\\site-packages\\imblearn\\utils\\_validation.py:326: UserWarning: After over-sampling, the number of samples (10152) in class 3 will be larger than the number of samples in the majority class (class #1 -> 5247)\n",
      "  n_samples_majority,\n",
      "C:\\Users\\rozhouse\\Anaconda3\\lib\\site-packages\\imblearn\\utils\\_validation.py:326: UserWarning: After over-sampling, the number of samples (5982) in class 7 will be larger than the number of samples in the majority class (class #1 -> 5247)\n",
      "  n_samples_majority,\n"
     ]
    },
    {
     "name": "stdout",
     "output_type": "stream",
     "text": [
      "Starting Loop 326\n"
     ]
    },
    {
     "name": "stderr",
     "output_type": "stream",
     "text": [
      "C:\\Users\\rozhouse\\Anaconda3\\lib\\site-packages\\imblearn\\utils\\_validation.py:326: UserWarning: After over-sampling, the number of samples (10404) in class 3 will be larger than the number of samples in the majority class (class #1 -> 5191)\n",
      "  n_samples_majority,\n",
      "C:\\Users\\rozhouse\\Anaconda3\\lib\\site-packages\\imblearn\\utils\\_validation.py:326: UserWarning: After over-sampling, the number of samples (5760) in class 7 will be larger than the number of samples in the majority class (class #1 -> 5191)\n",
      "  n_samples_majority,\n"
     ]
    },
    {
     "name": "stdout",
     "output_type": "stream",
     "text": [
      "Starting Loop 327\n",
      "Starting Loop 328\n",
      "Starting Loop 329\n",
      "Starting Loop 330\n",
      "Starting Loop 331\n",
      "Starting Loop 332\n",
      "Starting Loop 333\n",
      "Starting Loop 334\n",
      "Starting Loop 335\n",
      "Starting Loop 336\n",
      "Starting Loop 337\n",
      "Starting Loop 338\n",
      "Starting Loop 339\n",
      "Starting Loop 340\n",
      "Starting Loop 341\n",
      "Starting Loop 342\n",
      "Starting Loop 343\n",
      "Starting Loop 344\n",
      "Starting Loop 345\n",
      "Starting Loop 346\n",
      "Starting Loop 347\n",
      "Starting Loop 348\n",
      "Starting Loop 349\n",
      "Starting Loop 350\n",
      "Starting Loop 351\n",
      "Starting Loop 352\n",
      "Starting Loop 353\n",
      "Starting Loop 354\n",
      "Starting Loop 355\n",
      "Starting Loop 356\n",
      "Starting Loop 357\n",
      "Starting Loop 358\n",
      "Starting Loop 359\n",
      "Starting Loop 360\n",
      "Starting Loop 361\n",
      "Starting Loop 362\n",
      "Starting Loop 363\n",
      "Starting Loop 364\n",
      "Starting Loop 365\n",
      "Starting Loop 366\n",
      "Starting Loop 367\n",
      "Starting Loop 368\n",
      "Starting Loop 369\n",
      "Starting Loop 370\n",
      "Starting Loop 371\n",
      "Starting Loop 372\n",
      "Starting Loop 373\n",
      "Starting Loop 374\n",
      "Starting Loop 375\n",
      "Starting Loop 376\n",
      "Starting Loop 377\n",
      "Starting Loop 378\n",
      "Starting Loop 379\n",
      "Starting Loop 380\n",
      "Starting Loop 381\n",
      "Starting Loop 382\n",
      "Starting Loop 383\n",
      "Starting Loop 384\n",
      "Starting Loop 385\n",
      "Starting Loop 386\n",
      "Starting Loop 387\n",
      "Starting Loop 388\n",
      "Starting Loop 389\n",
      "Starting Loop 390\n",
      "Starting Loop 391\n",
      "Starting Loop 392\n",
      "Starting Loop 393\n",
      "Starting Loop 394\n",
      "Starting Loop 395\n",
      "Starting Loop 396\n",
      "Starting Loop 397\n",
      "Starting Loop 398\n",
      "Starting Loop 399\n",
      "Starting Loop 400\n",
      "Starting Loop 401\n",
      "Starting Loop 402\n",
      "Starting Loop 403\n",
      "Starting Loop 404\n",
      "Starting Loop 405\n",
      "Starting Loop 406\n",
      "Starting Loop 407\n"
     ]
    },
    {
     "name": "stderr",
     "output_type": "stream",
     "text": [
      "C:\\Users\\rozhouse\\Anaconda3\\lib\\site-packages\\imblearn\\utils\\_validation.py:326: UserWarning: After over-sampling, the number of samples (10278) in class 3 will be larger than the number of samples in the majority class (class #2 -> 10217)\n",
      "  n_samples_majority,\n"
     ]
    },
    {
     "name": "stdout",
     "output_type": "stream",
     "text": [
      "Starting Loop 408\n"
     ]
    },
    {
     "name": "stderr",
     "output_type": "stream",
     "text": [
      "C:\\Users\\rozhouse\\Anaconda3\\lib\\site-packages\\imblearn\\utils\\_validation.py:326: UserWarning: After over-sampling, the number of samples (10350) in class 3 will be larger than the number of samples in the majority class (class #2 -> 10164)\n",
      "  n_samples_majority,\n"
     ]
    },
    {
     "name": "stdout",
     "output_type": "stream",
     "text": [
      "Starting Loop 409\n",
      "Starting Loop 410\n"
     ]
    },
    {
     "name": "stderr",
     "output_type": "stream",
     "text": [
      "C:\\Users\\rozhouse\\Anaconda3\\lib\\site-packages\\imblearn\\utils\\_validation.py:326: UserWarning: After over-sampling, the number of samples (10404) in class 3 will be larger than the number of samples in the majority class (class #2 -> 10221)\n",
      "  n_samples_majority,\n"
     ]
    },
    {
     "name": "stdout",
     "output_type": "stream",
     "text": [
      "Starting Loop 411\n",
      "Starting Loop 412\n",
      "Starting Loop 413\n",
      "Starting Loop 414\n",
      "Starting Loop 415\n",
      "Starting Loop 416\n",
      "Starting Loop 417\n",
      "Starting Loop 418\n",
      "Starting Loop 419\n",
      "Starting Loop 420\n",
      "Starting Loop 421\n",
      "Starting Loop 422\n",
      "Starting Loop 423\n",
      "Starting Loop 424\n",
      "Starting Loop 425\n",
      "Starting Loop 426\n",
      "Starting Loop 427\n",
      "Starting Loop 428\n",
      "Starting Loop 429\n",
      "Starting Loop 430\n",
      "Starting Loop 431\n",
      "Starting Loop 432\n",
      "Starting Loop 433\n",
      "Starting Loop 434\n",
      "Starting Loop 435\n"
     ]
    },
    {
     "name": "stderr",
     "output_type": "stream",
     "text": [
      "C:\\Users\\rozhouse\\Anaconda3\\lib\\site-packages\\imblearn\\utils\\_validation.py:326: UserWarning: After over-sampling, the number of samples (10278) in class 3 will be larger than the number of samples in the majority class (class #2 -> 10217)\n",
      "  n_samples_majority,\n"
     ]
    },
    {
     "name": "stdout",
     "output_type": "stream",
     "text": [
      "Starting Loop 436\n"
     ]
    },
    {
     "name": "stderr",
     "output_type": "stream",
     "text": [
      "C:\\Users\\rozhouse\\Anaconda3\\lib\\site-packages\\imblearn\\utils\\_validation.py:326: UserWarning: After over-sampling, the number of samples (10350) in class 3 will be larger than the number of samples in the majority class (class #2 -> 10164)\n",
      "  n_samples_majority,\n"
     ]
    },
    {
     "name": "stdout",
     "output_type": "stream",
     "text": [
      "Starting Loop 437\n",
      "Starting Loop 438\n"
     ]
    },
    {
     "name": "stderr",
     "output_type": "stream",
     "text": [
      "C:\\Users\\rozhouse\\Anaconda3\\lib\\site-packages\\imblearn\\utils\\_validation.py:326: UserWarning: After over-sampling, the number of samples (10404) in class 3 will be larger than the number of samples in the majority class (class #2 -> 10221)\n",
      "  n_samples_majority,\n"
     ]
    },
    {
     "name": "stdout",
     "output_type": "stream",
     "text": [
      "Starting Loop 439\n",
      "Starting Loop 440\n",
      "Starting Loop 441\n",
      "Starting Loop 442\n",
      "Starting Loop 443\n",
      "Starting Loop 444\n",
      "Starting Loop 445\n",
      "Starting Loop 446\n",
      "Starting Loop 447\n",
      "Starting Loop 448\n",
      "Starting Loop 449\n",
      "Starting Loop 450\n",
      "Starting Loop 451\n",
      "Starting Loop 452\n",
      "Starting Loop 453\n",
      "Starting Loop 454\n",
      "Starting Loop 455\n",
      "Starting Loop 456\n",
      "Starting Loop 457\n",
      "Starting Loop 458\n",
      "Starting Loop 459\n",
      "Starting Loop 460\n",
      "Starting Loop 461\n",
      "Starting Loop 462\n",
      "Starting Loop 463\n"
     ]
    },
    {
     "name": "stderr",
     "output_type": "stream",
     "text": [
      "C:\\Users\\rozhouse\\Anaconda3\\lib\\site-packages\\imblearn\\utils\\_validation.py:326: UserWarning: After over-sampling, the number of samples (10278) in class 3 will be larger than the number of samples in the majority class (class #2 -> 8174)\n",
      "  n_samples_majority,\n"
     ]
    },
    {
     "name": "stdout",
     "output_type": "stream",
     "text": [
      "Starting Loop 464\n"
     ]
    },
    {
     "name": "stderr",
     "output_type": "stream",
     "text": [
      "C:\\Users\\rozhouse\\Anaconda3\\lib\\site-packages\\imblearn\\utils\\_validation.py:326: UserWarning: After over-sampling, the number of samples (10350) in class 3 will be larger than the number of samples in the majority class (class #2 -> 8131)\n",
      "  n_samples_majority,\n"
     ]
    },
    {
     "name": "stdout",
     "output_type": "stream",
     "text": [
      "Starting Loop 465\n"
     ]
    },
    {
     "name": "stderr",
     "output_type": "stream",
     "text": [
      "C:\\Users\\rozhouse\\Anaconda3\\lib\\site-packages\\imblearn\\utils\\_validation.py:326: UserWarning: After over-sampling, the number of samples (10152) in class 3 will be larger than the number of samples in the majority class (class #2 -> 8154)\n",
      "  n_samples_majority,\n"
     ]
    },
    {
     "name": "stdout",
     "output_type": "stream",
     "text": [
      "Starting Loop 466\n"
     ]
    },
    {
     "name": "stderr",
     "output_type": "stream",
     "text": [
      "C:\\Users\\rozhouse\\Anaconda3\\lib\\site-packages\\imblearn\\utils\\_validation.py:326: UserWarning: After over-sampling, the number of samples (10404) in class 3 will be larger than the number of samples in the majority class (class #2 -> 8177)\n",
      "  n_samples_majority,\n"
     ]
    },
    {
     "name": "stdout",
     "output_type": "stream",
     "text": [
      "Starting Loop 467\n",
      "Starting Loop 468\n",
      "Starting Loop 469\n",
      "Starting Loop 470\n",
      "Starting Loop 471\n",
      "Starting Loop 472\n",
      "Starting Loop 473\n",
      "Starting Loop 474\n",
      "Starting Loop 475\n",
      "Starting Loop 476\n",
      "Starting Loop 477\n",
      "Starting Loop 478\n",
      "Starting Loop 479\n",
      "Starting Loop 480\n",
      "Starting Loop 481\n",
      "Starting Loop 482\n",
      "Starting Loop 483\n",
      "Starting Loop 484\n",
      "Starting Loop 485\n",
      "Starting Loop 486\n",
      "Starting Loop 487\n",
      "Starting Loop 488\n",
      "Starting Loop 489\n",
      "Starting Loop 490\n",
      "Starting Loop 491\n"
     ]
    },
    {
     "name": "stderr",
     "output_type": "stream",
     "text": [
      "C:\\Users\\rozhouse\\Anaconda3\\lib\\site-packages\\imblearn\\utils\\_validation.py:326: UserWarning: After over-sampling, the number of samples (10278) in class 3 will be larger than the number of samples in the majority class (class #2 -> 8174)\n",
      "  n_samples_majority,\n"
     ]
    },
    {
     "name": "stdout",
     "output_type": "stream",
     "text": [
      "Starting Loop 492\n"
     ]
    },
    {
     "name": "stderr",
     "output_type": "stream",
     "text": [
      "C:\\Users\\rozhouse\\Anaconda3\\lib\\site-packages\\imblearn\\utils\\_validation.py:326: UserWarning: After over-sampling, the number of samples (10350) in class 3 will be larger than the number of samples in the majority class (class #2 -> 8131)\n",
      "  n_samples_majority,\n"
     ]
    },
    {
     "name": "stdout",
     "output_type": "stream",
     "text": [
      "Starting Loop 493\n"
     ]
    },
    {
     "name": "stderr",
     "output_type": "stream",
     "text": [
      "C:\\Users\\rozhouse\\Anaconda3\\lib\\site-packages\\imblearn\\utils\\_validation.py:326: UserWarning: After over-sampling, the number of samples (10152) in class 3 will be larger than the number of samples in the majority class (class #2 -> 8154)\n",
      "  n_samples_majority,\n"
     ]
    },
    {
     "name": "stdout",
     "output_type": "stream",
     "text": [
      "Starting Loop 494\n"
     ]
    },
    {
     "name": "stderr",
     "output_type": "stream",
     "text": [
      "C:\\Users\\rozhouse\\Anaconda3\\lib\\site-packages\\imblearn\\utils\\_validation.py:326: UserWarning: After over-sampling, the number of samples (10404) in class 3 will be larger than the number of samples in the majority class (class #2 -> 8177)\n",
      "  n_samples_majority,\n"
     ]
    },
    {
     "name": "stdout",
     "output_type": "stream",
     "text": [
      "Starting Loop 495\n",
      "Starting Loop 496\n",
      "Starting Loop 497\n",
      "Starting Loop 498\n",
      "Starting Loop 499\n",
      "Starting Loop 500\n",
      "Starting Loop 501\n",
      "Starting Loop 502\n",
      "Starting Loop 503\n",
      "Starting Loop 504\n",
      "Starting Loop 505\n",
      "Starting Loop 506\n",
      "Starting Loop 507\n",
      "Starting Loop 508\n",
      "Starting Loop 509\n",
      "Starting Loop 510\n",
      "Starting Loop 511\n",
      "Starting Loop 512\n",
      "Starting Loop 513\n",
      "Starting Loop 514\n",
      "Starting Loop 515\n"
     ]
    },
    {
     "name": "stderr",
     "output_type": "stream",
     "text": [
      "C:\\Users\\rozhouse\\Anaconda3\\lib\\site-packages\\imblearn\\utils\\_validation.py:326: UserWarning: After over-sampling, the number of samples (6852) in class 3 will be larger than the number of samples in the majority class (class #2 -> 5449)\n",
      "  n_samples_majority,\n"
     ]
    },
    {
     "name": "stdout",
     "output_type": "stream",
     "text": [
      "Starting Loop 516\n"
     ]
    },
    {
     "name": "stderr",
     "output_type": "stream",
     "text": [
      "C:\\Users\\rozhouse\\Anaconda3\\lib\\site-packages\\imblearn\\utils\\_validation.py:326: UserWarning: After over-sampling, the number of samples (6900) in class 3 will be larger than the number of samples in the majority class (class #2 -> 5421)\n",
      "  n_samples_majority,\n"
     ]
    },
    {
     "name": "stdout",
     "output_type": "stream",
     "text": [
      "Starting Loop 517\n"
     ]
    },
    {
     "name": "stderr",
     "output_type": "stream",
     "text": [
      "C:\\Users\\rozhouse\\Anaconda3\\lib\\site-packages\\imblearn\\utils\\_validation.py:326: UserWarning: After over-sampling, the number of samples (6768) in class 3 will be larger than the number of samples in the majority class (class #2 -> 5436)\n",
      "  n_samples_majority,\n"
     ]
    },
    {
     "name": "stdout",
     "output_type": "stream",
     "text": [
      "Starting Loop 518\n"
     ]
    },
    {
     "name": "stderr",
     "output_type": "stream",
     "text": [
      "C:\\Users\\rozhouse\\Anaconda3\\lib\\site-packages\\imblearn\\utils\\_validation.py:326: UserWarning: After over-sampling, the number of samples (6936) in class 3 will be larger than the number of samples in the majority class (class #2 -> 5451)\n",
      "  n_samples_majority,\n"
     ]
    },
    {
     "name": "stdout",
     "output_type": "stream",
     "text": [
      "Starting Loop 519\n"
     ]
    },
    {
     "name": "stderr",
     "output_type": "stream",
     "text": [
      "C:\\Users\\rozhouse\\Anaconda3\\lib\\site-packages\\imblearn\\utils\\_validation.py:326: UserWarning: After over-sampling, the number of samples (10278) in class 3 will be larger than the number of samples in the majority class (class #2 -> 5449)\n",
      "  n_samples_majority,\n",
      "C:\\Users\\rozhouse\\Anaconda3\\lib\\site-packages\\imblearn\\utils\\_validation.py:326: UserWarning: After over-sampling, the number of samples (5880) in class 7 will be larger than the number of samples in the majority class (class #2 -> 5449)\n",
      "  n_samples_majority,\n"
     ]
    },
    {
     "name": "stdout",
     "output_type": "stream",
     "text": [
      "Starting Loop 520\n"
     ]
    },
    {
     "name": "stderr",
     "output_type": "stream",
     "text": [
      "C:\\Users\\rozhouse\\Anaconda3\\lib\\site-packages\\imblearn\\utils\\_validation.py:326: UserWarning: After over-sampling, the number of samples (10350) in class 3 will be larger than the number of samples in the majority class (class #2 -> 5421)\n",
      "  n_samples_majority,\n",
      "C:\\Users\\rozhouse\\Anaconda3\\lib\\site-packages\\imblearn\\utils\\_validation.py:326: UserWarning: After over-sampling, the number of samples (6012) in class 7 will be larger than the number of samples in the majority class (class #2 -> 5421)\n",
      "  n_samples_majority,\n"
     ]
    },
    {
     "name": "stdout",
     "output_type": "stream",
     "text": [
      "Starting Loop 521\n"
     ]
    },
    {
     "name": "stderr",
     "output_type": "stream",
     "text": [
      "C:\\Users\\rozhouse\\Anaconda3\\lib\\site-packages\\imblearn\\utils\\_validation.py:326: UserWarning: After over-sampling, the number of samples (10152) in class 3 will be larger than the number of samples in the majority class (class #2 -> 5436)\n",
      "  n_samples_majority,\n",
      "C:\\Users\\rozhouse\\Anaconda3\\lib\\site-packages\\imblearn\\utils\\_validation.py:326: UserWarning: After over-sampling, the number of samples (5982) in class 7 will be larger than the number of samples in the majority class (class #2 -> 5436)\n",
      "  n_samples_majority,\n"
     ]
    },
    {
     "name": "stdout",
     "output_type": "stream",
     "text": [
      "Starting Loop 522\n"
     ]
    },
    {
     "name": "stderr",
     "output_type": "stream",
     "text": [
      "C:\\Users\\rozhouse\\Anaconda3\\lib\\site-packages\\imblearn\\utils\\_validation.py:326: UserWarning: After over-sampling, the number of samples (10404) in class 3 will be larger than the number of samples in the majority class (class #2 -> 5451)\n",
      "  n_samples_majority,\n",
      "C:\\Users\\rozhouse\\Anaconda3\\lib\\site-packages\\imblearn\\utils\\_validation.py:326: UserWarning: After over-sampling, the number of samples (5760) in class 7 will be larger than the number of samples in the majority class (class #2 -> 5451)\n",
      "  n_samples_majority,\n"
     ]
    },
    {
     "name": "stdout",
     "output_type": "stream",
     "text": [
      "Starting Loop 523\n",
      "Starting Loop 524\n",
      "Starting Loop 525\n",
      "Starting Loop 526\n",
      "Starting Loop 527\n",
      "Starting Loop 528\n",
      "Starting Loop 529\n",
      "Starting Loop 530\n",
      "Starting Loop 531\n",
      "Starting Loop 532\n",
      "Starting Loop 533\n",
      "Starting Loop 534\n",
      "Starting Loop 535\n",
      "Starting Loop 536\n",
      "Starting Loop 537\n",
      "Starting Loop 538\n",
      "Starting Loop 539\n",
      "Starting Loop 540\n",
      "Starting Loop 541\n",
      "Starting Loop 542\n",
      "Starting Loop 543\n"
     ]
    },
    {
     "name": "stderr",
     "output_type": "stream",
     "text": [
      "C:\\Users\\rozhouse\\Anaconda3\\lib\\site-packages\\imblearn\\utils\\_validation.py:326: UserWarning: After over-sampling, the number of samples (6852) in class 3 will be larger than the number of samples in the majority class (class #2 -> 5449)\n",
      "  n_samples_majority,\n"
     ]
    },
    {
     "name": "stdout",
     "output_type": "stream",
     "text": [
      "Starting Loop 544\n"
     ]
    },
    {
     "name": "stderr",
     "output_type": "stream",
     "text": [
      "C:\\Users\\rozhouse\\Anaconda3\\lib\\site-packages\\imblearn\\utils\\_validation.py:326: UserWarning: After over-sampling, the number of samples (6900) in class 3 will be larger than the number of samples in the majority class (class #2 -> 5421)\n",
      "  n_samples_majority,\n"
     ]
    },
    {
     "name": "stdout",
     "output_type": "stream",
     "text": [
      "Starting Loop 545\n"
     ]
    },
    {
     "name": "stderr",
     "output_type": "stream",
     "text": [
      "C:\\Users\\rozhouse\\Anaconda3\\lib\\site-packages\\imblearn\\utils\\_validation.py:326: UserWarning: After over-sampling, the number of samples (6768) in class 3 will be larger than the number of samples in the majority class (class #2 -> 5436)\n",
      "  n_samples_majority,\n"
     ]
    },
    {
     "name": "stdout",
     "output_type": "stream",
     "text": [
      "Starting Loop 546\n"
     ]
    },
    {
     "name": "stderr",
     "output_type": "stream",
     "text": [
      "C:\\Users\\rozhouse\\Anaconda3\\lib\\site-packages\\imblearn\\utils\\_validation.py:326: UserWarning: After over-sampling, the number of samples (6936) in class 3 will be larger than the number of samples in the majority class (class #2 -> 5451)\n",
      "  n_samples_majority,\n"
     ]
    },
    {
     "name": "stdout",
     "output_type": "stream",
     "text": [
      "Starting Loop 547\n"
     ]
    },
    {
     "name": "stderr",
     "output_type": "stream",
     "text": [
      "C:\\Users\\rozhouse\\Anaconda3\\lib\\site-packages\\imblearn\\utils\\_validation.py:326: UserWarning: After over-sampling, the number of samples (10278) in class 3 will be larger than the number of samples in the majority class (class #2 -> 5449)\n",
      "  n_samples_majority,\n",
      "C:\\Users\\rozhouse\\Anaconda3\\lib\\site-packages\\imblearn\\utils\\_validation.py:326: UserWarning: After over-sampling, the number of samples (5880) in class 7 will be larger than the number of samples in the majority class (class #2 -> 5449)\n",
      "  n_samples_majority,\n"
     ]
    },
    {
     "name": "stdout",
     "output_type": "stream",
     "text": [
      "Starting Loop 548\n"
     ]
    },
    {
     "name": "stderr",
     "output_type": "stream",
     "text": [
      "C:\\Users\\rozhouse\\Anaconda3\\lib\\site-packages\\imblearn\\utils\\_validation.py:326: UserWarning: After over-sampling, the number of samples (10350) in class 3 will be larger than the number of samples in the majority class (class #2 -> 5421)\n",
      "  n_samples_majority,\n",
      "C:\\Users\\rozhouse\\Anaconda3\\lib\\site-packages\\imblearn\\utils\\_validation.py:326: UserWarning: After over-sampling, the number of samples (6012) in class 7 will be larger than the number of samples in the majority class (class #2 -> 5421)\n",
      "  n_samples_majority,\n"
     ]
    },
    {
     "name": "stdout",
     "output_type": "stream",
     "text": [
      "Starting Loop 549\n"
     ]
    },
    {
     "name": "stderr",
     "output_type": "stream",
     "text": [
      "C:\\Users\\rozhouse\\Anaconda3\\lib\\site-packages\\imblearn\\utils\\_validation.py:326: UserWarning: After over-sampling, the number of samples (10152) in class 3 will be larger than the number of samples in the majority class (class #2 -> 5436)\n",
      "  n_samples_majority,\n",
      "C:\\Users\\rozhouse\\Anaconda3\\lib\\site-packages\\imblearn\\utils\\_validation.py:326: UserWarning: After over-sampling, the number of samples (5982) in class 7 will be larger than the number of samples in the majority class (class #2 -> 5436)\n",
      "  n_samples_majority,\n"
     ]
    },
    {
     "name": "stdout",
     "output_type": "stream",
     "text": [
      "Starting Loop 550\n"
     ]
    },
    {
     "name": "stderr",
     "output_type": "stream",
     "text": [
      "C:\\Users\\rozhouse\\Anaconda3\\lib\\site-packages\\imblearn\\utils\\_validation.py:326: UserWarning: After over-sampling, the number of samples (10404) in class 3 will be larger than the number of samples in the majority class (class #2 -> 5451)\n",
      "  n_samples_majority,\n",
      "C:\\Users\\rozhouse\\Anaconda3\\lib\\site-packages\\imblearn\\utils\\_validation.py:326: UserWarning: After over-sampling, the number of samples (5760) in class 7 will be larger than the number of samples in the majority class (class #2 -> 5451)\n",
      "  n_samples_majority,\n"
     ]
    },
    {
     "name": "stdout",
     "output_type": "stream",
     "text": [
      "Starting Loop 551\n",
      "Starting Loop 552\n",
      "Starting Loop 553\n",
      "Starting Loop 554\n",
      "Starting Loop 555\n",
      "Starting Loop 556\n",
      "Starting Loop 557\n",
      "Starting Loop 558\n",
      "Starting Loop 559\n",
      "Starting Loop 560\n",
      "Starting Loop 561\n",
      "Starting Loop 562\n",
      "Starting Loop 563\n",
      "Starting Loop 564\n",
      "Starting Loop 565\n",
      "Starting Loop 566\n",
      "Starting Loop 567\n"
     ]
    },
    {
     "name": "stderr",
     "output_type": "stream",
     "text": [
      "C:\\Users\\rozhouse\\Anaconda3\\lib\\site-packages\\imblearn\\utils\\_validation.py:326: UserWarning: After over-sampling, the number of samples (3426) in class 3 will be larger than the number of samples in the majority class (class #2 -> 2725)\n",
      "  n_samples_majority,\n"
     ]
    },
    {
     "name": "stdout",
     "output_type": "stream",
     "text": [
      "Starting Loop 568\n"
     ]
    },
    {
     "name": "stderr",
     "output_type": "stream",
     "text": [
      "C:\\Users\\rozhouse\\Anaconda3\\lib\\site-packages\\imblearn\\utils\\_validation.py:326: UserWarning: After over-sampling, the number of samples (3450) in class 3 will be larger than the number of samples in the majority class (class #2 -> 2710)\n",
      "  n_samples_majority,\n"
     ]
    },
    {
     "name": "stdout",
     "output_type": "stream",
     "text": [
      "Starting Loop 569\n"
     ]
    },
    {
     "name": "stderr",
     "output_type": "stream",
     "text": [
      "C:\\Users\\rozhouse\\Anaconda3\\lib\\site-packages\\imblearn\\utils\\_validation.py:326: UserWarning: After over-sampling, the number of samples (3384) in class 3 will be larger than the number of samples in the majority class (class #2 -> 2718)\n",
      "  n_samples_majority,\n"
     ]
    },
    {
     "name": "stdout",
     "output_type": "stream",
     "text": [
      "Starting Loop 570\n"
     ]
    },
    {
     "name": "stderr",
     "output_type": "stream",
     "text": [
      "C:\\Users\\rozhouse\\Anaconda3\\lib\\site-packages\\imblearn\\utils\\_validation.py:326: UserWarning: After over-sampling, the number of samples (3468) in class 3 will be larger than the number of samples in the majority class (class #2 -> 2726)\n",
      "  n_samples_majority,\n"
     ]
    },
    {
     "name": "stdout",
     "output_type": "stream",
     "text": [
      "Starting Loop 571\n"
     ]
    },
    {
     "name": "stderr",
     "output_type": "stream",
     "text": [
      "C:\\Users\\rozhouse\\Anaconda3\\lib\\site-packages\\imblearn\\utils\\_validation.py:326: UserWarning: After over-sampling, the number of samples (6852) in class 3 will be larger than the number of samples in the majority class (class #2 -> 2725)\n",
      "  n_samples_majority,\n",
      "C:\\Users\\rozhouse\\Anaconda3\\lib\\site-packages\\imblearn\\utils\\_validation.py:326: UserWarning: After over-sampling, the number of samples (3248) in class 6 will be larger than the number of samples in the majority class (class #2 -> 2725)\n",
      "  n_samples_majority,\n",
      "C:\\Users\\rozhouse\\Anaconda3\\lib\\site-packages\\imblearn\\utils\\_validation.py:326: UserWarning: After over-sampling, the number of samples (3920) in class 7 will be larger than the number of samples in the majority class (class #2 -> 2725)\n",
      "  n_samples_majority,\n"
     ]
    },
    {
     "name": "stdout",
     "output_type": "stream",
     "text": [
      "Starting Loop 572\n"
     ]
    },
    {
     "name": "stderr",
     "output_type": "stream",
     "text": [
      "C:\\Users\\rozhouse\\Anaconda3\\lib\\site-packages\\imblearn\\utils\\_validation.py:326: UserWarning: After over-sampling, the number of samples (6900) in class 3 will be larger than the number of samples in the majority class (class #2 -> 2710)\n",
      "  n_samples_majority,\n",
      "C:\\Users\\rozhouse\\Anaconda3\\lib\\site-packages\\imblearn\\utils\\_validation.py:326: UserWarning: After over-sampling, the number of samples (3336) in class 6 will be larger than the number of samples in the majority class (class #2 -> 2710)\n",
      "  n_samples_majority,\n",
      "C:\\Users\\rozhouse\\Anaconda3\\lib\\site-packages\\imblearn\\utils\\_validation.py:326: UserWarning: After over-sampling, the number of samples (4008) in class 7 will be larger than the number of samples in the majority class (class #2 -> 2710)\n",
      "  n_samples_majority,\n"
     ]
    },
    {
     "name": "stdout",
     "output_type": "stream",
     "text": [
      "Starting Loop 573\n"
     ]
    },
    {
     "name": "stderr",
     "output_type": "stream",
     "text": [
      "C:\\Users\\rozhouse\\Anaconda3\\lib\\site-packages\\imblearn\\utils\\_validation.py:326: UserWarning: After over-sampling, the number of samples (6768) in class 3 will be larger than the number of samples in the majority class (class #2 -> 2718)\n",
      "  n_samples_majority,\n",
      "C:\\Users\\rozhouse\\Anaconda3\\lib\\site-packages\\imblearn\\utils\\_validation.py:326: UserWarning: After over-sampling, the number of samples (3356) in class 6 will be larger than the number of samples in the majority class (class #2 -> 2718)\n",
      "  n_samples_majority,\n",
      "C:\\Users\\rozhouse\\Anaconda3\\lib\\site-packages\\imblearn\\utils\\_validation.py:326: UserWarning: After over-sampling, the number of samples (3988) in class 7 will be larger than the number of samples in the majority class (class #2 -> 2718)\n",
      "  n_samples_majority,\n"
     ]
    },
    {
     "name": "stdout",
     "output_type": "stream",
     "text": [
      "Starting Loop 574\n"
     ]
    },
    {
     "name": "stderr",
     "output_type": "stream",
     "text": [
      "C:\\Users\\rozhouse\\Anaconda3\\lib\\site-packages\\imblearn\\utils\\_validation.py:326: UserWarning: After over-sampling, the number of samples (6936) in class 3 will be larger than the number of samples in the majority class (class #2 -> 2726)\n",
      "  n_samples_majority,\n",
      "C:\\Users\\rozhouse\\Anaconda3\\lib\\site-packages\\imblearn\\utils\\_validation.py:326: UserWarning: After over-sampling, the number of samples (3392) in class 6 will be larger than the number of samples in the majority class (class #2 -> 2726)\n",
      "  n_samples_majority,\n",
      "C:\\Users\\rozhouse\\Anaconda3\\lib\\site-packages\\imblearn\\utils\\_validation.py:326: UserWarning: After over-sampling, the number of samples (3840) in class 7 will be larger than the number of samples in the majority class (class #2 -> 2726)\n",
      "  n_samples_majority,\n"
     ]
    },
    {
     "name": "stdout",
     "output_type": "stream",
     "text": [
      "Starting Loop 575\n"
     ]
    },
    {
     "name": "stderr",
     "output_type": "stream",
     "text": [
      "C:\\Users\\rozhouse\\Anaconda3\\lib\\site-packages\\imblearn\\utils\\_validation.py:326: UserWarning: After over-sampling, the number of samples (10278) in class 3 will be larger than the number of samples in the majority class (class #2 -> 2725)\n",
      "  n_samples_majority,\n",
      "C:\\Users\\rozhouse\\Anaconda3\\lib\\site-packages\\imblearn\\utils\\_validation.py:326: UserWarning: After over-sampling, the number of samples (4872) in class 6 will be larger than the number of samples in the majority class (class #2 -> 2725)\n",
      "  n_samples_majority,\n",
      "C:\\Users\\rozhouse\\Anaconda3\\lib\\site-packages\\imblearn\\utils\\_validation.py:326: UserWarning: After over-sampling, the number of samples (5880) in class 7 will be larger than the number of samples in the majority class (class #2 -> 2725)\n",
      "  n_samples_majority,\n"
     ]
    },
    {
     "name": "stdout",
     "output_type": "stream",
     "text": [
      "Starting Loop 576\n"
     ]
    },
    {
     "name": "stderr",
     "output_type": "stream",
     "text": [
      "C:\\Users\\rozhouse\\Anaconda3\\lib\\site-packages\\imblearn\\utils\\_validation.py:326: UserWarning: After over-sampling, the number of samples (10350) in class 3 will be larger than the number of samples in the majority class (class #2 -> 2710)\n",
      "  n_samples_majority,\n",
      "C:\\Users\\rozhouse\\Anaconda3\\lib\\site-packages\\imblearn\\utils\\_validation.py:326: UserWarning: After over-sampling, the number of samples (5004) in class 6 will be larger than the number of samples in the majority class (class #2 -> 2710)\n",
      "  n_samples_majority,\n",
      "C:\\Users\\rozhouse\\Anaconda3\\lib\\site-packages\\imblearn\\utils\\_validation.py:326: UserWarning: After over-sampling, the number of samples (6012) in class 7 will be larger than the number of samples in the majority class (class #2 -> 2710)\n",
      "  n_samples_majority,\n"
     ]
    },
    {
     "name": "stdout",
     "output_type": "stream",
     "text": [
      "Starting Loop 577\n"
     ]
    },
    {
     "name": "stderr",
     "output_type": "stream",
     "text": [
      "C:\\Users\\rozhouse\\Anaconda3\\lib\\site-packages\\imblearn\\utils\\_validation.py:326: UserWarning: After over-sampling, the number of samples (10152) in class 3 will be larger than the number of samples in the majority class (class #2 -> 2718)\n",
      "  n_samples_majority,\n",
      "C:\\Users\\rozhouse\\Anaconda3\\lib\\site-packages\\imblearn\\utils\\_validation.py:326: UserWarning: After over-sampling, the number of samples (5034) in class 6 will be larger than the number of samples in the majority class (class #2 -> 2718)\n",
      "  n_samples_majority,\n",
      "C:\\Users\\rozhouse\\Anaconda3\\lib\\site-packages\\imblearn\\utils\\_validation.py:326: UserWarning: After over-sampling, the number of samples (5982) in class 7 will be larger than the number of samples in the majority class (class #2 -> 2718)\n",
      "  n_samples_majority,\n"
     ]
    },
    {
     "name": "stdout",
     "output_type": "stream",
     "text": [
      "Starting Loop 578\n"
     ]
    },
    {
     "name": "stderr",
     "output_type": "stream",
     "text": [
      "C:\\Users\\rozhouse\\Anaconda3\\lib\\site-packages\\imblearn\\utils\\_validation.py:326: UserWarning: After over-sampling, the number of samples (10404) in class 3 will be larger than the number of samples in the majority class (class #2 -> 2726)\n",
      "  n_samples_majority,\n",
      "C:\\Users\\rozhouse\\Anaconda3\\lib\\site-packages\\imblearn\\utils\\_validation.py:326: UserWarning: After over-sampling, the number of samples (2868) in class 5 will be larger than the number of samples in the majority class (class #2 -> 2726)\n",
      "  n_samples_majority,\n",
      "C:\\Users\\rozhouse\\Anaconda3\\lib\\site-packages\\imblearn\\utils\\_validation.py:326: UserWarning: After over-sampling, the number of samples (5088) in class 6 will be larger than the number of samples in the majority class (class #2 -> 2726)\n",
      "  n_samples_majority,\n",
      "C:\\Users\\rozhouse\\Anaconda3\\lib\\site-packages\\imblearn\\utils\\_validation.py:326: UserWarning: After over-sampling, the number of samples (5760) in class 7 will be larger than the number of samples in the majority class (class #2 -> 2726)\n",
      "  n_samples_majority,\n"
     ]
    },
    {
     "name": "stdout",
     "output_type": "stream",
     "text": [
      "Starting Loop 579\n"
     ]
    },
    {
     "name": "stderr",
     "output_type": "stream",
     "text": [
      "C:\\Users\\rozhouse\\Anaconda3\\lib\\site-packages\\imblearn\\utils\\_validation.py:326: UserWarning: After over-sampling, the number of samples (3426) in class 3 will be larger than the number of samples in the majority class (class #2 -> 2725)\n",
      "  n_samples_majority,\n",
      "C:\\Users\\rozhouse\\Anaconda3\\lib\\site-packages\\imblearn\\utils\\_validation.py:326: UserWarning: After over-sampling, the number of samples (4470) in class 5 will be larger than the number of samples in the majority class (class #2 -> 2725)\n",
      "  n_samples_majority,\n",
      "C:\\Users\\rozhouse\\Anaconda3\\lib\\site-packages\\imblearn\\utils\\_validation.py:326: UserWarning: After over-sampling, the number of samples (4060) in class 6 will be larger than the number of samples in the majority class (class #2 -> 2725)\n",
      "  n_samples_majority,\n",
      "C:\\Users\\rozhouse\\Anaconda3\\lib\\site-packages\\imblearn\\utils\\_validation.py:326: UserWarning: After over-sampling, the number of samples (3920) in class 7 will be larger than the number of samples in the majority class (class #2 -> 2725)\n",
      "  n_samples_majority,\n"
     ]
    },
    {
     "name": "stdout",
     "output_type": "stream",
     "text": [
      "Starting Loop 580\n"
     ]
    },
    {
     "name": "stderr",
     "output_type": "stream",
     "text": [
      "C:\\Users\\rozhouse\\Anaconda3\\lib\\site-packages\\imblearn\\utils\\_validation.py:326: UserWarning: After over-sampling, the number of samples (3450) in class 3 will be larger than the number of samples in the majority class (class #2 -> 2710)\n",
      "  n_samples_majority,\n",
      "C:\\Users\\rozhouse\\Anaconda3\\lib\\site-packages\\imblearn\\utils\\_validation.py:326: UserWarning: After over-sampling, the number of samples (4480) in class 5 will be larger than the number of samples in the majority class (class #2 -> 2710)\n",
      "  n_samples_majority,\n",
      "C:\\Users\\rozhouse\\Anaconda3\\lib\\site-packages\\imblearn\\utils\\_validation.py:326: UserWarning: After over-sampling, the number of samples (4170) in class 6 will be larger than the number of samples in the majority class (class #2 -> 2710)\n",
      "  n_samples_majority,\n",
      "C:\\Users\\rozhouse\\Anaconda3\\lib\\site-packages\\imblearn\\utils\\_validation.py:326: UserWarning: After over-sampling, the number of samples (4008) in class 7 will be larger than the number of samples in the majority class (class #2 -> 2710)\n",
      "  n_samples_majority,\n"
     ]
    },
    {
     "name": "stdout",
     "output_type": "stream",
     "text": [
      "Starting Loop 581\n"
     ]
    },
    {
     "name": "stderr",
     "output_type": "stream",
     "text": [
      "C:\\Users\\rozhouse\\Anaconda3\\lib\\site-packages\\imblearn\\utils\\_validation.py:326: UserWarning: After over-sampling, the number of samples (3384) in class 3 will be larger than the number of samples in the majority class (class #2 -> 2718)\n",
      "  n_samples_majority,\n",
      "C:\\Users\\rozhouse\\Anaconda3\\lib\\site-packages\\imblearn\\utils\\_validation.py:326: UserWarning: After over-sampling, the number of samples (4480) in class 5 will be larger than the number of samples in the majority class (class #2 -> 2718)\n",
      "  n_samples_majority,\n",
      "C:\\Users\\rozhouse\\Anaconda3\\lib\\site-packages\\imblearn\\utils\\_validation.py:326: UserWarning: After over-sampling, the number of samples (4195) in class 6 will be larger than the number of samples in the majority class (class #2 -> 2718)\n",
      "  n_samples_majority,\n",
      "C:\\Users\\rozhouse\\Anaconda3\\lib\\site-packages\\imblearn\\utils\\_validation.py:326: UserWarning: After over-sampling, the number of samples (3988) in class 7 will be larger than the number of samples in the majority class (class #2 -> 2718)\n",
      "  n_samples_majority,\n"
     ]
    },
    {
     "name": "stdout",
     "output_type": "stream",
     "text": [
      "Starting Loop 582\n"
     ]
    },
    {
     "name": "stderr",
     "output_type": "stream",
     "text": [
      "C:\\Users\\rozhouse\\Anaconda3\\lib\\site-packages\\imblearn\\utils\\_validation.py:326: UserWarning: After over-sampling, the number of samples (3468) in class 3 will be larger than the number of samples in the majority class (class #2 -> 2726)\n",
      "  n_samples_majority,\n",
      "C:\\Users\\rozhouse\\Anaconda3\\lib\\site-packages\\imblearn\\utils\\_validation.py:326: UserWarning: After over-sampling, the number of samples (4780) in class 5 will be larger than the number of samples in the majority class (class #2 -> 2726)\n",
      "  n_samples_majority,\n",
      "C:\\Users\\rozhouse\\Anaconda3\\lib\\site-packages\\imblearn\\utils\\_validation.py:326: UserWarning: After over-sampling, the number of samples (4240) in class 6 will be larger than the number of samples in the majority class (class #2 -> 2726)\n",
      "  n_samples_majority,\n",
      "C:\\Users\\rozhouse\\Anaconda3\\lib\\site-packages\\imblearn\\utils\\_validation.py:326: UserWarning: After over-sampling, the number of samples (3840) in class 7 will be larger than the number of samples in the majority class (class #2 -> 2726)\n",
      "  n_samples_majority,\n"
     ]
    },
    {
     "name": "stdout",
     "output_type": "stream",
     "text": [
      "Starting Loop 583\n",
      "Starting Loop 584\n",
      "Starting Loop 585\n",
      "Starting Loop 586\n",
      "Starting Loop 587\n",
      "Starting Loop 588\n",
      "Starting Loop 589\n",
      "Starting Loop 590\n",
      "Starting Loop 591\n",
      "Starting Loop 592\n",
      "Starting Loop 593\n",
      "Starting Loop 594\n",
      "Starting Loop 595\n"
     ]
    },
    {
     "name": "stderr",
     "output_type": "stream",
     "text": [
      "C:\\Users\\rozhouse\\Anaconda3\\lib\\site-packages\\imblearn\\utils\\_validation.py:326: UserWarning: After over-sampling, the number of samples (3426) in class 3 will be larger than the number of samples in the majority class (class #2 -> 2725)\n",
      "  n_samples_majority,\n"
     ]
    },
    {
     "name": "stdout",
     "output_type": "stream",
     "text": [
      "Starting Loop 596\n"
     ]
    },
    {
     "name": "stderr",
     "output_type": "stream",
     "text": [
      "C:\\Users\\rozhouse\\Anaconda3\\lib\\site-packages\\imblearn\\utils\\_validation.py:326: UserWarning: After over-sampling, the number of samples (3450) in class 3 will be larger than the number of samples in the majority class (class #2 -> 2710)\n",
      "  n_samples_majority,\n"
     ]
    },
    {
     "name": "stdout",
     "output_type": "stream",
     "text": [
      "Starting Loop 597\n"
     ]
    },
    {
     "name": "stderr",
     "output_type": "stream",
     "text": [
      "C:\\Users\\rozhouse\\Anaconda3\\lib\\site-packages\\imblearn\\utils\\_validation.py:326: UserWarning: After over-sampling, the number of samples (3384) in class 3 will be larger than the number of samples in the majority class (class #2 -> 2718)\n",
      "  n_samples_majority,\n"
     ]
    },
    {
     "name": "stdout",
     "output_type": "stream",
     "text": [
      "Starting Loop 598\n"
     ]
    },
    {
     "name": "stderr",
     "output_type": "stream",
     "text": [
      "C:\\Users\\rozhouse\\Anaconda3\\lib\\site-packages\\imblearn\\utils\\_validation.py:326: UserWarning: After over-sampling, the number of samples (3468) in class 3 will be larger than the number of samples in the majority class (class #2 -> 2726)\n",
      "  n_samples_majority,\n"
     ]
    },
    {
     "name": "stdout",
     "output_type": "stream",
     "text": [
      "Starting Loop 599\n"
     ]
    },
    {
     "name": "stderr",
     "output_type": "stream",
     "text": [
      "C:\\Users\\rozhouse\\Anaconda3\\lib\\site-packages\\imblearn\\utils\\_validation.py:326: UserWarning: After over-sampling, the number of samples (6852) in class 3 will be larger than the number of samples in the majority class (class #2 -> 2725)\n",
      "  n_samples_majority,\n",
      "C:\\Users\\rozhouse\\Anaconda3\\lib\\site-packages\\imblearn\\utils\\_validation.py:326: UserWarning: After over-sampling, the number of samples (3248) in class 6 will be larger than the number of samples in the majority class (class #2 -> 2725)\n",
      "  n_samples_majority,\n",
      "C:\\Users\\rozhouse\\Anaconda3\\lib\\site-packages\\imblearn\\utils\\_validation.py:326: UserWarning: After over-sampling, the number of samples (3920) in class 7 will be larger than the number of samples in the majority class (class #2 -> 2725)\n",
      "  n_samples_majority,\n"
     ]
    },
    {
     "name": "stdout",
     "output_type": "stream",
     "text": [
      "Starting Loop 600\n"
     ]
    },
    {
     "name": "stderr",
     "output_type": "stream",
     "text": [
      "C:\\Users\\rozhouse\\Anaconda3\\lib\\site-packages\\imblearn\\utils\\_validation.py:326: UserWarning: After over-sampling, the number of samples (6900) in class 3 will be larger than the number of samples in the majority class (class #2 -> 2710)\n",
      "  n_samples_majority,\n",
      "C:\\Users\\rozhouse\\Anaconda3\\lib\\site-packages\\imblearn\\utils\\_validation.py:326: UserWarning: After over-sampling, the number of samples (3336) in class 6 will be larger than the number of samples in the majority class (class #2 -> 2710)\n",
      "  n_samples_majority,\n",
      "C:\\Users\\rozhouse\\Anaconda3\\lib\\site-packages\\imblearn\\utils\\_validation.py:326: UserWarning: After over-sampling, the number of samples (4008) in class 7 will be larger than the number of samples in the majority class (class #2 -> 2710)\n",
      "  n_samples_majority,\n"
     ]
    },
    {
     "name": "stdout",
     "output_type": "stream",
     "text": [
      "Starting Loop 601\n"
     ]
    },
    {
     "name": "stderr",
     "output_type": "stream",
     "text": [
      "C:\\Users\\rozhouse\\Anaconda3\\lib\\site-packages\\imblearn\\utils\\_validation.py:326: UserWarning: After over-sampling, the number of samples (6768) in class 3 will be larger than the number of samples in the majority class (class #2 -> 2718)\n",
      "  n_samples_majority,\n",
      "C:\\Users\\rozhouse\\Anaconda3\\lib\\site-packages\\imblearn\\utils\\_validation.py:326: UserWarning: After over-sampling, the number of samples (3356) in class 6 will be larger than the number of samples in the majority class (class #2 -> 2718)\n",
      "  n_samples_majority,\n",
      "C:\\Users\\rozhouse\\Anaconda3\\lib\\site-packages\\imblearn\\utils\\_validation.py:326: UserWarning: After over-sampling, the number of samples (3988) in class 7 will be larger than the number of samples in the majority class (class #2 -> 2718)\n",
      "  n_samples_majority,\n"
     ]
    },
    {
     "name": "stdout",
     "output_type": "stream",
     "text": [
      "Starting Loop 602\n"
     ]
    },
    {
     "name": "stderr",
     "output_type": "stream",
     "text": [
      "C:\\Users\\rozhouse\\Anaconda3\\lib\\site-packages\\imblearn\\utils\\_validation.py:326: UserWarning: After over-sampling, the number of samples (6936) in class 3 will be larger than the number of samples in the majority class (class #2 -> 2726)\n",
      "  n_samples_majority,\n",
      "C:\\Users\\rozhouse\\Anaconda3\\lib\\site-packages\\imblearn\\utils\\_validation.py:326: UserWarning: After over-sampling, the number of samples (3392) in class 6 will be larger than the number of samples in the majority class (class #2 -> 2726)\n",
      "  n_samples_majority,\n",
      "C:\\Users\\rozhouse\\Anaconda3\\lib\\site-packages\\imblearn\\utils\\_validation.py:326: UserWarning: After over-sampling, the number of samples (3840) in class 7 will be larger than the number of samples in the majority class (class #2 -> 2726)\n",
      "  n_samples_majority,\n"
     ]
    },
    {
     "name": "stdout",
     "output_type": "stream",
     "text": [
      "Starting Loop 603\n"
     ]
    },
    {
     "name": "stderr",
     "output_type": "stream",
     "text": [
      "C:\\Users\\rozhouse\\Anaconda3\\lib\\site-packages\\imblearn\\utils\\_validation.py:326: UserWarning: After over-sampling, the number of samples (10278) in class 3 will be larger than the number of samples in the majority class (class #2 -> 2725)\n",
      "  n_samples_majority,\n",
      "C:\\Users\\rozhouse\\Anaconda3\\lib\\site-packages\\imblearn\\utils\\_validation.py:326: UserWarning: After over-sampling, the number of samples (4872) in class 6 will be larger than the number of samples in the majority class (class #2 -> 2725)\n",
      "  n_samples_majority,\n",
      "C:\\Users\\rozhouse\\Anaconda3\\lib\\site-packages\\imblearn\\utils\\_validation.py:326: UserWarning: After over-sampling, the number of samples (5880) in class 7 will be larger than the number of samples in the majority class (class #2 -> 2725)\n",
      "  n_samples_majority,\n"
     ]
    },
    {
     "name": "stdout",
     "output_type": "stream",
     "text": [
      "Starting Loop 604\n"
     ]
    },
    {
     "name": "stderr",
     "output_type": "stream",
     "text": [
      "C:\\Users\\rozhouse\\Anaconda3\\lib\\site-packages\\imblearn\\utils\\_validation.py:326: UserWarning: After over-sampling, the number of samples (10350) in class 3 will be larger than the number of samples in the majority class (class #2 -> 2710)\n",
      "  n_samples_majority,\n",
      "C:\\Users\\rozhouse\\Anaconda3\\lib\\site-packages\\imblearn\\utils\\_validation.py:326: UserWarning: After over-sampling, the number of samples (5004) in class 6 will be larger than the number of samples in the majority class (class #2 -> 2710)\n",
      "  n_samples_majority,\n",
      "C:\\Users\\rozhouse\\Anaconda3\\lib\\site-packages\\imblearn\\utils\\_validation.py:326: UserWarning: After over-sampling, the number of samples (6012) in class 7 will be larger than the number of samples in the majority class (class #2 -> 2710)\n",
      "  n_samples_majority,\n"
     ]
    },
    {
     "name": "stdout",
     "output_type": "stream",
     "text": [
      "Starting Loop 605\n"
     ]
    },
    {
     "name": "stderr",
     "output_type": "stream",
     "text": [
      "C:\\Users\\rozhouse\\Anaconda3\\lib\\site-packages\\imblearn\\utils\\_validation.py:326: UserWarning: After over-sampling, the number of samples (10152) in class 3 will be larger than the number of samples in the majority class (class #2 -> 2718)\n",
      "  n_samples_majority,\n",
      "C:\\Users\\rozhouse\\Anaconda3\\lib\\site-packages\\imblearn\\utils\\_validation.py:326: UserWarning: After over-sampling, the number of samples (5034) in class 6 will be larger than the number of samples in the majority class (class #2 -> 2718)\n",
      "  n_samples_majority,\n",
      "C:\\Users\\rozhouse\\Anaconda3\\lib\\site-packages\\imblearn\\utils\\_validation.py:326: UserWarning: After over-sampling, the number of samples (5982) in class 7 will be larger than the number of samples in the majority class (class #2 -> 2718)\n",
      "  n_samples_majority,\n"
     ]
    },
    {
     "name": "stdout",
     "output_type": "stream",
     "text": [
      "Starting Loop 606\n"
     ]
    },
    {
     "name": "stderr",
     "output_type": "stream",
     "text": [
      "C:\\Users\\rozhouse\\Anaconda3\\lib\\site-packages\\imblearn\\utils\\_validation.py:326: UserWarning: After over-sampling, the number of samples (10404) in class 3 will be larger than the number of samples in the majority class (class #2 -> 2726)\n",
      "  n_samples_majority,\n",
      "C:\\Users\\rozhouse\\Anaconda3\\lib\\site-packages\\imblearn\\utils\\_validation.py:326: UserWarning: After over-sampling, the number of samples (2868) in class 5 will be larger than the number of samples in the majority class (class #2 -> 2726)\n",
      "  n_samples_majority,\n",
      "C:\\Users\\rozhouse\\Anaconda3\\lib\\site-packages\\imblearn\\utils\\_validation.py:326: UserWarning: After over-sampling, the number of samples (5088) in class 6 will be larger than the number of samples in the majority class (class #2 -> 2726)\n",
      "  n_samples_majority,\n",
      "C:\\Users\\rozhouse\\Anaconda3\\lib\\site-packages\\imblearn\\utils\\_validation.py:326: UserWarning: After over-sampling, the number of samples (5760) in class 7 will be larger than the number of samples in the majority class (class #2 -> 2726)\n",
      "  n_samples_majority,\n"
     ]
    },
    {
     "name": "stdout",
     "output_type": "stream",
     "text": [
      "Starting Loop 607\n"
     ]
    },
    {
     "name": "stderr",
     "output_type": "stream",
     "text": [
      "C:\\Users\\rozhouse\\Anaconda3\\lib\\site-packages\\imblearn\\utils\\_validation.py:326: UserWarning: After over-sampling, the number of samples (3426) in class 3 will be larger than the number of samples in the majority class (class #2 -> 2725)\n",
      "  n_samples_majority,\n",
      "C:\\Users\\rozhouse\\Anaconda3\\lib\\site-packages\\imblearn\\utils\\_validation.py:326: UserWarning: After over-sampling, the number of samples (4470) in class 5 will be larger than the number of samples in the majority class (class #2 -> 2725)\n",
      "  n_samples_majority,\n",
      "C:\\Users\\rozhouse\\Anaconda3\\lib\\site-packages\\imblearn\\utils\\_validation.py:326: UserWarning: After over-sampling, the number of samples (4060) in class 6 will be larger than the number of samples in the majority class (class #2 -> 2725)\n",
      "  n_samples_majority,\n",
      "C:\\Users\\rozhouse\\Anaconda3\\lib\\site-packages\\imblearn\\utils\\_validation.py:326: UserWarning: After over-sampling, the number of samples (3920) in class 7 will be larger than the number of samples in the majority class (class #2 -> 2725)\n",
      "  n_samples_majority,\n"
     ]
    },
    {
     "name": "stdout",
     "output_type": "stream",
     "text": [
      "Starting Loop 608\n"
     ]
    },
    {
     "name": "stderr",
     "output_type": "stream",
     "text": [
      "C:\\Users\\rozhouse\\Anaconda3\\lib\\site-packages\\imblearn\\utils\\_validation.py:326: UserWarning: After over-sampling, the number of samples (3450) in class 3 will be larger than the number of samples in the majority class (class #2 -> 2710)\n",
      "  n_samples_majority,\n",
      "C:\\Users\\rozhouse\\Anaconda3\\lib\\site-packages\\imblearn\\utils\\_validation.py:326: UserWarning: After over-sampling, the number of samples (4480) in class 5 will be larger than the number of samples in the majority class (class #2 -> 2710)\n",
      "  n_samples_majority,\n",
      "C:\\Users\\rozhouse\\Anaconda3\\lib\\site-packages\\imblearn\\utils\\_validation.py:326: UserWarning: After over-sampling, the number of samples (4170) in class 6 will be larger than the number of samples in the majority class (class #2 -> 2710)\n",
      "  n_samples_majority,\n",
      "C:\\Users\\rozhouse\\Anaconda3\\lib\\site-packages\\imblearn\\utils\\_validation.py:326: UserWarning: After over-sampling, the number of samples (4008) in class 7 will be larger than the number of samples in the majority class (class #2 -> 2710)\n",
      "  n_samples_majority,\n"
     ]
    },
    {
     "name": "stdout",
     "output_type": "stream",
     "text": [
      "Starting Loop 609\n"
     ]
    },
    {
     "name": "stderr",
     "output_type": "stream",
     "text": [
      "C:\\Users\\rozhouse\\Anaconda3\\lib\\site-packages\\imblearn\\utils\\_validation.py:326: UserWarning: After over-sampling, the number of samples (3384) in class 3 will be larger than the number of samples in the majority class (class #2 -> 2718)\n",
      "  n_samples_majority,\n",
      "C:\\Users\\rozhouse\\Anaconda3\\lib\\site-packages\\imblearn\\utils\\_validation.py:326: UserWarning: After over-sampling, the number of samples (4480) in class 5 will be larger than the number of samples in the majority class (class #2 -> 2718)\n",
      "  n_samples_majority,\n",
      "C:\\Users\\rozhouse\\Anaconda3\\lib\\site-packages\\imblearn\\utils\\_validation.py:326: UserWarning: After over-sampling, the number of samples (4195) in class 6 will be larger than the number of samples in the majority class (class #2 -> 2718)\n",
      "  n_samples_majority,\n",
      "C:\\Users\\rozhouse\\Anaconda3\\lib\\site-packages\\imblearn\\utils\\_validation.py:326: UserWarning: After over-sampling, the number of samples (3988) in class 7 will be larger than the number of samples in the majority class (class #2 -> 2718)\n",
      "  n_samples_majority,\n"
     ]
    },
    {
     "name": "stdout",
     "output_type": "stream",
     "text": [
      "Starting Loop 610\n"
     ]
    },
    {
     "name": "stderr",
     "output_type": "stream",
     "text": [
      "C:\\Users\\rozhouse\\Anaconda3\\lib\\site-packages\\imblearn\\utils\\_validation.py:326: UserWarning: After over-sampling, the number of samples (3468) in class 3 will be larger than the number of samples in the majority class (class #2 -> 2726)\n",
      "  n_samples_majority,\n",
      "C:\\Users\\rozhouse\\Anaconda3\\lib\\site-packages\\imblearn\\utils\\_validation.py:326: UserWarning: After over-sampling, the number of samples (4780) in class 5 will be larger than the number of samples in the majority class (class #2 -> 2726)\n",
      "  n_samples_majority,\n",
      "C:\\Users\\rozhouse\\Anaconda3\\lib\\site-packages\\imblearn\\utils\\_validation.py:326: UserWarning: After over-sampling, the number of samples (4240) in class 6 will be larger than the number of samples in the majority class (class #2 -> 2726)\n",
      "  n_samples_majority,\n",
      "C:\\Users\\rozhouse\\Anaconda3\\lib\\site-packages\\imblearn\\utils\\_validation.py:326: UserWarning: After over-sampling, the number of samples (3840) in class 7 will be larger than the number of samples in the majority class (class #2 -> 2726)\n",
      "  n_samples_majority,\n"
     ]
    },
    {
     "name": "stdout",
     "output_type": "stream",
     "text": [
      "Starting Loop 611\n",
      "Starting Loop 612\n",
      "Starting Loop 613\n",
      "Starting Loop 614\n",
      "Starting Loop 615\n",
      "Starting Loop 616\n",
      "Starting Loop 617\n",
      "Starting Loop 618\n",
      "Starting Loop 619\n",
      "Starting Loop 620\n",
      "Starting Loop 621\n",
      "Starting Loop 622\n",
      "Starting Loop 623\n",
      "Starting Loop 624\n",
      "Starting Loop 625\n",
      "Starting Loop 626\n",
      "Starting Loop 627\n"
     ]
    },
    {
     "name": "stderr",
     "output_type": "stream",
     "text": [
      "C:\\Users\\rozhouse\\Anaconda3\\lib\\site-packages\\imblearn\\utils\\_validation.py:326: UserWarning: After over-sampling, the number of samples (6852) in class 3 will be larger than the number of samples in the majority class (class #1 -> 5605)\n",
      "  n_samples_majority,\n"
     ]
    },
    {
     "name": "stdout",
     "output_type": "stream",
     "text": [
      "Starting Loop 628\n"
     ]
    },
    {
     "name": "stderr",
     "output_type": "stream",
     "text": [
      "C:\\Users\\rozhouse\\Anaconda3\\lib\\site-packages\\imblearn\\utils\\_validation.py:326: UserWarning: After over-sampling, the number of samples (6900) in class 3 will be larger than the number of samples in the majority class (class #1 -> 5605)\n",
      "  n_samples_majority,\n"
     ]
    },
    {
     "name": "stdout",
     "output_type": "stream",
     "text": [
      "Starting Loop 629\n"
     ]
    },
    {
     "name": "stderr",
     "output_type": "stream",
     "text": [
      "C:\\Users\\rozhouse\\Anaconda3\\lib\\site-packages\\imblearn\\utils\\_validation.py:326: UserWarning: After over-sampling, the number of samples (6768) in class 3 will be larger than the number of samples in the majority class (class #1 -> 5601)\n",
      "  n_samples_majority,\n"
     ]
    },
    {
     "name": "stdout",
     "output_type": "stream",
     "text": [
      "Starting Loop 630\n"
     ]
    },
    {
     "name": "stderr",
     "output_type": "stream",
     "text": [
      "C:\\Users\\rozhouse\\Anaconda3\\lib\\site-packages\\imblearn\\utils\\_validation.py:326: UserWarning: After over-sampling, the number of samples (6936) in class 3 will be larger than the number of samples in the majority class (class #1 -> 5559)\n",
      "  n_samples_majority,\n"
     ]
    },
    {
     "name": "stdout",
     "output_type": "stream",
     "text": [
      "Starting Loop 631\n"
     ]
    },
    {
     "name": "stderr",
     "output_type": "stream",
     "text": [
      "C:\\Users\\rozhouse\\Anaconda3\\lib\\site-packages\\imblearn\\utils\\_validation.py:326: UserWarning: After over-sampling, the number of samples (10278) in class 3 will be larger than the number of samples in the majority class (class #1 -> 5605)\n",
      "  n_samples_majority,\n",
      "C:\\Users\\rozhouse\\Anaconda3\\lib\\site-packages\\imblearn\\utils\\_validation.py:326: UserWarning: After over-sampling, the number of samples (5880) in class 7 will be larger than the number of samples in the majority class (class #1 -> 5605)\n",
      "  n_samples_majority,\n"
     ]
    },
    {
     "name": "stdout",
     "output_type": "stream",
     "text": [
      "Starting Loop 632\n"
     ]
    },
    {
     "name": "stderr",
     "output_type": "stream",
     "text": [
      "C:\\Users\\rozhouse\\Anaconda3\\lib\\site-packages\\imblearn\\utils\\_validation.py:326: UserWarning: After over-sampling, the number of samples (10350) in class 3 will be larger than the number of samples in the majority class (class #1 -> 5605)\n",
      "  n_samples_majority,\n",
      "C:\\Users\\rozhouse\\Anaconda3\\lib\\site-packages\\imblearn\\utils\\_validation.py:326: UserWarning: After over-sampling, the number of samples (6012) in class 7 will be larger than the number of samples in the majority class (class #1 -> 5605)\n",
      "  n_samples_majority,\n"
     ]
    },
    {
     "name": "stdout",
     "output_type": "stream",
     "text": [
      "Starting Loop 633\n"
     ]
    },
    {
     "name": "stderr",
     "output_type": "stream",
     "text": [
      "C:\\Users\\rozhouse\\Anaconda3\\lib\\site-packages\\imblearn\\utils\\_validation.py:326: UserWarning: After over-sampling, the number of samples (10152) in class 3 will be larger than the number of samples in the majority class (class #1 -> 5601)\n",
      "  n_samples_majority,\n",
      "C:\\Users\\rozhouse\\Anaconda3\\lib\\site-packages\\imblearn\\utils\\_validation.py:326: UserWarning: After over-sampling, the number of samples (5982) in class 7 will be larger than the number of samples in the majority class (class #1 -> 5601)\n",
      "  n_samples_majority,\n"
     ]
    },
    {
     "name": "stdout",
     "output_type": "stream",
     "text": [
      "Starting Loop 634\n"
     ]
    },
    {
     "name": "stderr",
     "output_type": "stream",
     "text": [
      "C:\\Users\\rozhouse\\Anaconda3\\lib\\site-packages\\imblearn\\utils\\_validation.py:326: UserWarning: After over-sampling, the number of samples (10404) in class 3 will be larger than the number of samples in the majority class (class #1 -> 5559)\n",
      "  n_samples_majority,\n",
      "C:\\Users\\rozhouse\\Anaconda3\\lib\\site-packages\\imblearn\\utils\\_validation.py:326: UserWarning: After over-sampling, the number of samples (5760) in class 7 will be larger than the number of samples in the majority class (class #1 -> 5559)\n",
      "  n_samples_majority,\n"
     ]
    },
    {
     "name": "stdout",
     "output_type": "stream",
     "text": [
      "Starting Loop 635\n",
      "Starting Loop 636\n",
      "Starting Loop 637\n",
      "Starting Loop 638\n",
      "Starting Loop 639\n",
      "Starting Loop 640\n",
      "Starting Loop 641\n",
      "Starting Loop 642\n",
      "Starting Loop 643\n",
      "Starting Loop 644\n",
      "Starting Loop 645\n",
      "Starting Loop 646\n",
      "Starting Loop 647\n",
      "Starting Loop 648\n",
      "Starting Loop 649\n",
      "Starting Loop 650\n",
      "Starting Loop 651\n",
      "Starting Loop 652\n",
      "Starting Loop 653\n",
      "Starting Loop 654\n",
      "Starting Loop 655\n"
     ]
    },
    {
     "name": "stderr",
     "output_type": "stream",
     "text": [
      "C:\\Users\\rozhouse\\Anaconda3\\lib\\site-packages\\imblearn\\utils\\_validation.py:326: UserWarning: After over-sampling, the number of samples (6852) in class 3 will be larger than the number of samples in the majority class (class #1 -> 5605)\n",
      "  n_samples_majority,\n"
     ]
    },
    {
     "name": "stdout",
     "output_type": "stream",
     "text": [
      "Starting Loop 656\n"
     ]
    },
    {
     "name": "stderr",
     "output_type": "stream",
     "text": [
      "C:\\Users\\rozhouse\\Anaconda3\\lib\\site-packages\\imblearn\\utils\\_validation.py:326: UserWarning: After over-sampling, the number of samples (6900) in class 3 will be larger than the number of samples in the majority class (class #1 -> 5605)\n",
      "  n_samples_majority,\n"
     ]
    },
    {
     "name": "stdout",
     "output_type": "stream",
     "text": [
      "Starting Loop 657\n"
     ]
    },
    {
     "name": "stderr",
     "output_type": "stream",
     "text": [
      "C:\\Users\\rozhouse\\Anaconda3\\lib\\site-packages\\imblearn\\utils\\_validation.py:326: UserWarning: After over-sampling, the number of samples (6768) in class 3 will be larger than the number of samples in the majority class (class #1 -> 5601)\n",
      "  n_samples_majority,\n"
     ]
    },
    {
     "name": "stdout",
     "output_type": "stream",
     "text": [
      "Starting Loop 658\n"
     ]
    },
    {
     "name": "stderr",
     "output_type": "stream",
     "text": [
      "C:\\Users\\rozhouse\\Anaconda3\\lib\\site-packages\\imblearn\\utils\\_validation.py:326: UserWarning: After over-sampling, the number of samples (6936) in class 3 will be larger than the number of samples in the majority class (class #1 -> 5559)\n",
      "  n_samples_majority,\n"
     ]
    },
    {
     "name": "stdout",
     "output_type": "stream",
     "text": [
      "Starting Loop 659\n"
     ]
    },
    {
     "name": "stderr",
     "output_type": "stream",
     "text": [
      "C:\\Users\\rozhouse\\Anaconda3\\lib\\site-packages\\imblearn\\utils\\_validation.py:326: UserWarning: After over-sampling, the number of samples (10278) in class 3 will be larger than the number of samples in the majority class (class #1 -> 5605)\n",
      "  n_samples_majority,\n",
      "C:\\Users\\rozhouse\\Anaconda3\\lib\\site-packages\\imblearn\\utils\\_validation.py:326: UserWarning: After over-sampling, the number of samples (5880) in class 7 will be larger than the number of samples in the majority class (class #1 -> 5605)\n",
      "  n_samples_majority,\n"
     ]
    },
    {
     "name": "stdout",
     "output_type": "stream",
     "text": [
      "Starting Loop 660\n"
     ]
    },
    {
     "name": "stderr",
     "output_type": "stream",
     "text": [
      "C:\\Users\\rozhouse\\Anaconda3\\lib\\site-packages\\imblearn\\utils\\_validation.py:326: UserWarning: After over-sampling, the number of samples (10350) in class 3 will be larger than the number of samples in the majority class (class #1 -> 5605)\n",
      "  n_samples_majority,\n",
      "C:\\Users\\rozhouse\\Anaconda3\\lib\\site-packages\\imblearn\\utils\\_validation.py:326: UserWarning: After over-sampling, the number of samples (6012) in class 7 will be larger than the number of samples in the majority class (class #1 -> 5605)\n",
      "  n_samples_majority,\n"
     ]
    },
    {
     "name": "stdout",
     "output_type": "stream",
     "text": [
      "Starting Loop 661\n"
     ]
    },
    {
     "name": "stderr",
     "output_type": "stream",
     "text": [
      "C:\\Users\\rozhouse\\Anaconda3\\lib\\site-packages\\imblearn\\utils\\_validation.py:326: UserWarning: After over-sampling, the number of samples (10152) in class 3 will be larger than the number of samples in the majority class (class #1 -> 5601)\n",
      "  n_samples_majority,\n",
      "C:\\Users\\rozhouse\\Anaconda3\\lib\\site-packages\\imblearn\\utils\\_validation.py:326: UserWarning: After over-sampling, the number of samples (5982) in class 7 will be larger than the number of samples in the majority class (class #1 -> 5601)\n",
      "  n_samples_majority,\n"
     ]
    },
    {
     "name": "stdout",
     "output_type": "stream",
     "text": [
      "Starting Loop 662\n"
     ]
    },
    {
     "name": "stderr",
     "output_type": "stream",
     "text": [
      "C:\\Users\\rozhouse\\Anaconda3\\lib\\site-packages\\imblearn\\utils\\_validation.py:326: UserWarning: After over-sampling, the number of samples (10404) in class 3 will be larger than the number of samples in the majority class (class #1 -> 5559)\n",
      "  n_samples_majority,\n",
      "C:\\Users\\rozhouse\\Anaconda3\\lib\\site-packages\\imblearn\\utils\\_validation.py:326: UserWarning: After over-sampling, the number of samples (5760) in class 7 will be larger than the number of samples in the majority class (class #1 -> 5559)\n",
      "  n_samples_majority,\n"
     ]
    },
    {
     "name": "stdout",
     "output_type": "stream",
     "text": [
      "Starting Loop 663\n",
      "Starting Loop 664\n",
      "Starting Loop 665\n",
      "Starting Loop 666\n",
      "Starting Loop 667\n",
      "Starting Loop 668\n",
      "Starting Loop 669\n",
      "Starting Loop 670\n",
      "Starting Loop 671\n"
     ]
    }
   ],
   "source": [
    "test_results = np.zeros(((len(tomek)*len(unders)*len(overs)), 11))\n",
    "\n",
    "loop_counter = 0\n",
    "\n",
    "print(\"TOTAL LOOPS = \", (len(tomek)*len(unders)*len(overs)*n_folds))\n",
    "\n",
    "\n",
    "for t in range(len(tomek)):\n",
    "\n",
    "    for u in range(len(unders)):\n",
    "\n",
    "        for o in range(len(overs)):\n",
    "\n",
    "            val_losses = 0\n",
    "            accuracies = 0\n",
    "            epochs = 0\n",
    "            vll = []\n",
    "\n",
    "            start = time.time()\n",
    "\n",
    "            for train_index, test_index in kf.split(X_gs):\n",
    "                \n",
    "                # Setting Model and Optimizer (parameters found previously):\n",
    "                mlp_model = MLP(n_features=54, n_classes=7, n_neurons=512, activ = nn.LeakyReLU(), drop = 0.1)\n",
    "                optimizer = torch.optim.SGD(mlp_model.parameters(), lr = 0.1, momentum = 0.9)\n",
    "\n",
    "                # Obtaining the indexes to split the data for each Cross Validation Fold:\n",
    "                X_train_CV, X_val_CV = X_gs[train_index], X_gs[test_index]\n",
    "                y_train_CV, y_val_CV = y_gs[train_index], y_gs[test_index]\n",
    "                \n",
    "                # Definining Scaler:\n",
    "                scaler = MinMaxScaler()\n",
    "\n",
    "                # Fitting scaler on X_train_CV:\n",
    "                X_train_CV = scaler.fit_transform(X_train_CV)\n",
    "                \n",
    "                # The applying that scaler to X_val separately:\n",
    "                X_val_CV = scaler.transform(X_val_CV)\n",
    "                \n",
    "                \n",
    "                ###### APPLYING SAMPLING STRATEGY ######\n",
    "                # Appling sampling strategies to X_train/y_train after splitting for Cross-val\n",
    "                \n",
    "                # Only applying Tomek Links on half the loops (t = 0 or 1):\n",
    "                if t == 0:\n",
    "                    resample = tomek[t]\n",
    "                    X_train_CV, y_train_CV = resample.fit_resample(X_train_CV, y_train_CV)\n",
    "                    \n",
    "                # Undersampling applied on majority classes according to methods above:\n",
    "                under_strategy = {1:get_count(y_train_CV, 1, unders[u][0]),\n",
    "                                  2:get_count(y_train_CV, 2, unders[u][1])}\n",
    "                \n",
    "                undersample = RandomUnderSampler(sampling_strategy = under_strategy)\n",
    "                X_train_CV, y_train_CV = undersample.fit_resample(X_train_CV, y_train_CV)\n",
    "                \n",
    "                # Oversampling applied on minority classes according to methods above:\n",
    "                if o == 6:\n",
    "                    oversample = SMOTE()\n",
    "                elif o == 13:\n",
    "                    oversample = BorderlineSMOTE()\n",
    "                elif o < 6:\n",
    "                    over_strategy = {3:get_count(y_train_CV, 3, overs[o][0]),\n",
    "                                     4:get_count(y_train_CV, 4, overs[o][1]),\n",
    "                                     5:get_count(y_train_CV, 5, overs[o][2]),\n",
    "                                     6:get_count(y_train_CV, 6, overs[o][3]),\n",
    "                                     7:get_count(y_train_CV, 7, overs[o][4]),\n",
    "                                    }\n",
    "                    oversample = SMOTE(sampling_strategy = over_strategy)\n",
    "                else:\n",
    "                    over_strategy = {3:get_count(y_train_CV, 3, overs[o][0]),\n",
    "                                     4:get_count(y_train_CV, 4, overs[o][1]),\n",
    "                                     5:get_count(y_train_CV, 5, overs[o][2]),\n",
    "                                     6:get_count(y_train_CV, 6, overs[o][3]),\n",
    "                                     7:get_count(y_train_CV, 7, overs[o][4]),\n",
    "                                    }\n",
    "                    oversample = BorderlineSMOTE(sampling_strategy = over_strategy)\n",
    "                \n",
    "                X_train_CV, y_train_CV = oversample.fit_resample(X_train_CV, y_train_CV)\n",
    "        \n",
    "\n",
    "                # Converting these fold splits into tensors:\n",
    "                X_train_CV_tensor = torch.from_numpy(X_train_CV).float()\n",
    "                X_val_CV_tensor = torch.from_numpy(X_val_CV).float()\n",
    "                y_train_CV_tensor = torch.from_numpy(y_train_CV).long() - 1\n",
    "                y_val_CV_tensor = torch.from_numpy(y_val_CV).long() - 1\n",
    "\n",
    "                # Creating combined datasets to feed into Data Loader:\n",
    "                train_CV_dataset = CreatePytorchDataset(X_train_CV_tensor, y_train_CV_tensor)\n",
    "                val_CV_dataset = CreatePytorchDataset(X_val_CV_tensor, y_val_CV_tensor)\n",
    "\n",
    "                # Creating Data Loader Objects:\n",
    "                train_CV_loader = DataLoader(train_CV_dataset, batch_size=512, shuffle = True, drop_last=True)\n",
    "                val_CV_loader = DataLoader(val_CV_dataset, batch_size=512, shuffle=True, drop_last=True)\n",
    "\n",
    "\n",
    "                print(\"Starting Loop {:.0f}\".format(loop_counter))\n",
    "                loop_counter += 1\n",
    "\n",
    "                ######## EPOCH MODEL TRAINING ########\n",
    "                min_val_loss_epochs, max_acc_epochs, epochs_taken = cross_val_loop(mlp_model, max_epochs, \n",
    "                                                     train_CV_loader, val_CV_loader, CRITERION, optimizer)\n",
    "\n",
    "                val_losses += min_val_loss_epochs\n",
    "                accuracies += max_acc_epochs\n",
    "                epochs += epochs_taken\n",
    "                vll.append(min_val_loss_epochs)\n",
    "\n",
    "                #print(\"Time to complete CV Loop: {:.1f} minutes\".format((time.process_time() - start)/60))\n",
    "\n",
    "            av_val_loss = val_losses/ n_folds\n",
    "            av_accuracy = accuracies/ n_folds\n",
    "            av_epochs = epochs / n_folds\n",
    "            time_taken = time.time() - start\n",
    "\n",
    "            test_results[o+(u*len(overs))+(t*(len(unders)*len(overs)))][0] = av_val_loss\n",
    "            test_results[o+(u*len(overs))+(t*(len(unders)*len(overs)))][1] = av_accuracy\n",
    "            test_results[o+(u*len(overs))+(t*(len(unders)*len(overs)))][2] = t\n",
    "            test_results[o+(u*len(overs))+(t*(len(unders)*len(overs)))][3] = u\n",
    "            test_results[o+(u*len(overs))+(t*(len(unders)*len(overs)))][4] = o\n",
    "            test_results[o+(u*len(overs))+(t*(len(unders)*len(overs)))][5] = time_taken\n",
    "            test_results[o+(u*len(overs))+(t*(len(unders)*len(overs)))][6] = av_epochs\n",
    "            test_results[o+(u*len(overs))+(t*(len(unders)*len(overs)))][7] = vll[0]\n",
    "            test_results[o+(u*len(overs))+(t*(len(unders)*len(overs)))][8] = vll[1]\n",
    "            test_results[o+(u*len(overs))+(t*(len(unders)*len(overs)))][9] = vll[2]\n",
    "            test_results[o+(u*len(overs))+(t*(len(unders)*len(overs)))][10] = vll[3]\n"
   ]
  },
  {
   "cell_type": "markdown",
   "metadata": {},
   "source": [
    "# Converting Results to Dataframe and Saving to Csv:"
   ]
  },
  {
   "cell_type": "code",
   "execution_count": 316,
   "metadata": {},
   "outputs": [],
   "source": [
    "test_res_df_samp= pd.DataFrame(test_results, columns= ['av_val_loss', \"av_accuracy\", 'tomek', 'under_strat',\n",
    "                            'over_strat', 'time_taken', 'av_epochs', 'cv_1_val_loss',\n",
    "                                'cv_2_val_loss', 'cv_3_val_loss', 'cv_4_val_loss'])"
   ]
  },
  {
   "cell_type": "code",
   "execution_count": 317,
   "metadata": {},
   "outputs": [],
   "source": [
    "tomek_map = {0: 'TL', 1: 'No TL'}\n",
    "under_map = {0: '-15%', 1: '-25%', 2: '-40%', 3: '-60%', 4: '-80%', 5: 'Imbal'}\n",
    "over_map = {0: '+20% S', 1: '+50% S', 2: '+100% S', 3: '+300% S', 4: '+500% S', 5: 'Imbal S', 6: 'SMOTE',\n",
    "            7: '+20% BS', 8: '+50% BS', 9: '+100% BS', 10: '+300% BS', 11: '+500% BS', 12: 'Imbal BS', 13: 'BoSMOTE'}"
   ]
  },
  {
   "cell_type": "code",
   "execution_count": 318,
   "metadata": {},
   "outputs": [],
   "source": [
    "test_res_df_samp['tomek'] = test_res_df_samp['tomek'].map(tomek_map)\n",
    "test_res_df_samp['under_strat'] = test_res_df_samp['under_strat'].map(under_map)\n",
    "test_res_df_samp['over_strat'] = test_res_df_samp['over_strat'].map(over_map)"
   ]
  },
  {
   "cell_type": "code",
   "execution_count": 4,
   "metadata": {
    "scrolled": true
   },
   "outputs": [
    {
     "data": {
      "text/html": [
       "<div>\n",
       "<style scoped>\n",
       "    .dataframe tbody tr th:only-of-type {\n",
       "        vertical-align: middle;\n",
       "    }\n",
       "\n",
       "    .dataframe tbody tr th {\n",
       "        vertical-align: top;\n",
       "    }\n",
       "\n",
       "    .dataframe thead th {\n",
       "        text-align: right;\n",
       "    }\n",
       "</style>\n",
       "<table border=\"1\" class=\"dataframe\">\n",
       "  <thead>\n",
       "    <tr style=\"text-align: right;\">\n",
       "      <th></th>\n",
       "      <th>av_val_loss</th>\n",
       "      <th>tomek</th>\n",
       "      <th>under_strat</th>\n",
       "      <th>over_strat</th>\n",
       "      <th>time_taken</th>\n",
       "      <th>av_epochs</th>\n",
       "      <th>cv_1_val_loss</th>\n",
       "      <th>cv_2_val_loss</th>\n",
       "      <th>cv_3_val_loss</th>\n",
       "      <th>cv_4_val_loss</th>\n",
       "    </tr>\n",
       "  </thead>\n",
       "  <tbody>\n",
       "    <tr>\n",
       "      <th>0</th>\n",
       "      <td>0.124310</td>\n",
       "      <td>TL</td>\n",
       "      <td>-15%</td>\n",
       "      <td>SMOTE</td>\n",
       "      <td>8896.437500</td>\n",
       "      <td>88.88</td>\n",
       "      <td>0.109355</td>\n",
       "      <td>0.182153</td>\n",
       "      <td>0.108922</td>\n",
       "      <td>0.096809</td>\n",
       "    </tr>\n",
       "    <tr>\n",
       "      <th>1</th>\n",
       "      <td>0.126080</td>\n",
       "      <td>TL</td>\n",
       "      <td>-15%</td>\n",
       "      <td>BoSMOTE</td>\n",
       "      <td>7236.890625</td>\n",
       "      <td>75.38</td>\n",
       "      <td>0.183616</td>\n",
       "      <td>0.080773</td>\n",
       "      <td>0.119248</td>\n",
       "      <td>0.120682</td>\n",
       "    </tr>\n",
       "    <tr>\n",
       "      <th>2</th>\n",
       "      <td>0.139486</td>\n",
       "      <td>No TL</td>\n",
       "      <td>-15%</td>\n",
       "      <td>SMOTE</td>\n",
       "      <td>7637.843750</td>\n",
       "      <td>82.13</td>\n",
       "      <td>0.162788</td>\n",
       "      <td>0.102508</td>\n",
       "      <td>0.158336</td>\n",
       "      <td>0.134314</td>\n",
       "    </tr>\n",
       "    <tr>\n",
       "      <th>3</th>\n",
       "      <td>0.143836</td>\n",
       "      <td>No TL</td>\n",
       "      <td>Imbal</td>\n",
       "      <td>SMOTE</td>\n",
       "      <td>4108.640625</td>\n",
       "      <td>86.63</td>\n",
       "      <td>0.140898</td>\n",
       "      <td>0.130114</td>\n",
       "      <td>0.180991</td>\n",
       "      <td>0.123340</td>\n",
       "    </tr>\n",
       "    <tr>\n",
       "      <th>4</th>\n",
       "      <td>0.144682</td>\n",
       "      <td>TL</td>\n",
       "      <td>-80%</td>\n",
       "      <td>+500% S</td>\n",
       "      <td>3300.812500</td>\n",
       "      <td>94.50</td>\n",
       "      <td>0.076449</td>\n",
       "      <td>0.109514</td>\n",
       "      <td>0.235394</td>\n",
       "      <td>0.157372</td>\n",
       "    </tr>\n",
       "    <tr>\n",
       "      <th>5</th>\n",
       "      <td>0.157577</td>\n",
       "      <td>TL</td>\n",
       "      <td>-60%</td>\n",
       "      <td>SMOTE</td>\n",
       "      <td>4012.296875</td>\n",
       "      <td>94.50</td>\n",
       "      <td>0.133853</td>\n",
       "      <td>0.204773</td>\n",
       "      <td>0.116076</td>\n",
       "      <td>0.175606</td>\n",
       "    </tr>\n",
       "    <tr>\n",
       "      <th>6</th>\n",
       "      <td>0.161531</td>\n",
       "      <td>TL</td>\n",
       "      <td>Imbal</td>\n",
       "      <td>SMOTE</td>\n",
       "      <td>4292.234375</td>\n",
       "      <td>100.00</td>\n",
       "      <td>0.251552</td>\n",
       "      <td>0.168233</td>\n",
       "      <td>0.150311</td>\n",
       "      <td>0.076026</td>\n",
       "    </tr>\n",
       "    <tr>\n",
       "      <th>7</th>\n",
       "      <td>0.165127</td>\n",
       "      <td>TL</td>\n",
       "      <td>Imbal</td>\n",
       "      <td>BoSMOTE</td>\n",
       "      <td>4008.265625</td>\n",
       "      <td>92.25</td>\n",
       "      <td>0.260163</td>\n",
       "      <td>0.188745</td>\n",
       "      <td>0.088149</td>\n",
       "      <td>0.123450</td>\n",
       "    </tr>\n",
       "    <tr>\n",
       "      <th>8</th>\n",
       "      <td>0.165936</td>\n",
       "      <td>TL</td>\n",
       "      <td>-80%</td>\n",
       "      <td>+300% S</td>\n",
       "      <td>2517.468750</td>\n",
       "      <td>97.88</td>\n",
       "      <td>0.237322</td>\n",
       "      <td>0.153238</td>\n",
       "      <td>0.105844</td>\n",
       "      <td>0.167340</td>\n",
       "    </tr>\n",
       "    <tr>\n",
       "      <th>9</th>\n",
       "      <td>0.166525</td>\n",
       "      <td>TL</td>\n",
       "      <td>-40%</td>\n",
       "      <td>BoSMOTE</td>\n",
       "      <td>4431.265625</td>\n",
       "      <td>69.75</td>\n",
       "      <td>0.198248</td>\n",
       "      <td>0.181117</td>\n",
       "      <td>0.129114</td>\n",
       "      <td>0.157621</td>\n",
       "    </tr>\n",
       "    <tr>\n",
       "      <th>10</th>\n",
       "      <td>0.168307</td>\n",
       "      <td>No TL</td>\n",
       "      <td>-40%</td>\n",
       "      <td>SMOTE</td>\n",
       "      <td>5035.468750</td>\n",
       "      <td>74.25</td>\n",
       "      <td>0.156185</td>\n",
       "      <td>0.207781</td>\n",
       "      <td>0.158231</td>\n",
       "      <td>0.151031</td>\n",
       "    </tr>\n",
       "    <tr>\n",
       "      <th>11</th>\n",
       "      <td>0.171161</td>\n",
       "      <td>TL</td>\n",
       "      <td>-60%</td>\n",
       "      <td>+500% S</td>\n",
       "      <td>3419.281250</td>\n",
       "      <td>85.50</td>\n",
       "      <td>0.170397</td>\n",
       "      <td>0.200256</td>\n",
       "      <td>0.113562</td>\n",
       "      <td>0.200429</td>\n",
       "    </tr>\n",
       "    <tr>\n",
       "      <th>12</th>\n",
       "      <td>0.171715</td>\n",
       "      <td>No TL</td>\n",
       "      <td>-15%</td>\n",
       "      <td>BoSMOTE</td>\n",
       "      <td>5580.093750</td>\n",
       "      <td>59.63</td>\n",
       "      <td>0.168074</td>\n",
       "      <td>0.210611</td>\n",
       "      <td>0.209281</td>\n",
       "      <td>0.098894</td>\n",
       "    </tr>\n",
       "    <tr>\n",
       "      <th>13</th>\n",
       "      <td>0.174194</td>\n",
       "      <td>No TL</td>\n",
       "      <td>-25%</td>\n",
       "      <td>BoSMOTE</td>\n",
       "      <td>6833.734375</td>\n",
       "      <td>82.13</td>\n",
       "      <td>0.181626</td>\n",
       "      <td>0.171756</td>\n",
       "      <td>0.119771</td>\n",
       "      <td>0.223622</td>\n",
       "    </tr>\n",
       "    <tr>\n",
       "      <th>14</th>\n",
       "      <td>0.178013</td>\n",
       "      <td>TL</td>\n",
       "      <td>-40%</td>\n",
       "      <td>+500% S</td>\n",
       "      <td>4361.593750</td>\n",
       "      <td>94.50</td>\n",
       "      <td>0.265463</td>\n",
       "      <td>0.082927</td>\n",
       "      <td>0.189329</td>\n",
       "      <td>0.174335</td>\n",
       "    </tr>\n",
       "    <tr>\n",
       "      <th>15</th>\n",
       "      <td>0.180440</td>\n",
       "      <td>TL</td>\n",
       "      <td>-80%</td>\n",
       "      <td>+500% BS</td>\n",
       "      <td>3224.078125</td>\n",
       "      <td>92.25</td>\n",
       "      <td>0.104056</td>\n",
       "      <td>0.108939</td>\n",
       "      <td>0.250534</td>\n",
       "      <td>0.258230</td>\n",
       "    </tr>\n",
       "    <tr>\n",
       "      <th>16</th>\n",
       "      <td>0.181117</td>\n",
       "      <td>TL</td>\n",
       "      <td>-40%</td>\n",
       "      <td>SMOTE</td>\n",
       "      <td>3930.078125</td>\n",
       "      <td>60.75</td>\n",
       "      <td>0.174536</td>\n",
       "      <td>0.244565</td>\n",
       "      <td>0.233774</td>\n",
       "      <td>0.071594</td>\n",
       "    </tr>\n",
       "    <tr>\n",
       "      <th>17</th>\n",
       "      <td>0.181260</td>\n",
       "      <td>TL</td>\n",
       "      <td>-25%</td>\n",
       "      <td>BoSMOTE</td>\n",
       "      <td>6164.203125</td>\n",
       "      <td>78.75</td>\n",
       "      <td>0.215957</td>\n",
       "      <td>0.135565</td>\n",
       "      <td>0.220281</td>\n",
       "      <td>0.153238</td>\n",
       "    </tr>\n",
       "    <tr>\n",
       "      <th>18</th>\n",
       "      <td>0.183853</td>\n",
       "      <td>No TL</td>\n",
       "      <td>-60%</td>\n",
       "      <td>BoSMOTE</td>\n",
       "      <td>3909.875000</td>\n",
       "      <td>86.63</td>\n",
       "      <td>0.178075</td>\n",
       "      <td>0.115871</td>\n",
       "      <td>0.259892</td>\n",
       "      <td>0.181573</td>\n",
       "    </tr>\n",
       "    <tr>\n",
       "      <th>19</th>\n",
       "      <td>0.186091</td>\n",
       "      <td>No TL</td>\n",
       "      <td>-25%</td>\n",
       "      <td>SMOTE</td>\n",
       "      <td>5934.859375</td>\n",
       "      <td>72.00</td>\n",
       "      <td>0.155471</td>\n",
       "      <td>0.194284</td>\n",
       "      <td>0.151571</td>\n",
       "      <td>0.243039</td>\n",
       "    </tr>\n",
       "    <tr>\n",
       "      <th>20</th>\n",
       "      <td>0.187223</td>\n",
       "      <td>No TL</td>\n",
       "      <td>-60%</td>\n",
       "      <td>SMOTE</td>\n",
       "      <td>3444.890625</td>\n",
       "      <td>75.38</td>\n",
       "      <td>0.245353</td>\n",
       "      <td>0.079497</td>\n",
       "      <td>0.197814</td>\n",
       "      <td>0.226231</td>\n",
       "    </tr>\n",
       "    <tr>\n",
       "      <th>21</th>\n",
       "      <td>0.191415</td>\n",
       "      <td>TL</td>\n",
       "      <td>-80%</td>\n",
       "      <td>Imbal S</td>\n",
       "      <td>2177.140625</td>\n",
       "      <td>81.00</td>\n",
       "      <td>0.235900</td>\n",
       "      <td>0.192588</td>\n",
       "      <td>0.160847</td>\n",
       "      <td>0.176326</td>\n",
       "    </tr>\n",
       "    <tr>\n",
       "      <th>22</th>\n",
       "      <td>0.196311</td>\n",
       "      <td>TL</td>\n",
       "      <td>Imbal</td>\n",
       "      <td>+500% S</td>\n",
       "      <td>3065.421875</td>\n",
       "      <td>73.13</td>\n",
       "      <td>0.199561</td>\n",
       "      <td>0.212469</td>\n",
       "      <td>0.170197</td>\n",
       "      <td>0.203015</td>\n",
       "    </tr>\n",
       "    <tr>\n",
       "      <th>23</th>\n",
       "      <td>0.197127</td>\n",
       "      <td>No TL</td>\n",
       "      <td>-40%</td>\n",
       "      <td>BoSMOTE</td>\n",
       "      <td>5149.593750</td>\n",
       "      <td>76.50</td>\n",
       "      <td>0.163530</td>\n",
       "      <td>0.218491</td>\n",
       "      <td>0.257747</td>\n",
       "      <td>0.148739</td>\n",
       "    </tr>\n",
       "    <tr>\n",
       "      <th>24</th>\n",
       "      <td>0.197392</td>\n",
       "      <td>TL</td>\n",
       "      <td>-60%</td>\n",
       "      <td>BoSMOTE</td>\n",
       "      <td>3663.015625</td>\n",
       "      <td>85.50</td>\n",
       "      <td>0.257263</td>\n",
       "      <td>0.182617</td>\n",
       "      <td>0.200193</td>\n",
       "      <td>0.149494</td>\n",
       "    </tr>\n",
       "    <tr>\n",
       "      <th>25</th>\n",
       "      <td>0.205646</td>\n",
       "      <td>No TL</td>\n",
       "      <td>-40%</td>\n",
       "      <td>+500% BS</td>\n",
       "      <td>4463.578125</td>\n",
       "      <td>96.75</td>\n",
       "      <td>0.228967</td>\n",
       "      <td>0.168742</td>\n",
       "      <td>0.202296</td>\n",
       "      <td>0.222579</td>\n",
       "    </tr>\n",
       "    <tr>\n",
       "      <th>26</th>\n",
       "      <td>0.205807</td>\n",
       "      <td>No TL</td>\n",
       "      <td>-80%</td>\n",
       "      <td>Imbal S</td>\n",
       "      <td>2140.343750</td>\n",
       "      <td>79.88</td>\n",
       "      <td>0.308875</td>\n",
       "      <td>0.202729</td>\n",
       "      <td>0.148709</td>\n",
       "      <td>0.162913</td>\n",
       "    </tr>\n",
       "    <tr>\n",
       "      <th>27</th>\n",
       "      <td>0.207084</td>\n",
       "      <td>No TL</td>\n",
       "      <td>-25%</td>\n",
       "      <td>+500% BS</td>\n",
       "      <td>4910.921875</td>\n",
       "      <td>100.00</td>\n",
       "      <td>0.195262</td>\n",
       "      <td>0.259184</td>\n",
       "      <td>0.189574</td>\n",
       "      <td>0.184315</td>\n",
       "    </tr>\n",
       "    <tr>\n",
       "      <th>28</th>\n",
       "      <td>0.209394</td>\n",
       "      <td>No TL</td>\n",
       "      <td>-80%</td>\n",
       "      <td>+500% BS</td>\n",
       "      <td>2914.625000</td>\n",
       "      <td>83.25</td>\n",
       "      <td>0.204702</td>\n",
       "      <td>0.205744</td>\n",
       "      <td>0.220806</td>\n",
       "      <td>0.206326</td>\n",
       "    </tr>\n",
       "    <tr>\n",
       "      <th>29</th>\n",
       "      <td>0.210843</td>\n",
       "      <td>No TL</td>\n",
       "      <td>Imbal</td>\n",
       "      <td>BoSMOTE</td>\n",
       "      <td>4157.968750</td>\n",
       "      <td>87.75</td>\n",
       "      <td>0.184276</td>\n",
       "      <td>0.158393</td>\n",
       "      <td>0.265340</td>\n",
       "      <td>0.235362</td>\n",
       "    </tr>\n",
       "    <tr>\n",
       "      <th>...</th>\n",
       "      <td>...</td>\n",
       "      <td>...</td>\n",
       "      <td>...</td>\n",
       "      <td>...</td>\n",
       "      <td>...</td>\n",
       "      <td>...</td>\n",
       "      <td>...</td>\n",
       "      <td>...</td>\n",
       "      <td>...</td>\n",
       "      <td>...</td>\n",
       "    </tr>\n",
       "    <tr>\n",
       "      <th>138</th>\n",
       "      <td>0.411600</td>\n",
       "      <td>TL</td>\n",
       "      <td>-60%</td>\n",
       "      <td>+50% BS</td>\n",
       "      <td>1520.875000</td>\n",
       "      <td>79.88</td>\n",
       "      <td>0.399668</td>\n",
       "      <td>0.406821</td>\n",
       "      <td>0.342650</td>\n",
       "      <td>0.497262</td>\n",
       "    </tr>\n",
       "    <tr>\n",
       "      <th>139</th>\n",
       "      <td>0.411956</td>\n",
       "      <td>TL</td>\n",
       "      <td>-60%</td>\n",
       "      <td>+20% BS</td>\n",
       "      <td>1488.640625</td>\n",
       "      <td>84.38</td>\n",
       "      <td>0.400973</td>\n",
       "      <td>0.516731</td>\n",
       "      <td>0.351518</td>\n",
       "      <td>0.378603</td>\n",
       "    </tr>\n",
       "    <tr>\n",
       "      <th>140</th>\n",
       "      <td>0.412168</td>\n",
       "      <td>No TL</td>\n",
       "      <td>-60%</td>\n",
       "      <td>+50% BS</td>\n",
       "      <td>1732.562500</td>\n",
       "      <td>87.75</td>\n",
       "      <td>0.476314</td>\n",
       "      <td>0.390122</td>\n",
       "      <td>0.345884</td>\n",
       "      <td>0.436352</td>\n",
       "    </tr>\n",
       "    <tr>\n",
       "      <th>141</th>\n",
       "      <td>0.412401</td>\n",
       "      <td>TL</td>\n",
       "      <td>-15%</td>\n",
       "      <td>+50% BS</td>\n",
       "      <td>2070.437500</td>\n",
       "      <td>63.00</td>\n",
       "      <td>0.331626</td>\n",
       "      <td>0.378250</td>\n",
       "      <td>0.535510</td>\n",
       "      <td>0.404217</td>\n",
       "    </tr>\n",
       "    <tr>\n",
       "      <th>142</th>\n",
       "      <td>0.415798</td>\n",
       "      <td>No TL</td>\n",
       "      <td>-80%</td>\n",
       "      <td>+50% BS</td>\n",
       "      <td>1217.875000</td>\n",
       "      <td>87.75</td>\n",
       "      <td>0.425342</td>\n",
       "      <td>0.459862</td>\n",
       "      <td>0.299957</td>\n",
       "      <td>0.478032</td>\n",
       "    </tr>\n",
       "    <tr>\n",
       "      <th>143</th>\n",
       "      <td>0.416434</td>\n",
       "      <td>No TL</td>\n",
       "      <td>-60%</td>\n",
       "      <td>+20% BS</td>\n",
       "      <td>1644.718750</td>\n",
       "      <td>90.00</td>\n",
       "      <td>0.447008</td>\n",
       "      <td>0.340072</td>\n",
       "      <td>0.407122</td>\n",
       "      <td>0.471533</td>\n",
       "    </tr>\n",
       "    <tr>\n",
       "      <th>144</th>\n",
       "      <td>0.416540</td>\n",
       "      <td>No TL</td>\n",
       "      <td>Imbal</td>\n",
       "      <td>+100% BS</td>\n",
       "      <td>1918.312500</td>\n",
       "      <td>79.88</td>\n",
       "      <td>0.502754</td>\n",
       "      <td>0.471347</td>\n",
       "      <td>0.359474</td>\n",
       "      <td>0.332584</td>\n",
       "    </tr>\n",
       "    <tr>\n",
       "      <th>145</th>\n",
       "      <td>0.417558</td>\n",
       "      <td>No TL</td>\n",
       "      <td>-25%</td>\n",
       "      <td>+50% S</td>\n",
       "      <td>2090.546875</td>\n",
       "      <td>73.13</td>\n",
       "      <td>0.429647</td>\n",
       "      <td>0.303549</td>\n",
       "      <td>0.428751</td>\n",
       "      <td>0.508287</td>\n",
       "    </tr>\n",
       "    <tr>\n",
       "      <th>146</th>\n",
       "      <td>0.419242</td>\n",
       "      <td>No TL</td>\n",
       "      <td>-40%</td>\n",
       "      <td>+20% BS</td>\n",
       "      <td>1868.406250</td>\n",
       "      <td>79.88</td>\n",
       "      <td>0.435006</td>\n",
       "      <td>0.394939</td>\n",
       "      <td>0.450083</td>\n",
       "      <td>0.396939</td>\n",
       "    </tr>\n",
       "    <tr>\n",
       "      <th>147</th>\n",
       "      <td>0.420555</td>\n",
       "      <td>TL</td>\n",
       "      <td>-80%</td>\n",
       "      <td>+50% BS</td>\n",
       "      <td>1076.265625</td>\n",
       "      <td>76.50</td>\n",
       "      <td>0.416782</td>\n",
       "      <td>0.458463</td>\n",
       "      <td>0.406808</td>\n",
       "      <td>0.400165</td>\n",
       "    </tr>\n",
       "    <tr>\n",
       "      <th>148</th>\n",
       "      <td>0.422772</td>\n",
       "      <td>No TL</td>\n",
       "      <td>Imbal</td>\n",
       "      <td>+20% S</td>\n",
       "      <td>1721.125000</td>\n",
       "      <td>86.63</td>\n",
       "      <td>0.491497</td>\n",
       "      <td>0.407177</td>\n",
       "      <td>0.344479</td>\n",
       "      <td>0.447936</td>\n",
       "    </tr>\n",
       "    <tr>\n",
       "      <th>149</th>\n",
       "      <td>0.424800</td>\n",
       "      <td>TL</td>\n",
       "      <td>-40%</td>\n",
       "      <td>+20% BS</td>\n",
       "      <td>1653.234375</td>\n",
       "      <td>69.75</td>\n",
       "      <td>0.418890</td>\n",
       "      <td>0.440871</td>\n",
       "      <td>0.444800</td>\n",
       "      <td>0.394638</td>\n",
       "    </tr>\n",
       "    <tr>\n",
       "      <th>150</th>\n",
       "      <td>0.425342</td>\n",
       "      <td>TL</td>\n",
       "      <td>-40%</td>\n",
       "      <td>+20% S</td>\n",
       "      <td>1334.890625</td>\n",
       "      <td>58.50</td>\n",
       "      <td>0.486038</td>\n",
       "      <td>0.282827</td>\n",
       "      <td>0.417150</td>\n",
       "      <td>0.515353</td>\n",
       "    </tr>\n",
       "    <tr>\n",
       "      <th>151</th>\n",
       "      <td>0.426358</td>\n",
       "      <td>No TL</td>\n",
       "      <td>-25%</td>\n",
       "      <td>+20% BS</td>\n",
       "      <td>1756.562500</td>\n",
       "      <td>64.13</td>\n",
       "      <td>0.415728</td>\n",
       "      <td>0.444250</td>\n",
       "      <td>0.412001</td>\n",
       "      <td>0.433452</td>\n",
       "    </tr>\n",
       "    <tr>\n",
       "      <th>152</th>\n",
       "      <td>0.427700</td>\n",
       "      <td>No TL</td>\n",
       "      <td>Imbal</td>\n",
       "      <td>+50% S</td>\n",
       "      <td>1479.734375</td>\n",
       "      <td>69.75</td>\n",
       "      <td>0.346417</td>\n",
       "      <td>0.480028</td>\n",
       "      <td>0.392909</td>\n",
       "      <td>0.491447</td>\n",
       "    </tr>\n",
       "    <tr>\n",
       "      <th>153</th>\n",
       "      <td>0.431924</td>\n",
       "      <td>TL</td>\n",
       "      <td>-60%</td>\n",
       "      <td>+50% S</td>\n",
       "      <td>1329.296875</td>\n",
       "      <td>69.75</td>\n",
       "      <td>0.477461</td>\n",
       "      <td>0.407423</td>\n",
       "      <td>0.342395</td>\n",
       "      <td>0.500418</td>\n",
       "    </tr>\n",
       "    <tr>\n",
       "      <th>154</th>\n",
       "      <td>0.433629</td>\n",
       "      <td>No TL</td>\n",
       "      <td>-15%</td>\n",
       "      <td>+20% S</td>\n",
       "      <td>1925.109375</td>\n",
       "      <td>64.13</td>\n",
       "      <td>0.459332</td>\n",
       "      <td>0.414588</td>\n",
       "      <td>0.387289</td>\n",
       "      <td>0.473306</td>\n",
       "    </tr>\n",
       "    <tr>\n",
       "      <th>155</th>\n",
       "      <td>0.434403</td>\n",
       "      <td>No TL</td>\n",
       "      <td>-25%</td>\n",
       "      <td>+20% S</td>\n",
       "      <td>1710.156250</td>\n",
       "      <td>63.00</td>\n",
       "      <td>0.412703</td>\n",
       "      <td>0.479060</td>\n",
       "      <td>0.450260</td>\n",
       "      <td>0.395589</td>\n",
       "    </tr>\n",
       "    <tr>\n",
       "      <th>156</th>\n",
       "      <td>0.438758</td>\n",
       "      <td>TL</td>\n",
       "      <td>-60%</td>\n",
       "      <td>+100% BS</td>\n",
       "      <td>1399.671875</td>\n",
       "      <td>65.25</td>\n",
       "      <td>0.507975</td>\n",
       "      <td>0.510686</td>\n",
       "      <td>0.308873</td>\n",
       "      <td>0.427498</td>\n",
       "    </tr>\n",
       "    <tr>\n",
       "      <th>157</th>\n",
       "      <td>0.448228</td>\n",
       "      <td>TL</td>\n",
       "      <td>-80%</td>\n",
       "      <td>+20% S</td>\n",
       "      <td>834.218750</td>\n",
       "      <td>64.13</td>\n",
       "      <td>0.443953</td>\n",
       "      <td>0.409297</td>\n",
       "      <td>0.486372</td>\n",
       "      <td>0.453287</td>\n",
       "    </tr>\n",
       "    <tr>\n",
       "      <th>158</th>\n",
       "      <td>0.448668</td>\n",
       "      <td>TL</td>\n",
       "      <td>Imbal</td>\n",
       "      <td>+100% BS</td>\n",
       "      <td>1512.796875</td>\n",
       "      <td>65.25</td>\n",
       "      <td>0.379889</td>\n",
       "      <td>0.509119</td>\n",
       "      <td>0.535464</td>\n",
       "      <td>0.370200</td>\n",
       "    </tr>\n",
       "    <tr>\n",
       "      <th>159</th>\n",
       "      <td>0.449783</td>\n",
       "      <td>No TL</td>\n",
       "      <td>-80%</td>\n",
       "      <td>+20% BS</td>\n",
       "      <td>1100.984375</td>\n",
       "      <td>87.75</td>\n",
       "      <td>0.572563</td>\n",
       "      <td>0.352080</td>\n",
       "      <td>0.331562</td>\n",
       "      <td>0.542927</td>\n",
       "    </tr>\n",
       "    <tr>\n",
       "      <th>160</th>\n",
       "      <td>0.455154</td>\n",
       "      <td>No TL</td>\n",
       "      <td>-80%</td>\n",
       "      <td>+20% S</td>\n",
       "      <td>942.125000</td>\n",
       "      <td>74.25</td>\n",
       "      <td>0.474048</td>\n",
       "      <td>0.354743</td>\n",
       "      <td>0.396260</td>\n",
       "      <td>0.595567</td>\n",
       "    </tr>\n",
       "    <tr>\n",
       "      <th>161</th>\n",
       "      <td>0.456733</td>\n",
       "      <td>No TL</td>\n",
       "      <td>-15%</td>\n",
       "      <td>+20% BS</td>\n",
       "      <td>1696.968750</td>\n",
       "      <td>56.25</td>\n",
       "      <td>0.457785</td>\n",
       "      <td>0.394663</td>\n",
       "      <td>0.491969</td>\n",
       "      <td>0.482515</td>\n",
       "    </tr>\n",
       "    <tr>\n",
       "      <th>162</th>\n",
       "      <td>0.456871</td>\n",
       "      <td>TL</td>\n",
       "      <td>Imbal</td>\n",
       "      <td>+20% BS</td>\n",
       "      <td>1182.515625</td>\n",
       "      <td>60.75</td>\n",
       "      <td>0.487277</td>\n",
       "      <td>0.518422</td>\n",
       "      <td>0.354266</td>\n",
       "      <td>0.467519</td>\n",
       "    </tr>\n",
       "    <tr>\n",
       "      <th>163</th>\n",
       "      <td>0.457022</td>\n",
       "      <td>No TL</td>\n",
       "      <td>-60%</td>\n",
       "      <td>+50% S</td>\n",
       "      <td>1317.703125</td>\n",
       "      <td>67.50</td>\n",
       "      <td>0.494183</td>\n",
       "      <td>0.421390</td>\n",
       "      <td>0.542335</td>\n",
       "      <td>0.370180</td>\n",
       "    </tr>\n",
       "    <tr>\n",
       "      <th>164</th>\n",
       "      <td>0.468422</td>\n",
       "      <td>No TL</td>\n",
       "      <td>-25%</td>\n",
       "      <td>+100% BS</td>\n",
       "      <td>1749.000000</td>\n",
       "      <td>56.25</td>\n",
       "      <td>0.473289</td>\n",
       "      <td>0.420904</td>\n",
       "      <td>0.527324</td>\n",
       "      <td>0.452170</td>\n",
       "    </tr>\n",
       "    <tr>\n",
       "      <th>165</th>\n",
       "      <td>0.477404</td>\n",
       "      <td>No TL</td>\n",
       "      <td>-60%</td>\n",
       "      <td>+20% S</td>\n",
       "      <td>1379.468750</td>\n",
       "      <td>75.38</td>\n",
       "      <td>0.410423</td>\n",
       "      <td>0.598435</td>\n",
       "      <td>0.478213</td>\n",
       "      <td>0.422548</td>\n",
       "    </tr>\n",
       "    <tr>\n",
       "      <th>166</th>\n",
       "      <td>0.478655</td>\n",
       "      <td>No TL</td>\n",
       "      <td>Imbal</td>\n",
       "      <td>+50% BS</td>\n",
       "      <td>1562.156250</td>\n",
       "      <td>72.00</td>\n",
       "      <td>0.342080</td>\n",
       "      <td>0.579896</td>\n",
       "      <td>0.464315</td>\n",
       "      <td>0.528327</td>\n",
       "    </tr>\n",
       "    <tr>\n",
       "      <th>167</th>\n",
       "      <td>0.484075</td>\n",
       "      <td>TL</td>\n",
       "      <td>-80%</td>\n",
       "      <td>+20% BS</td>\n",
       "      <td>846.343750</td>\n",
       "      <td>66.38</td>\n",
       "      <td>0.427419</td>\n",
       "      <td>0.519962</td>\n",
       "      <td>0.524470</td>\n",
       "      <td>0.464448</td>\n",
       "    </tr>\n",
       "  </tbody>\n",
       "</table>\n",
       "<p>168 rows × 10 columns</p>\n",
       "</div>"
      ],
      "text/plain": [
       "     av_val_loss  tomek under_strat over_strat   time_taken  av_epochs  \\\n",
       "0       0.124310     TL        -15%      SMOTE  8896.437500      88.88   \n",
       "1       0.126080     TL        -15%    BoSMOTE  7236.890625      75.38   \n",
       "2       0.139486  No TL        -15%      SMOTE  7637.843750      82.13   \n",
       "3       0.143836  No TL       Imbal      SMOTE  4108.640625      86.63   \n",
       "4       0.144682     TL        -80%    +500% S  3300.812500      94.50   \n",
       "5       0.157577     TL        -60%      SMOTE  4012.296875      94.50   \n",
       "6       0.161531     TL       Imbal      SMOTE  4292.234375     100.00   \n",
       "7       0.165127     TL       Imbal    BoSMOTE  4008.265625      92.25   \n",
       "8       0.165936     TL        -80%    +300% S  2517.468750      97.88   \n",
       "9       0.166525     TL        -40%    BoSMOTE  4431.265625      69.75   \n",
       "10      0.168307  No TL        -40%      SMOTE  5035.468750      74.25   \n",
       "11      0.171161     TL        -60%    +500% S  3419.281250      85.50   \n",
       "12      0.171715  No TL        -15%    BoSMOTE  5580.093750      59.63   \n",
       "13      0.174194  No TL        -25%    BoSMOTE  6833.734375      82.13   \n",
       "14      0.178013     TL        -40%    +500% S  4361.593750      94.50   \n",
       "15      0.180440     TL        -80%   +500% BS  3224.078125      92.25   \n",
       "16      0.181117     TL        -40%      SMOTE  3930.078125      60.75   \n",
       "17      0.181260     TL        -25%    BoSMOTE  6164.203125      78.75   \n",
       "18      0.183853  No TL        -60%    BoSMOTE  3909.875000      86.63   \n",
       "19      0.186091  No TL        -25%      SMOTE  5934.859375      72.00   \n",
       "20      0.187223  No TL        -60%      SMOTE  3444.890625      75.38   \n",
       "21      0.191415     TL        -80%    Imbal S  2177.140625      81.00   \n",
       "22      0.196311     TL       Imbal    +500% S  3065.421875      73.13   \n",
       "23      0.197127  No TL        -40%    BoSMOTE  5149.593750      76.50   \n",
       "24      0.197392     TL        -60%    BoSMOTE  3663.015625      85.50   \n",
       "25      0.205646  No TL        -40%   +500% BS  4463.578125      96.75   \n",
       "26      0.205807  No TL        -80%    Imbal S  2140.343750      79.88   \n",
       "27      0.207084  No TL        -25%   +500% BS  4910.921875     100.00   \n",
       "28      0.209394  No TL        -80%   +500% BS  2914.625000      83.25   \n",
       "29      0.210843  No TL       Imbal    BoSMOTE  4157.968750      87.75   \n",
       "..           ...    ...         ...        ...          ...        ...   \n",
       "138     0.411600     TL        -60%    +50% BS  1520.875000      79.88   \n",
       "139     0.411956     TL        -60%    +20% BS  1488.640625      84.38   \n",
       "140     0.412168  No TL        -60%    +50% BS  1732.562500      87.75   \n",
       "141     0.412401     TL        -15%    +50% BS  2070.437500      63.00   \n",
       "142     0.415798  No TL        -80%    +50% BS  1217.875000      87.75   \n",
       "143     0.416434  No TL        -60%    +20% BS  1644.718750      90.00   \n",
       "144     0.416540  No TL       Imbal   +100% BS  1918.312500      79.88   \n",
       "145     0.417558  No TL        -25%     +50% S  2090.546875      73.13   \n",
       "146     0.419242  No TL        -40%    +20% BS  1868.406250      79.88   \n",
       "147     0.420555     TL        -80%    +50% BS  1076.265625      76.50   \n",
       "148     0.422772  No TL       Imbal     +20% S  1721.125000      86.63   \n",
       "149     0.424800     TL        -40%    +20% BS  1653.234375      69.75   \n",
       "150     0.425342     TL        -40%     +20% S  1334.890625      58.50   \n",
       "151     0.426358  No TL        -25%    +20% BS  1756.562500      64.13   \n",
       "152     0.427700  No TL       Imbal     +50% S  1479.734375      69.75   \n",
       "153     0.431924     TL        -60%     +50% S  1329.296875      69.75   \n",
       "154     0.433629  No TL        -15%     +20% S  1925.109375      64.13   \n",
       "155     0.434403  No TL        -25%     +20% S  1710.156250      63.00   \n",
       "156     0.438758     TL        -60%   +100% BS  1399.671875      65.25   \n",
       "157     0.448228     TL        -80%     +20% S   834.218750      64.13   \n",
       "158     0.448668     TL       Imbal   +100% BS  1512.796875      65.25   \n",
       "159     0.449783  No TL        -80%    +20% BS  1100.984375      87.75   \n",
       "160     0.455154  No TL        -80%     +20% S   942.125000      74.25   \n",
       "161     0.456733  No TL        -15%    +20% BS  1696.968750      56.25   \n",
       "162     0.456871     TL       Imbal    +20% BS  1182.515625      60.75   \n",
       "163     0.457022  No TL        -60%     +50% S  1317.703125      67.50   \n",
       "164     0.468422  No TL        -25%   +100% BS  1749.000000      56.25   \n",
       "165     0.477404  No TL        -60%     +20% S  1379.468750      75.38   \n",
       "166     0.478655  No TL       Imbal    +50% BS  1562.156250      72.00   \n",
       "167     0.484075     TL        -80%    +20% BS   846.343750      66.38   \n",
       "\n",
       "     cv_1_val_loss  cv_2_val_loss  cv_3_val_loss  cv_4_val_loss  \n",
       "0         0.109355       0.182153       0.108922       0.096809  \n",
       "1         0.183616       0.080773       0.119248       0.120682  \n",
       "2         0.162788       0.102508       0.158336       0.134314  \n",
       "3         0.140898       0.130114       0.180991       0.123340  \n",
       "4         0.076449       0.109514       0.235394       0.157372  \n",
       "5         0.133853       0.204773       0.116076       0.175606  \n",
       "6         0.251552       0.168233       0.150311       0.076026  \n",
       "7         0.260163       0.188745       0.088149       0.123450  \n",
       "8         0.237322       0.153238       0.105844       0.167340  \n",
       "9         0.198248       0.181117       0.129114       0.157621  \n",
       "10        0.156185       0.207781       0.158231       0.151031  \n",
       "11        0.170397       0.200256       0.113562       0.200429  \n",
       "12        0.168074       0.210611       0.209281       0.098894  \n",
       "13        0.181626       0.171756       0.119771       0.223622  \n",
       "14        0.265463       0.082927       0.189329       0.174335  \n",
       "15        0.104056       0.108939       0.250534       0.258230  \n",
       "16        0.174536       0.244565       0.233774       0.071594  \n",
       "17        0.215957       0.135565       0.220281       0.153238  \n",
       "18        0.178075       0.115871       0.259892       0.181573  \n",
       "19        0.155471       0.194284       0.151571       0.243039  \n",
       "20        0.245353       0.079497       0.197814       0.226231  \n",
       "21        0.235900       0.192588       0.160847       0.176326  \n",
       "22        0.199561       0.212469       0.170197       0.203015  \n",
       "23        0.163530       0.218491       0.257747       0.148739  \n",
       "24        0.257263       0.182617       0.200193       0.149494  \n",
       "25        0.228967       0.168742       0.202296       0.222579  \n",
       "26        0.308875       0.202729       0.148709       0.162913  \n",
       "27        0.195262       0.259184       0.189574       0.184315  \n",
       "28        0.204702       0.205744       0.220806       0.206326  \n",
       "29        0.184276       0.158393       0.265340       0.235362  \n",
       "..             ...            ...            ...            ...  \n",
       "138       0.399668       0.406821       0.342650       0.497262  \n",
       "139       0.400973       0.516731       0.351518       0.378603  \n",
       "140       0.476314       0.390122       0.345884       0.436352  \n",
       "141       0.331626       0.378250       0.535510       0.404217  \n",
       "142       0.425342       0.459862       0.299957       0.478032  \n",
       "143       0.447008       0.340072       0.407122       0.471533  \n",
       "144       0.502754       0.471347       0.359474       0.332584  \n",
       "145       0.429647       0.303549       0.428751       0.508287  \n",
       "146       0.435006       0.394939       0.450083       0.396939  \n",
       "147       0.416782       0.458463       0.406808       0.400165  \n",
       "148       0.491497       0.407177       0.344479       0.447936  \n",
       "149       0.418890       0.440871       0.444800       0.394638  \n",
       "150       0.486038       0.282827       0.417150       0.515353  \n",
       "151       0.415728       0.444250       0.412001       0.433452  \n",
       "152       0.346417       0.480028       0.392909       0.491447  \n",
       "153       0.477461       0.407423       0.342395       0.500418  \n",
       "154       0.459332       0.414588       0.387289       0.473306  \n",
       "155       0.412703       0.479060       0.450260       0.395589  \n",
       "156       0.507975       0.510686       0.308873       0.427498  \n",
       "157       0.443953       0.409297       0.486372       0.453287  \n",
       "158       0.379889       0.509119       0.535464       0.370200  \n",
       "159       0.572563       0.352080       0.331562       0.542927  \n",
       "160       0.474048       0.354743       0.396260       0.595567  \n",
       "161       0.457785       0.394663       0.491969       0.482515  \n",
       "162       0.487277       0.518422       0.354266       0.467519  \n",
       "163       0.494183       0.421390       0.542335       0.370180  \n",
       "164       0.473289       0.420904       0.527324       0.452170  \n",
       "165       0.410423       0.598435       0.478213       0.422548  \n",
       "166       0.342080       0.579896       0.464315       0.528327  \n",
       "167       0.427419       0.519962       0.524470       0.464448  \n",
       "\n",
       "[168 rows x 10 columns]"
      ]
     },
     "execution_count": 4,
     "metadata": {},
     "output_type": "execute_result"
    }
   ],
   "source": [
    "test_res_df_samp.sort_values(by='av_val_loss')"
   ]
  },
  {
   "cell_type": "code",
   "execution_count": 321,
   "metadata": {},
   "outputs": [],
   "source": [
    "test_res_df_samp.to_csv('Data/MLP_Gridsearch_Sampling_results.csv')"
   ]
  }
 ],
 "metadata": {
  "kernelspec": {
   "display_name": "Python 3",
   "language": "python",
   "name": "python3"
  },
  "language_info": {
   "codemirror_mode": {
    "name": "ipython",
    "version": 3
   },
   "file_extension": ".py",
   "mimetype": "text/x-python",
   "name": "python",
   "nbconvert_exporter": "python",
   "pygments_lexer": "ipython3",
   "version": "3.7.9"
  },
  "toc": {
   "base_numbering": 1,
   "nav_menu": {},
   "number_sections": true,
   "sideBar": true,
   "skip_h1_title": false,
   "title_cell": "Table of Contents",
   "title_sidebar": "Contents",
   "toc_cell": false,
   "toc_position": {},
   "toc_section_display": true,
   "toc_window_display": false
  }
 },
 "nbformat": 4,
 "nbformat_minor": 4
}
