{
 "cells": [
  {
   "cell_type": "code",
   "execution_count": 11,
   "metadata": {},
   "outputs": [],
   "source": [
    "import pandas as pd\n",
    "import numpy as np\n",
    "\n",
    "from sklearn.model_selection import train_test_split\n",
    "import torch\n",
    "import torchvision\n",
    "from torch import nn, optim\n",
    "import torch.nn.functional as F\n",
    "from torch.utils.data import DataLoader\n",
    "from torchvision import datasets, transforms\n",
    "\n",
    "import matplotlib.pyplot as plt\n",
    "import matplotlib as mpl\n",
    "\n",
    "%matplotlib inline"
   ]
  },
  {
   "cell_type": "markdown",
   "metadata": {},
   "source": [
    "# Load Dataset:"
   ]
  },
  {
   "cell_type": "code",
   "execution_count": 12,
   "metadata": {},
   "outputs": [],
   "source": [
    "for_cover = pd.read_csv('Data/covtype.csv')\n",
    "cover_dict = {1 : \"Spruce/ Fir\", 2 : \"Lodgepole Pine\", 3 : \"Ponderosa Pine\", 4 : \"Cottonwood/ Willow\", \n",
    "              5 : \"Aspen\", 6 : \"Douglas-fir\", 7 : \"Krummholz\"}\n",
    "for_cover['cover_name'] = for_cover['Cover_Type'].map(cover_dict)"
   ]
  },
  {
   "cell_type": "code",
   "execution_count": 13,
   "metadata": {},
   "outputs": [
    {
     "data": {
      "text/html": [
       "<div>\n",
       "<style scoped>\n",
       "    .dataframe tbody tr th:only-of-type {\n",
       "        vertical-align: middle;\n",
       "    }\n",
       "\n",
       "    .dataframe tbody tr th {\n",
       "        vertical-align: top;\n",
       "    }\n",
       "\n",
       "    .dataframe thead th {\n",
       "        text-align: right;\n",
       "    }\n",
       "</style>\n",
       "<table border=\"1\" class=\"dataframe\">\n",
       "  <thead>\n",
       "    <tr style=\"text-align: right;\">\n",
       "      <th></th>\n",
       "      <th>Elevation</th>\n",
       "      <th>Aspect</th>\n",
       "      <th>Slope</th>\n",
       "      <th>Horizontal_Distance_To_Hydrology</th>\n",
       "      <th>Vertical_Distance_To_Hydrology</th>\n",
       "      <th>Horizontal_Distance_To_Roadways</th>\n",
       "      <th>Hillshade_9am</th>\n",
       "      <th>Hillshade_Noon</th>\n",
       "      <th>Hillshade_3pm</th>\n",
       "      <th>Horizontal_Distance_To_Fire_Points</th>\n",
       "      <th>...</th>\n",
       "      <th>Soil_Type33</th>\n",
       "      <th>Soil_Type34</th>\n",
       "      <th>Soil_Type35</th>\n",
       "      <th>Soil_Type36</th>\n",
       "      <th>Soil_Type37</th>\n",
       "      <th>Soil_Type38</th>\n",
       "      <th>Soil_Type39</th>\n",
       "      <th>Soil_Type40</th>\n",
       "      <th>Cover_Type</th>\n",
       "      <th>cover_name</th>\n",
       "    </tr>\n",
       "  </thead>\n",
       "  <tbody>\n",
       "    <tr>\n",
       "      <th>0</th>\n",
       "      <td>2596</td>\n",
       "      <td>51</td>\n",
       "      <td>3</td>\n",
       "      <td>258</td>\n",
       "      <td>0</td>\n",
       "      <td>510</td>\n",
       "      <td>221</td>\n",
       "      <td>232</td>\n",
       "      <td>148</td>\n",
       "      <td>6279</td>\n",
       "      <td>...</td>\n",
       "      <td>0</td>\n",
       "      <td>0</td>\n",
       "      <td>0</td>\n",
       "      <td>0</td>\n",
       "      <td>0</td>\n",
       "      <td>0</td>\n",
       "      <td>0</td>\n",
       "      <td>0</td>\n",
       "      <td>5</td>\n",
       "      <td>Aspen</td>\n",
       "    </tr>\n",
       "    <tr>\n",
       "      <th>1</th>\n",
       "      <td>2590</td>\n",
       "      <td>56</td>\n",
       "      <td>2</td>\n",
       "      <td>212</td>\n",
       "      <td>-6</td>\n",
       "      <td>390</td>\n",
       "      <td>220</td>\n",
       "      <td>235</td>\n",
       "      <td>151</td>\n",
       "      <td>6225</td>\n",
       "      <td>...</td>\n",
       "      <td>0</td>\n",
       "      <td>0</td>\n",
       "      <td>0</td>\n",
       "      <td>0</td>\n",
       "      <td>0</td>\n",
       "      <td>0</td>\n",
       "      <td>0</td>\n",
       "      <td>0</td>\n",
       "      <td>5</td>\n",
       "      <td>Aspen</td>\n",
       "    </tr>\n",
       "    <tr>\n",
       "      <th>2</th>\n",
       "      <td>2804</td>\n",
       "      <td>139</td>\n",
       "      <td>9</td>\n",
       "      <td>268</td>\n",
       "      <td>65</td>\n",
       "      <td>3180</td>\n",
       "      <td>234</td>\n",
       "      <td>238</td>\n",
       "      <td>135</td>\n",
       "      <td>6121</td>\n",
       "      <td>...</td>\n",
       "      <td>0</td>\n",
       "      <td>0</td>\n",
       "      <td>0</td>\n",
       "      <td>0</td>\n",
       "      <td>0</td>\n",
       "      <td>0</td>\n",
       "      <td>0</td>\n",
       "      <td>0</td>\n",
       "      <td>2</td>\n",
       "      <td>Lodgepole Pine</td>\n",
       "    </tr>\n",
       "  </tbody>\n",
       "</table>\n",
       "<p>3 rows × 56 columns</p>\n",
       "</div>"
      ],
      "text/plain": [
       "   Elevation  Aspect  Slope  Horizontal_Distance_To_Hydrology  \\\n",
       "0       2596      51      3                               258   \n",
       "1       2590      56      2                               212   \n",
       "2       2804     139      9                               268   \n",
       "\n",
       "   Vertical_Distance_To_Hydrology  Horizontal_Distance_To_Roadways  \\\n",
       "0                               0                              510   \n",
       "1                              -6                              390   \n",
       "2                              65                             3180   \n",
       "\n",
       "   Hillshade_9am  Hillshade_Noon  Hillshade_3pm  \\\n",
       "0            221             232            148   \n",
       "1            220             235            151   \n",
       "2            234             238            135   \n",
       "\n",
       "   Horizontal_Distance_To_Fire_Points  ...  Soil_Type33  Soil_Type34  \\\n",
       "0                                6279  ...            0            0   \n",
       "1                                6225  ...            0            0   \n",
       "2                                6121  ...            0            0   \n",
       "\n",
       "   Soil_Type35  Soil_Type36  Soil_Type37  Soil_Type38  Soil_Type39  \\\n",
       "0            0            0            0            0            0   \n",
       "1            0            0            0            0            0   \n",
       "2            0            0            0            0            0   \n",
       "\n",
       "   Soil_Type40  Cover_Type      cover_name  \n",
       "0            0           5           Aspen  \n",
       "1            0           5           Aspen  \n",
       "2            0           2  Lodgepole Pine  \n",
       "\n",
       "[3 rows x 56 columns]"
      ]
     },
     "execution_count": 13,
     "metadata": {},
     "output_type": "execute_result"
    }
   ],
   "source": [
    "for_cover.head(3)"
   ]
  },
  {
   "cell_type": "markdown",
   "metadata": {},
   "source": [
    "# Splitting Train and Test Set:"
   ]
  },
  {
   "cell_type": "code",
   "execution_count": 14,
   "metadata": {},
   "outputs": [],
   "source": [
    "X = for_cover.drop(['Cover_Type', 'cover_name'], axis=1)"
   ]
  },
  {
   "cell_type": "code",
   "execution_count": 5,
   "metadata": {},
   "outputs": [],
   "source": [
    "y = for_cover['Cover_Type']"
   ]
  },
  {
   "cell_type": "code",
   "execution_count": 6,
   "metadata": {},
   "outputs": [],
   "source": [
    "# We will use the following seed to be able to replicate the randomness:\n",
    "seed = 42"
   ]
  },
  {
   "cell_type": "code",
   "execution_count": 7,
   "metadata": {},
   "outputs": [],
   "source": [
    "# We will use a random test split size of 20%, stratified to retain the same proportions of classes as the training set:\n",
    "X_train, X_test, y_train, y_test = train_test_split(X, y, test_size = 0.2, random_state=seed, stratify = y)"
   ]
  },
  {
   "cell_type": "code",
   "execution_count": 8,
   "metadata": {},
   "outputs": [
    {
     "name": "stdout",
     "output_type": "stream",
     "text": [
      "X_train Length: 464,809\n",
      "X_test Length:  116,203\n",
      "~~~~~~~~~~~~~~~~~~~~~~~~\n",
      "y_train Length: 464,809\n",
      "y_test Length:  116,203\n"
     ]
    }
   ],
   "source": [
    "print(\"X_train Length: {:,}\".format(len(X_train)))\n",
    "print(\"X_test Length:  {:,}\".format(len(X_test)))\n",
    "print(\"~~~~~~~~~~~~~~~~~~~~~~~~\")\n",
    "print(\"y_train Length: {:,}\".format(len(y_train)))\n",
    "print(\"y_test Length:  {:,}\".format(len(y_test)))"
   ]
  },
  {
   "cell_type": "code",
   "execution_count": 14,
   "metadata": {},
   "outputs": [],
   "source": [
    "# Saving Training Set and Test set:\n",
    "X_train.to_csv('Data/X_train.csv', index=False, header=True)\n",
    "X_test.to_csv('Data/X_test.csv', index=False, header=True)\n",
    "\n",
    "y_train.to_csv('Data/y_train.csv', index=False, header=False)\n",
    "y_test.to_csv('Data/y_test.csv', index=False, header=False)"
   ]
  },
  {
   "cell_type": "markdown",
   "metadata": {},
   "source": [
    "## Creating validation set to use for MLP:\n",
    "- We will separate a validation set from the training data, to use to validate our MLP model within epochs.\n",
    "- Again, the set will be stratified to ensure it contains the same proportion of target classes as the test and training set.\n"
   ]
  },
  {
   "cell_type": "code",
   "execution_count": 9,
   "metadata": {},
   "outputs": [],
   "source": [
    "X_train_mlp, X_val_mlp, y_train_mlp, y_val_mlp = train_test_split(X_train, y_train, \n",
    "                                                  test_size=0.2, stratify=y_train, random_state=seed)"
   ]
  },
  {
   "cell_type": "code",
   "execution_count": 10,
   "metadata": {},
   "outputs": [
    {
     "name": "stdout",
     "output_type": "stream",
     "text": [
      "X_train (MLP) Length: 371,847\n",
      "X_val (MLP) Length:   92,962\n",
      "~~~~~~~~~~~~~~~~~~~~~~~~\n",
      "y_train (MLP) Length: 371,847\n",
      "y_val (MLP) Length:   92,962\n"
     ]
    }
   ],
   "source": [
    "print(\"X_train (MLP) Length: {:,}\".format(len(X_train_mlp)))\n",
    "print(\"X_val (MLP) Length:   {:,}\".format(len(X_val_mlp)))\n",
    "print(\"~~~~~~~~~~~~~~~~~~~~~~~~\")\n",
    "print(\"y_train (MLP) Length: {:,}\".format(len(y_train_mlp)))\n",
    "print(\"y_val (MLP) Length:   {:,}\".format(len(y_val_mlp)))"
   ]
  },
  {
   "cell_type": "markdown",
   "metadata": {},
   "source": [
    "## Saving datasets:"
   ]
  },
  {
   "cell_type": "code",
   "execution_count": 19,
   "metadata": {},
   "outputs": [],
   "source": [
    "X_train_mlp.to_csv('Data/X_train_mlp.csv', index=False, header=True)\n",
    "X_val_mlp.to_csv('Data/X_val_mlp.csv', index=False, header=True)\n",
    "y_train_mlp.to_csv('Data/y_train_mlp.csv', index=False, header=False)\n",
    "y_val_mlp.to_csv('Data/y_val_mlp.csv', index=False, header=False)"
   ]
  },
  {
   "cell_type": "markdown",
   "metadata": {},
   "source": [
    "# Plot showing class distribution across training and test sets:"
   ]
  },
  {
   "cell_type": "code",
   "execution_count": 17,
   "metadata": {},
   "outputs": [
    {
     "data": {
      "image/png": "[encoded data removed]",
      "text/plain": [
       "<Figure size 1152x288 with 3 Axes>"
      ]
     },
     "metadata": {
      "needs_background": "light"
     },
     "output_type": "display_data"
    }
   ],
   "source": [
    "fig, ax = plt.subplots(1, 3, figsize=(16,4))\n",
    "plt.rcParams['axes.facecolor'] = 'white'\n",
    "colors = ['darkgreen', 'darkkhaki', 'lightblue', 'olive', 'mediumseagreen', 'salmon', 'rosybrown']\n",
    "y_train_counts = y_train_mlp.value_counts().reset_index().rename(columns={'index': 'cover_num'}).sort_values('cover_num')\n",
    "y_val_counts = y_val_mlp.value_counts().reset_index().rename(columns={'index': 'cover_num'}).sort_values('cover_num')\n",
    "y_test_counts = y_test.value_counts().reset_index().rename(columns={'index': 'cover_num'}).sort_values('cover_num')\n",
    "\n",
    "bars = ax[0].bar(y_train_counts.cover_num, y_train_counts.Cover_Type)\n",
    "bars1 = ax[1].bar(y_val_counts.cover_num, y_val_counts.Cover_Type)\n",
    "bars2 = ax[2].bar(y_test_counts.cover_num, y_test_counts.Cover_Type)\n",
    "\n",
    "# Setting bar colour individually:\n",
    "for i in range (len(y_train_counts.cover_num)):\n",
    "    bars[i].set_color(colors[i])\n",
    "    bars1[i].set_color(colors[i])\n",
    "    bars2[i].set_color(colors[i])\n",
    "\n",
    "tt = [\"Training\", \"Validation\", \"Test\"]\n",
    "for i in range(3):\n",
    "    ax[i].set_title('%s Set - Distribution of Class Types' % (tt[i]), fontweight = 'bold')\n",
    "    # Including comma's for y axis labels - source (https://stackoverflow.com/questions/25973581/how-do-i-format-axis-number-format-to-thousands-with-a-comma-in-matplotlib/46574866)\n",
    "    ax[i].yaxis.set_major_formatter(mpl.ticker.StrMethodFormatter('{x:,.0f}'))\n",
    "    ax[i].tick_params(axis=u'both', which=u'both',length=0) \n",
    "    ax[i].set_xlabel(\"Target Class Labels\", fontweight = 'bold')\n",
    "    ax[i].grid(\"\")\n",
    "    \n",
    "plt.show()"
   ]
  }
 ],
 "metadata": {
  "kernelspec": {
   "display_name": "Python 3",
   "language": "python",
   "name": "python3"
  },
  "language_info": {
   "codemirror_mode": {
    "name": "ipython",
    "version": 3
   },
   "file_extension": ".py",
   "mimetype": "text/x-python",
   "name": "python",
   "nbconvert_exporter": "python",
   "pygments_lexer": "ipython3",
   "version": "3.7.9"
  },
  "toc": {
   "base_numbering": 1,
   "nav_menu": {},
   "number_sections": true,
   "sideBar": true,
   "skip_h1_title": false,
   "title_cell": "Table of Contents",
   "title_sidebar": "Contents",
   "toc_cell": false,
   "toc_position": {},
   "toc_section_display": true,
   "toc_window_display": true
  }
 },
 "nbformat": 4,
 "nbformat_minor": 4
}
