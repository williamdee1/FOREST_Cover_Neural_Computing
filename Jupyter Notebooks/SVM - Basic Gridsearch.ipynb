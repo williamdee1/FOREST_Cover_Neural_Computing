{
 "cells": [
  {
   "cell_type": "code",
   "execution_count": 1,
   "metadata": {},
   "outputs": [],
   "source": [
    "import numpy as np\n",
    "import pandas as pd\n",
    "import time\n",
    "\n",
    "from sklearn.metrics import confusion_matrix\n",
    "from sklearn.model_selection import train_test_split\n",
    "from sklearn.preprocessing import MinMaxScaler\n",
    "from sklearn import svm\n",
    "from sklearn import metrics\n",
    "from sklearn.model_selection import GridSearchCV, RandomizedSearchCV \n",
    "from sklearn.metrics import make_scorer, accuracy_score, f1_score\n",
    "from scipy import stats\n",
    "\n",
    "import seaborn as sns\n",
    "import matplotlib.pyplot as plt\n",
    "%matplotlib inline"
   ]
  },
  {
   "cell_type": "markdown",
   "metadata": {},
   "source": [
    "# Hyperparameter Search:"
   ]
  },
  {
   "cell_type": "code",
   "execution_count": 2,
   "metadata": {},
   "outputs": [],
   "source": [
    "# Training Set:\n",
    "X_train = pd.read_csv('Data/X_train.csv')\n",
    "y_train = pd.read_csv('Data/y_train.csv', header=None)"
   ]
  },
  {
   "cell_type": "code",
   "execution_count": 3,
   "metadata": {},
   "outputs": [
    {
     "data": {
      "text/html": [
       "<div>\n",
       "<style scoped>\n",
       "    .dataframe tbody tr th:only-of-type {\n",
       "        vertical-align: middle;\n",
       "    }\n",
       "\n",
       "    .dataframe tbody tr th {\n",
       "        vertical-align: top;\n",
       "    }\n",
       "\n",
       "    .dataframe thead th {\n",
       "        text-align: right;\n",
       "    }\n",
       "</style>\n",
       "<table border=\"1\" class=\"dataframe\">\n",
       "  <thead>\n",
       "    <tr style=\"text-align: right;\">\n",
       "      <th></th>\n",
       "      <th>Elevation</th>\n",
       "      <th>Aspect</th>\n",
       "      <th>Slope</th>\n",
       "      <th>Horizontal_Distance_To_Hydrology</th>\n",
       "      <th>Vertical_Distance_To_Hydrology</th>\n",
       "      <th>Horizontal_Distance_To_Roadways</th>\n",
       "      <th>Hillshade_9am</th>\n",
       "      <th>Hillshade_Noon</th>\n",
       "      <th>Hillshade_3pm</th>\n",
       "      <th>Horizontal_Distance_To_Fire_Points</th>\n",
       "      <th>...</th>\n",
       "      <th>Soil_Type31</th>\n",
       "      <th>Soil_Type32</th>\n",
       "      <th>Soil_Type33</th>\n",
       "      <th>Soil_Type34</th>\n",
       "      <th>Soil_Type35</th>\n",
       "      <th>Soil_Type36</th>\n",
       "      <th>Soil_Type37</th>\n",
       "      <th>Soil_Type38</th>\n",
       "      <th>Soil_Type39</th>\n",
       "      <th>Soil_Type40</th>\n",
       "    </tr>\n",
       "  </thead>\n",
       "  <tbody>\n",
       "    <tr>\n",
       "      <th>0</th>\n",
       "      <td>3171</td>\n",
       "      <td>179</td>\n",
       "      <td>20</td>\n",
       "      <td>270</td>\n",
       "      <td>48</td>\n",
       "      <td>2758</td>\n",
       "      <td>223</td>\n",
       "      <td>248</td>\n",
       "      <td>147</td>\n",
       "      <td>3194</td>\n",
       "      <td>...</td>\n",
       "      <td>0</td>\n",
       "      <td>0</td>\n",
       "      <td>0</td>\n",
       "      <td>0</td>\n",
       "      <td>0</td>\n",
       "      <td>0</td>\n",
       "      <td>0</td>\n",
       "      <td>0</td>\n",
       "      <td>0</td>\n",
       "      <td>0</td>\n",
       "    </tr>\n",
       "    <tr>\n",
       "      <th>1</th>\n",
       "      <td>3067</td>\n",
       "      <td>203</td>\n",
       "      <td>26</td>\n",
       "      <td>0</td>\n",
       "      <td>0</td>\n",
       "      <td>3396</td>\n",
       "      <td>198</td>\n",
       "      <td>252</td>\n",
       "      <td>176</td>\n",
       "      <td>792</td>\n",
       "      <td>...</td>\n",
       "      <td>0</td>\n",
       "      <td>0</td>\n",
       "      <td>1</td>\n",
       "      <td>0</td>\n",
       "      <td>0</td>\n",
       "      <td>0</td>\n",
       "      <td>0</td>\n",
       "      <td>0</td>\n",
       "      <td>0</td>\n",
       "      <td>0</td>\n",
       "    </tr>\n",
       "    <tr>\n",
       "      <th>2</th>\n",
       "      <td>3382</td>\n",
       "      <td>335</td>\n",
       "      <td>4</td>\n",
       "      <td>162</td>\n",
       "      <td>23</td>\n",
       "      <td>3445</td>\n",
       "      <td>211</td>\n",
       "      <td>234</td>\n",
       "      <td>162</td>\n",
       "      <td>2259</td>\n",
       "      <td>...</td>\n",
       "      <td>0</td>\n",
       "      <td>0</td>\n",
       "      <td>0</td>\n",
       "      <td>0</td>\n",
       "      <td>1</td>\n",
       "      <td>0</td>\n",
       "      <td>0</td>\n",
       "      <td>0</td>\n",
       "      <td>0</td>\n",
       "      <td>0</td>\n",
       "    </tr>\n",
       "  </tbody>\n",
       "</table>\n",
       "<p>3 rows × 54 columns</p>\n",
       "</div>"
      ],
      "text/plain": [
       "   Elevation  Aspect  Slope  Horizontal_Distance_To_Hydrology  \\\n",
       "0       3171     179     20                               270   \n",
       "1       3067     203     26                                 0   \n",
       "2       3382     335      4                               162   \n",
       "\n",
       "   Vertical_Distance_To_Hydrology  Horizontal_Distance_To_Roadways  \\\n",
       "0                              48                             2758   \n",
       "1                               0                             3396   \n",
       "2                              23                             3445   \n",
       "\n",
       "   Hillshade_9am  Hillshade_Noon  Hillshade_3pm  \\\n",
       "0            223             248            147   \n",
       "1            198             252            176   \n",
       "2            211             234            162   \n",
       "\n",
       "   Horizontal_Distance_To_Fire_Points  ...  Soil_Type31  Soil_Type32  \\\n",
       "0                                3194  ...            0            0   \n",
       "1                                 792  ...            0            0   \n",
       "2                                2259  ...            0            0   \n",
       "\n",
       "   Soil_Type33  Soil_Type34  Soil_Type35  Soil_Type36  Soil_Type37  \\\n",
       "0            0            0            0            0            0   \n",
       "1            1            0            0            0            0   \n",
       "2            0            0            1            0            0   \n",
       "\n",
       "   Soil_Type38  Soil_Type39  Soil_Type40  \n",
       "0            0            0            0  \n",
       "1            0            0            0  \n",
       "2            0            0            0  \n",
       "\n",
       "[3 rows x 54 columns]"
      ]
     },
     "execution_count": 3,
     "metadata": {},
     "output_type": "execute_result"
    }
   ],
   "source": [
    "X_train.head(3)"
   ]
  },
  {
   "cell_type": "code",
   "execution_count": 4,
   "metadata": {},
   "outputs": [],
   "source": [
    "# Definining Scaler:\n",
    "scaler = MinMaxScaler()\n",
    "\n",
    "# Fitting scaler on X_train (which also converts to an array):\n",
    "X_train = scaler.fit_transform(X_train)"
   ]
  },
  {
   "cell_type": "code",
   "execution_count": 5,
   "metadata": {},
   "outputs": [
    {
     "data": {
      "text/plain": [
       "2    226640\n",
       "1    169472\n",
       "3     28603\n",
       "7     16408\n",
       "6     13894\n",
       "5      7594\n",
       "4      2198\n",
       "Name: 0, dtype: int64"
      ]
     },
     "execution_count": 5,
     "metadata": {},
     "output_type": "execute_result"
    }
   ],
   "source": [
    "y_train[0].value_counts()"
   ]
  },
  {
   "cell_type": "code",
   "execution_count": 6,
   "metadata": {},
   "outputs": [],
   "source": [
    "# Converting y_train into an array:\n",
    "y_train = np.array(y_train[0])"
   ]
  },
  {
   "cell_type": "code",
   "execution_count": 7,
   "metadata": {},
   "outputs": [
    {
     "data": {
      "text/plain": [
       "464809"
      ]
     },
     "execution_count": 7,
     "metadata": {},
     "output_type": "execute_result"
    }
   ],
   "source": [
    "len(X_train)"
   ]
  },
  {
   "cell_type": "code",
   "execution_count": 8,
   "metadata": {},
   "outputs": [
    {
     "data": {
      "text/plain": [
       "464809"
      ]
     },
     "execution_count": 8,
     "metadata": {},
     "output_type": "execute_result"
    }
   ],
   "source": [
    "len(y_train)"
   ]
  },
  {
   "cell_type": "markdown",
   "metadata": {},
   "source": [
    "# Define Classifier:"
   ]
  },
  {
   "cell_type": "code",
   "execution_count": 12,
   "metadata": {},
   "outputs": [],
   "source": [
    "seed = 42"
   ]
  },
  {
   "cell_type": "code",
   "execution_count": 10,
   "metadata": {},
   "outputs": [],
   "source": [
    "# RANDOM SEARCH FOR COMBINATIONS OF PARAMETERS\n",
    "rand_list = {\"C\": stats.expon(scale=50),\n",
    "             \"gamma\": stats.uniform(0.1, 0.99)}"
   ]
  },
  {
   "cell_type": "code",
   "execution_count": 110,
   "metadata": {},
   "outputs": [
    {
     "name": "stdout",
     "output_type": "stream",
     "text": [
      "Time taken for Grid Search loop:  2308.882013320923\n",
      "Time taken for Grid Search loop:  1110.4007375240326\n",
      "Time taken for Grid Search loop:  9625.278460502625\n",
      "Time taken for Grid Search loop:  1149.2336256504059\n"
     ]
    }
   ],
   "source": [
    "######## RANDOM SEARCH ########\n",
    "\n",
    "kern_types = ['linear','sigmoid', 'poly', 'rbf']    \n",
    "iters = 20\n",
    "\n",
    "eval_metric = make_scorer(accuracy_score)\n",
    "\n",
    "\n",
    "# Creating an empty array to hold results:\n",
    "test_results = np.zeros((iters*len(kern_types), 5))\n",
    "\n",
    "\n",
    "# Using train-test split to split out a random, stratified 10% portion of the training data to grid search:\n",
    "X_gs, X_leave, y_gs, y_leave = train_test_split(X_train, y_train, \n",
    "                                                test_size = 0.9,    # Inverse of the size of the data to search\n",
    "                                                stratify = y_train,  # Keeping same proportion of target classes\n",
    "                                               random_state = seed) \n",
    "\n",
    "for i in range(len(kern_types)):\n",
    "    # Defining the model, looping through the list of available kernels:\n",
    "    svm_model = svm.SVC(kernel=kern_types[i])\n",
    "\n",
    "    start = time.time()\n",
    "    # Setting the random search parameters:\n",
    "    rand_search = RandomizedSearchCV(svm_model, \n",
    "                                     param_distributions = rand_list, # Sets to params specified above \n",
    "                                     n_iter = iters,                  # No. sampled parameter settings, 10 = default\n",
    "                                     n_jobs = -1,                     # Set to -1 to use all available CPU processors\n",
    "                                     cv = 4,                          # Cross-validation folds\n",
    "                                     scoring = eval_metric)           # Scoring metric chosen\n",
    "\n",
    "    # Fitting the random search to the subsetted data:\n",
    "    rand_search.fit(X_gs, y_gs)\n",
    "\n",
    "    # CV Results\n",
    "    cv_res = rand_search.cv_results_\n",
    "\n",
    "\n",
    "    # Appending Results:\n",
    "    test_results[i*iters: (i+1)*iters, 1] = cv_res['mean_test_score']\n",
    "    test_results[i*iters: (i+1)*iters, 2] = cv_res['mean_fit_time']\n",
    "    test_results[i*iters: (i+1)*iters, 3] = [d['C'] for d in rand_search.cv_results_['params']]\n",
    "    test_results[i*iters: (i+1)*iters, 4] = [d['gamma'] for d in rand_search.cv_results_['params']]\n",
    "\n",
    "    end = time.time()\n",
    "    time_taken = end - start\n",
    "\n",
    "    print(\"Time taken for Grid Search loop: \", time_taken)\n",
    "\n"
   ]
  },
  {
   "cell_type": "markdown",
   "metadata": {},
   "source": [
    "# Converting Results to Dataframe and Saving Csv:"
   ]
  },
  {
   "cell_type": "code",
   "execution_count": 107,
   "metadata": {},
   "outputs": [],
   "source": [
    "def convert_res(results):\n",
    "    df = pd.DataFrame(results, columns=['name', 'mean_score', 'mean_fit_time', 'param_C', 'param_gamma'])\n",
    "    for i in range(len(kern_types)):\n",
    "        df['name'][i*iters:(i+1)*iters] = kern_types[i]\n",
    "\n",
    "    return df"
   ]
  },
  {
   "cell_type": "code",
   "execution_count": 111,
   "metadata": {},
   "outputs": [],
   "source": [
    "results_df = convert_res(test_results)"
   ]
  },
  {
   "cell_type": "code",
   "execution_count": 15,
   "metadata": {},
   "outputs": [
    {
     "data": {
      "text/html": [
       "<div>\n",
       "<style scoped>\n",
       "    .dataframe tbody tr th:only-of-type {\n",
       "        vertical-align: middle;\n",
       "    }\n",
       "\n",
       "    .dataframe tbody tr th {\n",
       "        vertical-align: top;\n",
       "    }\n",
       "\n",
       "    .dataframe thead th {\n",
       "        text-align: right;\n",
       "    }\n",
       "</style>\n",
       "<table border=\"1\" class=\"dataframe\">\n",
       "  <thead>\n",
       "    <tr style=\"text-align: right;\">\n",
       "      <th></th>\n",
       "      <th>name</th>\n",
       "      <th>mean_score</th>\n",
       "      <th>mean_fit_time</th>\n",
       "      <th>param_C</th>\n",
       "      <th>param_gamma</th>\n",
       "    </tr>\n",
       "  </thead>\n",
       "  <tbody>\n",
       "    <tr>\n",
       "      <th>66</th>\n",
       "      <td>rbf</td>\n",
       "      <td>0.819836</td>\n",
       "      <td>213.773285</td>\n",
       "      <td>108.922825</td>\n",
       "      <td>0.987901</td>\n",
       "    </tr>\n",
       "    <tr>\n",
       "      <th>67</th>\n",
       "      <td>rbf</td>\n",
       "      <td>0.816050</td>\n",
       "      <td>208.640711</td>\n",
       "      <td>106.959446</td>\n",
       "      <td>0.851896</td>\n",
       "    </tr>\n",
       "    <tr>\n",
       "      <th>60</th>\n",
       "      <td>rbf</td>\n",
       "      <td>0.812801</td>\n",
       "      <td>226.951448</td>\n",
       "      <td>177.991492</td>\n",
       "      <td>0.610313</td>\n",
       "    </tr>\n",
       "    <tr>\n",
       "      <th>40</th>\n",
       "      <td>poly</td>\n",
       "      <td>0.811768</td>\n",
       "      <td>4074.293481</td>\n",
       "      <td>183.404385</td>\n",
       "      <td>1.010411</td>\n",
       "    </tr>\n",
       "    <tr>\n",
       "      <th>62</th>\n",
       "      <td>rbf</td>\n",
       "      <td>0.811360</td>\n",
       "      <td>185.002533</td>\n",
       "      <td>74.745104</td>\n",
       "      <td>0.829911</td>\n",
       "    </tr>\n",
       "    <tr>\n",
       "      <th>75</th>\n",
       "      <td>rbf</td>\n",
       "      <td>0.809897</td>\n",
       "      <td>186.730004</td>\n",
       "      <td>75.428172</td>\n",
       "      <td>0.774827</td>\n",
       "    </tr>\n",
       "    <tr>\n",
       "      <th>73</th>\n",
       "      <td>rbf</td>\n",
       "      <td>0.809660</td>\n",
       "      <td>189.942740</td>\n",
       "      <td>73.857453</td>\n",
       "      <td>0.773336</td>\n",
       "    </tr>\n",
       "    <tr>\n",
       "      <th>42</th>\n",
       "      <td>poly</td>\n",
       "      <td>0.808842</td>\n",
       "      <td>2182.817651</td>\n",
       "      <td>61.774699</td>\n",
       "      <td>1.088295</td>\n",
       "    </tr>\n",
       "    <tr>\n",
       "      <th>72</th>\n",
       "      <td>rbf</td>\n",
       "      <td>0.808391</td>\n",
       "      <td>179.107991</td>\n",
       "      <td>60.835432</td>\n",
       "      <td>0.794658</td>\n",
       "    </tr>\n",
       "    <tr>\n",
       "      <th>63</th>\n",
       "      <td>rbf</td>\n",
       "      <td>0.806411</td>\n",
       "      <td>172.883391</td>\n",
       "      <td>61.956224</td>\n",
       "      <td>0.743720</td>\n",
       "    </tr>\n",
       "  </tbody>\n",
       "</table>\n",
       "</div>"
      ],
      "text/plain": [
       "    name  mean_score  mean_fit_time     param_C  param_gamma\n",
       "66   rbf    0.819836     213.773285  108.922825     0.987901\n",
       "67   rbf    0.816050     208.640711  106.959446     0.851896\n",
       "60   rbf    0.812801     226.951448  177.991492     0.610313\n",
       "40  poly    0.811768    4074.293481  183.404385     1.010411\n",
       "62   rbf    0.811360     185.002533   74.745104     0.829911\n",
       "75   rbf    0.809897     186.730004   75.428172     0.774827\n",
       "73   rbf    0.809660     189.942740   73.857453     0.773336\n",
       "42  poly    0.808842    2182.817651   61.774699     1.088295\n",
       "72   rbf    0.808391     179.107991   60.835432     0.794658\n",
       "63   rbf    0.806411     172.883391   61.956224     0.743720"
      ]
     },
     "execution_count": 15,
     "metadata": {},
     "output_type": "execute_result"
    }
   ],
   "source": [
    "results_df.sort_values(by = 'mean_score', ascending=False).head(10)"
   ]
  },
  {
   "cell_type": "code",
   "execution_count": 114,
   "metadata": {},
   "outputs": [],
   "source": [
    "#results_df.to_csv('Data/SVM_Gridsearch_Results.csv')"
   ]
  },
  {
   "cell_type": "code",
   "execution_count": 17,
   "metadata": {},
   "outputs": [
    {
     "data": {
      "text/plain": [
       "80"
      ]
     },
     "execution_count": 17,
     "metadata": {},
     "output_type": "execute_result"
    }
   ],
   "source": [
    "len(results_df)"
   ]
  },
  {
   "cell_type": "markdown",
   "metadata": {},
   "source": [
    "# Comparing Linear SVC:"
   ]
  },
  {
   "cell_type": "code",
   "execution_count": 11,
   "metadata": {},
   "outputs": [],
   "source": [
    "# RANDOM SEARCH FOR C PARAM - No Gamma param for linear kernels:\n",
    "rand_list_lin = {\"C\": stats.expon(scale=50)}"
   ]
  },
  {
   "cell_type": "code",
   "execution_count": 19,
   "metadata": {},
   "outputs": [
    {
     "name": "stdout",
     "output_type": "stream",
     "text": [
      "Time taken for Grid Search loop:  248.7047634124756\n"
     ]
    }
   ],
   "source": [
    "# Comparison of Linear SVC to the Gridsearch times and accuracies above:\n",
    "\n",
    "# Setting Static Variables\n",
    "iters = 20\n",
    "eval_metric = make_scorer(accuracy_score)\n",
    "\n",
    "# Creating an empty array to hold results:\n",
    "test_results = np.zeros((iters, 3))\n",
    "\n",
    "# Using train-test split to split out a random, stratified 10% portion of the training data to grid search:\n",
    "X_gs, X_leave, y_gs, y_leave = train_test_split(X_train, y_train, \n",
    "                                                test_size = 0.9,    # Inverse of the size of the data to search\n",
    "                                                stratify = y_train,  # Keeping same proportion of target classes\n",
    "                                               random_state = seed) \n",
    "\n",
    "# Defining the model\n",
    "svm_lin_model = svm.LinearSVC()\n",
    "\n",
    "start = time.time()\n",
    "# Setting the random search parameters:\n",
    "rand_search = RandomizedSearchCV(svm_lin_model, \n",
    "                                 param_distributions = rand_list_lin, # Sets to params specified above \n",
    "                                 n_iter = iters,                  # No. sampled parameter settings, 10 = default\n",
    "                                 n_jobs = -1,                     # Set to -1 to use all available CPU processors\n",
    "                                 cv = 4,                          # Cross-validation folds\n",
    "                                 scoring = eval_metric)           # Scoring metric chosen\n",
    "\n",
    "# Fitting the random search to the subsetted data:\n",
    "rand_search.fit(X_gs, y_gs)\n",
    "\n",
    "# CV Results\n",
    "cv_res = rand_search.cv_results_\n",
    "\n",
    "# Appending Results:\n",
    "test_results[0: iters, 0] = cv_res['mean_test_score']\n",
    "test_results[0: iters, 1] = cv_res['mean_fit_time']\n",
    "test_results[0: iters, 2] = [d['C'] for d in rand_search.cv_results_['params']]\n",
    "\n",
    "end = time.time()\n",
    "time_taken = end - start\n",
    "\n",
    "print(\"Time taken for Grid Search loop: \", time_taken)"
   ]
  },
  {
   "cell_type": "code",
   "execution_count": 21,
   "metadata": {},
   "outputs": [],
   "source": [
    "linearSVC_df = pd.DataFrame(test_results, columns=['mean_score', 'mean_fit_time', 'param_C'])"
   ]
  },
  {
   "cell_type": "code",
   "execution_count": 23,
   "metadata": {},
   "outputs": [
    {
     "data": {
      "text/html": [
       "<div>\n",
       "<style scoped>\n",
       "    .dataframe tbody tr th:only-of-type {\n",
       "        vertical-align: middle;\n",
       "    }\n",
       "\n",
       "    .dataframe tbody tr th {\n",
       "        vertical-align: top;\n",
       "    }\n",
       "\n",
       "    .dataframe thead th {\n",
       "        text-align: right;\n",
       "    }\n",
       "</style>\n",
       "<table border=\"1\" class=\"dataframe\">\n",
       "  <thead>\n",
       "    <tr style=\"text-align: right;\">\n",
       "      <th></th>\n",
       "      <th>mean_score</th>\n",
       "      <th>mean_fit_time</th>\n",
       "      <th>param_C</th>\n",
       "    </tr>\n",
       "  </thead>\n",
       "  <tbody>\n",
       "    <tr>\n",
       "      <th>7</th>\n",
       "      <td>0.714393</td>\n",
       "      <td>32.686381</td>\n",
       "      <td>13.789707</td>\n",
       "    </tr>\n",
       "    <tr>\n",
       "      <th>16</th>\n",
       "      <td>0.714049</td>\n",
       "      <td>33.319493</td>\n",
       "      <td>13.452727</td>\n",
       "    </tr>\n",
       "    <tr>\n",
       "      <th>1</th>\n",
       "      <td>0.714028</td>\n",
       "      <td>35.119810</td>\n",
       "      <td>21.855043</td>\n",
       "    </tr>\n",
       "    <tr>\n",
       "      <th>0</th>\n",
       "      <td>0.713834</td>\n",
       "      <td>36.482925</td>\n",
       "      <td>27.935964</td>\n",
       "    </tr>\n",
       "    <tr>\n",
       "      <th>2</th>\n",
       "      <td>0.713769</td>\n",
       "      <td>38.151093</td>\n",
       "      <td>31.716857</td>\n",
       "    </tr>\n",
       "    <tr>\n",
       "      <th>12</th>\n",
       "      <td>0.713705</td>\n",
       "      <td>31.240626</td>\n",
       "      <td>8.563421</td>\n",
       "    </tr>\n",
       "    <tr>\n",
       "      <th>8</th>\n",
       "      <td>0.713597</td>\n",
       "      <td>35.687535</td>\n",
       "      <td>27.275310</td>\n",
       "    </tr>\n",
       "    <tr>\n",
       "      <th>13</th>\n",
       "      <td>0.713576</td>\n",
       "      <td>24.162505</td>\n",
       "      <td>4.401400</td>\n",
       "    </tr>\n",
       "    <tr>\n",
       "      <th>5</th>\n",
       "      <td>0.713490</td>\n",
       "      <td>23.315981</td>\n",
       "      <td>4.289423</td>\n",
       "    </tr>\n",
       "    <tr>\n",
       "      <th>4</th>\n",
       "      <td>0.712995</td>\n",
       "      <td>36.640827</td>\n",
       "      <td>32.181676</td>\n",
       "    </tr>\n",
       "  </tbody>\n",
       "</table>\n",
       "</div>"
      ],
      "text/plain": [
       "    mean_score  mean_fit_time    param_C\n",
       "7     0.714393      32.686381  13.789707\n",
       "16    0.714049      33.319493  13.452727\n",
       "1     0.714028      35.119810  21.855043\n",
       "0     0.713834      36.482925  27.935964\n",
       "2     0.713769      38.151093  31.716857\n",
       "12    0.713705      31.240626   8.563421\n",
       "8     0.713597      35.687535  27.275310\n",
       "13    0.713576      24.162505   4.401400\n",
       "5     0.713490      23.315981   4.289423\n",
       "4     0.712995      36.640827  32.181676"
      ]
     },
     "execution_count": 23,
     "metadata": {},
     "output_type": "execute_result"
    }
   ],
   "source": [
    "linearSVC_df.sort_values(by = 'mean_score', ascending=False).head(10)"
   ]
  },
  {
   "cell_type": "code",
   "execution_count": 24,
   "metadata": {},
   "outputs": [],
   "source": [
    "linearSVC_df.to_csv('Data/SVM_LinearSVC_Results.csv')"
   ]
  }
 ],
 "metadata": {
  "kernelspec": {
   "display_name": "Python 3",
   "language": "python",
   "name": "python3"
  },
  "language_info": {
   "codemirror_mode": {
    "name": "ipython",
    "version": 3
   },
   "file_extension": ".py",
   "mimetype": "text/x-python",
   "name": "python",
   "nbconvert_exporter": "python",
   "pygments_lexer": "ipython3",
   "version": "3.7.9"
  },
  "toc": {
   "base_numbering": 1,
   "nav_menu": {},
   "number_sections": true,
   "sideBar": true,
   "skip_h1_title": false,
   "title_cell": "Table of Contents",
   "title_sidebar": "Contents",
   "toc_cell": false,
   "toc_position": {},
   "toc_section_display": true,
   "toc_window_display": true
  }
 },
 "nbformat": 4,
 "nbformat_minor": 4
}
